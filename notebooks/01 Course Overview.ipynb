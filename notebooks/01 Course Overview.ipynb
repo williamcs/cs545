{
 "cells": [
  {
   "cell_type": "markdown",
   "metadata": {
    "slideshow": {
     "slide_type": "subslide"
    }
   },
   "source": [
    "# Course Overview"
   ]
  },
  {
   "cell_type": "markdown",
   "metadata": {
    "slideshow": {
     "slide_type": "slide"
    }
   },
   "source": [
    "**Objectives of Machine Learning**\n",
    "\n",
    "*Making the simple complicated is commonplace; making the complicated\n",
    "simple, awesomely simple, that's creativity.* --[Charles Mingus](http://en.wikiquote.org/wiki/Charles_Mingus)\n",
    "\n",
    "Given some data, as samples of variables/attributes/features/measurements:\n",
    "\n",
    "  * **find**: outliers, anomolies, redundant variables\n",
    "  * **explain**: relationships, dependencies\n",
    "  * **predict**: some variables from others\n",
    "  * **classify**: samples into categories\n",
    "  * **control**: by selecting actions in sequence that optimize performance"
   ]
  },
  {
   "cell_type": "markdown",
   "metadata": {
    "slideshow": {
     "slide_type": "slide"
    }
   },
   "source": [
    "** Your Objectives in Class **\n",
    "\n",
    "  * Develop intuition for finding patterns in data.\n",
    "  * Learn concepts and algorithms in machine learning research.\n",
    "  * Learn to program in python.\n",
    "  * Implement many common machine learning algorithms in python.\n",
    "  * Write python code to apply algorithms to various data sets.\n",
    "  * Use python to analyze and visualize results.\n",
    "  * Learn to write scientific papers in LaTeX with graphics from python.\n",
    "  * Learn to do machine learning research by asking and answering questions about your data and  results."
   ]
  },
  {
   "cell_type": "markdown",
   "metadata": {
    "slideshow": {
     "slide_type": "slide"
    }
   },
   "source": [
    "**Tools**\n",
    "\n",
    "* Python\n",
    "    * *ipython* interpreter, for incremental code development\n",
    "    * *numpy* for matrices\n",
    "    * *matplotlib* for visualization\n",
    "    * distributed computing\n",
    "    * fast emough\n",
    "    * [popular](http://spectrum.ieee.org/computing/software/top-10-programming-languages), huge community\n",
    "    * [ipython notebook](http://ipython.org/notebook)\n",
    "* LaTeX\n",
    "    * programming language for documents\n",
    "    * publication quality, better than word"
   ]
  },
  {
   "cell_type": "markdown",
   "metadata": {
    "slideshow": {
     "slide_type": "slide"
    }
   },
   "source": [
    "**Skills You Will Learn** or **Steps You Will Do For Each Assignment**\n",
    "\n",
    "* Python and LaTeX\n",
    "* Talk with expert. Understand current practice for their data analysis problem.\n",
    "* Read data.\n",
    "* Visualize it. Ask questions about it.\n",
    "* Create simple model first. \n",
    "* Discuss result with expert. Verify that you understand the goal.\n",
    "* Try more complex models.  Fairly and honestly compare results.\n",
    "* Write up problem description, current approaches, experiment methods and results, discussion, conclusion, in scientific report that has\n",
    "  * intuitive organization\n",
    "    * no more than two levels of headings\n",
    "    * short but meaningful section names\n",
    "  * quality writing\n",
    "    * no misspellings\n",
    "    * good english grammar\n",
    "    * well-formatted math\n",
    "  * understandable graphics\n",
    "    * intuitive plots, all axes labelled\n",
    "\n",
    "Maintain a lab notebook, either hand written or on the computer. Include enough detail to repeat the experiments and to write a paper for publication.  Ideally, try some *literate programming* using ipython notebooks:\n",
    "\n",
    "  * [Literate computing\" and computational reproducibility: IPython in the age of data-driven journalism](http://nbviewer.ipython.org/github/fperez/blog/blob/master/130418-Data-driven%20journalism.ipynb#\"Literate-computing\"-and-computational-reproducibility:-IPython-in-the-age-of-data-driven-journalism), by Fernando Perez \n",
    "  * [Reproducible research, literate programming, IPython, and GitHub](http://peterwittek.com/2014/05/reproducible-research-literate-programming-ipython-and-github/), by Peter Wittek, published May 16th, 2014."
   ]
  },
  {
   "cell_type": "markdown",
   "metadata": {
    "slideshow": {
     "slide_type": "slide"
    }
   },
   "source": [
    "**Assignments**\n",
    "\n",
    "\n",
    "  * About 7 assignments. Same ones for on and off-campus students.\n",
    "  * Implement a machine learning algorithm in python\n",
    "  * Apply it to a given data set\n",
    "  *  Write a report in Latex describing\n",
    "    * data and machine learning problem being addressed,\n",
    "    * method you followed, including summary of python code and resources you used,\n",
    "    *  results described with figures and explanations in text,\n",
    "    *  discussion of the results, including your observations and questions you have,\n",
    "    *  attempts to answer some of the questions if you have time with further experiments\n",
    "  * The last assignment will be of your own design.\n"
   ]
  },
  {
   "cell_type": "markdown",
   "metadata": {
    "slideshow": {
     "slide_type": "slide"
    }
   },
   "source": [
    "**The Power of Statistics and Visualization**\n",
    "\n",
    "Simple analysis and dynamic visualization can lead to tremendous\n",
    "insight with little effort.  For example, take the time to watch the\n",
    "video at ted.com by Hans Rosling: \n",
    "\n",
    "[Talk by Hans Rosling](http://www.ted.com/talks/hans_rosling_shows_the_best_stats_you_ve_ever_seen.html)\n",
    "\n",
    "The first two steps to a data analysis problem should always be:\n",
    "\n",
    "  - read data into python, summarize and visualize the data until you have a sense of\n",
    "    * number of samples and attributes\n",
    "    * types of attributes and ranges of values\n",
    "    * any missing attribute values\n",
    "  - list the initial set of questions to be answered about the data and guess at possible answers (hypotheses), based on your summaries and visualizations.\n",
    "\n",
    "These steps are often ignored, or not given enough attention.\n"
   ]
  },
  {
   "cell_type": "markdown",
   "metadata": {
    "slideshow": {
     "slide_type": "slide"
    }
   },
   "source": [
    "**Examples of Kinds of Problems We Will Study**\n",
    "\n",
    "  * Given a bunch of images of hand-drawn digits, learn a mapping from image to digit (0 - 9) and test it on new images.  (supervised learning: classification)\n",
    "  * Given a set of attributes (measurements) of a lot of automobiles, including their miles-per-gallon (mpg), learn a function of all attributes except mpg that predicts the mpg. (supervised learning: prediction)\n",
    "  * Given the definition of a game, learn a function of the current game position that produces the best next move. (reinforcement learning)\n",
    "  * Given  gene expression data for a bunch of samples, find groupings that are common among the different treatments. (unsupervised learning)\n"
   ]
  },
  {
   "cell_type": "markdown",
   "metadata": {
    "slideshow": {
     "slide_type": "slide"
    }
   },
   "source": [
    "# Introduction to Python"
   ]
  },
  {
   "cell_type": "markdown",
   "metadata": {
    "slideshow": {
     "slide_type": "slide"
    }
   },
   "source": [
    "**Why Python?**\n",
    "\n",
    "What do you (I) want in a programming and computing environment?\n",
    "\n",
    "  * Concise, intuitive programming language.  \n",
    "  * Ability to //play// with data and computation ideas.\n",
    "    * Data persistence.  \n",
    "    * Matrix, vector structures and operations are easy.\n",
    "    * Interpreter, using same langauge as programs.\n",
    "    * Functional and object-oriented programming style\n",
    "  * Rich, easy-to-use visualization\n",
    "  * Fast computation.\n",
    "  * Large community of users and developers.\n",
    "  * Free\n",
    "\n",
    "Python satisfies all, except perhaps *fast computation*, but getting\n",
    "faster all the time. (See [Python Speed](http://wiki.python.org/moin/PythonSpeed))\n",
    "\n",
    "Python \n",
    "\n",
    "  * is an open-source language and environment for computing and graphics\n",
    "  * started in 1989 by Guido van Rossum at CWI in the Netherlands\n",
    "  * is a multi-paradigm programming language\n",
    "  * has dynamic typing\n",
    "  * has garbage collection\n",
    "  * easily extensible in C and C++\n",
    "  * available for Unix, Windows, and MacOS systems;\n",
    "  * is the language of choice for many researchers in machine learning and  statistics, and\n",
    "  * is the required language in many job ads (see [Python Jobs](http://www.python.org/community/jobs/))\n"
   ]
  },
  {
   "cell_type": "markdown",
   "metadata": {
    "slideshow": {
     "slide_type": "slide"
    }
   },
   "source": [
    "**Installing and Running Python**\n",
    "\n",
    "Python is installed on our department's systems.\n",
    "\n",
    "You may download and install python on your own computer by following\n",
    "instructions at [python.org](http://www.python.org)\n",
    "\n",
    "On our systems, enter the *ipython* interactive environment with\n",
    "\n",
    "    ipython\n",
    "  \n",
    "To quit, type control-d\n",
    "\n",
    "To run python code in file *code.py*, either type\n",
    "\n",
    "    run code.py\n",
    "  \n",
    "in *ipython*, or type\n",
    "\n",
    "    python code.py\n",
    "  \n",
    "at the unix command prompt.\n",
    "\n",
    "When in the *ipython*, you may type python statements or expressions\n",
    "that are evaluated, or *ipython* commands.  See the\n",
    "[video tutorial on using ipython](http://showmedo.com/videotutorials/video?name=1000010&fromSeriesID=100), in five parts by Jeff Rush, for help\n",
    "getting started with *ipython*."
   ]
  },
  {
   "cell_type": "code",
   "execution_count": 1,
   "metadata": {
    "collapsed": false
   },
   "outputs": [],
   "source": [
    "list?"
   ]
  },
  {
   "cell_type": "code",
   "execution_count": null,
   "metadata": {
    "collapsed": false
   },
   "outputs": [],
   "source": []
  }
 ],
 "metadata": {
  "celltoolbar": "Slideshow",
  "kernelspec": {
   "display_name": "Python 3",
   "language": "python",
   "name": "python3"
  },
  "language_info": {
   "codemirror_mode": {
    "name": "ipython",
    "version": 3
   },
   "file_extension": ".py",
   "mimetype": "text/x-python",
   "name": "python",
   "nbconvert_exporter": "python",
   "pygments_lexer": "ipython3",
   "version": "3.4.3"
  }
 },
 "nbformat": 4,
 "nbformat_minor": 0
}
