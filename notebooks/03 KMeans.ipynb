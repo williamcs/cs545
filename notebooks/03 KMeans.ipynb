{
 "metadata": {
  "name": "",
  "signature": "sha256:14a5360371e440a80a0104621602e233e3ae47e4dfca06ce761a315a4787944d"
 },
 "nbformat": 3,
 "nbformat_minor": 0,
 "worksheets": [
  {
   "cells": [
    {
     "cell_type": "heading",
     "level": 1,
     "metadata": {},
     "source": [
      "Our First Machine Learning Experiment: Clustering"
     ]
    },
    {
     "cell_type": "markdown",
     "metadata": {},
     "source": [
      "The [UCI Machine Learning Repository](http://archive.ics.uci.edu/ml/) is a \"go-to\" place for fascinating data sets often used in machine learning education and research.  \n",
      "\n",
      "Let's check out the Stone Flakes data set.  Find and download the [StoneFlakes.dat](http://archive.ics.uci.edu/ml/machine-learning-databases/00299/StoneFlakes.dat) file by clicking here or by running *wget* like below."
     ]
    },
    {
     "cell_type": "code",
     "collapsed": false,
     "input": [
      "!wget http://archive.ics.uci.edu/ml/machine-learning-databases/00299/StoneFlakes.dat"
     ],
     "language": "python",
     "metadata": {},
     "outputs": []
    },
    {
     "cell_type": "markdown",
     "metadata": {},
     "source": [
      "Let's look at the first few lines."
     ]
    },
    {
     "cell_type": "code",
     "collapsed": false,
     "input": [
      "!head StoneFlakes.dat"
     ],
     "language": "python",
     "metadata": {},
     "outputs": []
    },
    {
     "cell_type": "markdown",
     "metadata": {},
     "source": [
      "Read about the column names and the meaning of the ID values at the data set's web site.  \n",
      "\n",
      "Notice that values are separated by commas, except for the first column.  Also notice that there are question marks where data is missing.  How can we read this?  Well, the usual answer is to \"google\" for the answer.  Try seaching for \"read data set numpy\"\n",
      "\n",
      "numpy includes functions for reading csv files.  However, the [pandas package](http://pandas.pydata.org/) offers more powerful functions for parsing data.  Let's try its *read_csv* function."
     ]
    },
    {
     "cell_type": "code",
     "collapsed": false,
     "input": [
      "import pandas"
     ],
     "language": "python",
     "metadata": {},
     "outputs": []
    },
    {
     "cell_type": "code",
     "collapsed": false,
     "input": [
      "d = pandas.read_csv(open('StoneFlakes.dat'))"
     ],
     "language": "python",
     "metadata": {},
     "outputs": []
    },
    {
     "cell_type": "code",
     "collapsed": false,
     "input": [
      "d[:5]"
     ],
     "language": "python",
     "metadata": {},
     "outputs": []
    },
    {
     "cell_type": "code",
     "collapsed": false,
     "input": [
      "d = pandas.read_csv(open('StoneFlakes.dat'),sep=',')\n",
      "d[:5]"
     ],
     "language": "python",
     "metadata": {},
     "outputs": []
    },
    {
     "cell_type": "markdown",
     "metadata": {},
     "source": [
      "Let's just replace commas with spaces, using unix.  Read about the *tr* unix command at [Linux TR Command Examples](http://www.thegeekstuff.com/2012/12/linux-tr-command/)"
     ]
    },
    {
     "cell_type": "code",
     "collapsed": false,
     "input": [
      "! tr -s ' ' ',' < StoneFlakes.dat > StoneFlakes2.dat\n",
      "! head StoneFlakes2.dat"
     ],
     "language": "python",
     "metadata": {},
     "outputs": []
    },
    {
     "cell_type": "code",
     "collapsed": false,
     "input": [
      "d = pandas.read_csv(open('StoneFlakes2.dat'))\n",
      "d[:5]"
     ],
     "language": "python",
     "metadata": {},
     "outputs": []
    },
    {
     "cell_type": "code",
     "collapsed": false,
     "input": [
      "d = pandas.read_csv(open('StoneFlakes2.dat'),na_values='?')\n",
      "d[:5]"
     ],
     "language": "python",
     "metadata": {},
     "outputs": []
    },
    {
     "cell_type": "code",
     "collapsed": false,
     "input": [
      "d = pandas.read_csv(open('StoneFlakes2.dat'),na_values='?',error_bad_lines=False)\n",
      "d[:5]"
     ],
     "language": "python",
     "metadata": {},
     "outputs": []
    },
    {
     "cell_type": "code",
     "collapsed": false,
     "input": [
      "d[:5].isnull()"
     ],
     "language": "python",
     "metadata": {},
     "outputs": []
    },
    {
     "cell_type": "code",
     "collapsed": false,
     "input": [
      "d[:5].isnull().any(axis=1)"
     ],
     "language": "python",
     "metadata": {},
     "outputs": []
    },
    {
     "cell_type": "code",
     "collapsed": false,
     "input": [
      "d[:5].isnull().any(axis=1) == False"
     ],
     "language": "python",
     "metadata": {},
     "outputs": []
    },
    {
     "cell_type": "code",
     "collapsed": false,
     "input": [
      "print(d.shape)\n",
      "d = d[d.isnull().any(axis=1)==False]\n",
      "print(d.shape)"
     ],
     "language": "python",
     "metadata": {},
     "outputs": []
    },
    {
     "cell_type": "code",
     "collapsed": false,
     "input": [
      "import numpy as np\n",
      "import matplotlib.pyplot as plt\n",
      "%matplotlib inline"
     ],
     "language": "python",
     "metadata": {},
     "outputs": []
    },
    {
     "cell_type": "code",
     "collapsed": false,
     "input": [
      "data = d.iloc[:,1:].values\n",
      "data.shape"
     ],
     "language": "python",
     "metadata": {},
     "outputs": []
    },
    {
     "cell_type": "code",
     "collapsed": false,
     "input": [
      "data[:5,:]"
     ],
     "language": "python",
     "metadata": {},
     "outputs": []
    },
    {
     "cell_type": "markdown",
     "metadata": {},
     "source": [
      "To see this data, let's try plotting each column as a separate curve on the same axes."
     ]
    },
    {
     "cell_type": "code",
     "collapsed": false,
     "input": [
      "plt.plot(data);"
     ],
     "language": "python",
     "metadata": {},
     "outputs": []
    },
    {
     "cell_type": "markdown",
     "metadata": {},
     "source": [
      "Each sample has 8 attribues, so each sample is a point in 8-dimensional space.  I wonder how well the samples \"clump\" in those 8 dimensions.  Let's try clustering them with the *k-means* algorithm.\n",
      "\n",
      "First, let's try to find two clusters, so $k=2$.  We must initialize the two means of the two clusters.  Let's just pick two samples at random."
     ]
    },
    {
     "cell_type": "code",
     "collapsed": false,
     "input": [
      "np.random.choice(range(data.shape[0]),2, replace=False) # data.shape[0] is number of rows, or samples"
     ],
     "language": "python",
     "metadata": {},
     "outputs": []
    },
    {
     "cell_type": "code",
     "collapsed": false,
     "input": [
      "np.random.choice(range(data.shape[0]),2, replace=False)"
     ],
     "language": "python",
     "metadata": {},
     "outputs": []
    },
    {
     "cell_type": "code",
     "collapsed": false,
     "input": [
      "centersIndex = np.random.choice(range(data.shape[0]),2, replace=False)\n",
      "centersIndex"
     ],
     "language": "python",
     "metadata": {},
     "outputs": []
    },
    {
     "cell_type": "code",
     "collapsed": false,
     "input": [
      "centers = data[centersIndex,:]\n",
      "centers"
     ],
     "language": "python",
     "metadata": {},
     "outputs": []
    },
    {
     "cell_type": "markdown",
     "metadata": {},
     "source": [
      "Now we must find all samples that are closest to the first center, and those that are closest to the second sample.\n",
      "\n",
      "Check out the wonders of numpy broadcasting."
     ]
    },
    {
     "cell_type": "code",
     "collapsed": false,
     "input": [
      "a = np.array([1,2,3])\n",
      "b = np.array([10,20,30])\n",
      "a, b"
     ],
     "language": "python",
     "metadata": {},
     "outputs": []
    },
    {
     "cell_type": "code",
     "collapsed": false,
     "input": [
      "a-b"
     ],
     "language": "python",
     "metadata": {},
     "outputs": []
    },
    {
     "cell_type": "markdown",
     "metadata": {},
     "source": [
      "But what if we want to subtract every element of a with every element of b?"
     ]
    },
    {
     "cell_type": "code",
     "collapsed": false,
     "input": [
      "np.resize(a,(3,3))"
     ],
     "language": "python",
     "metadata": {},
     "outputs": []
    },
    {
     "cell_type": "code",
     "collapsed": false,
     "input": [
      "np.resize(b, (3,3))"
     ],
     "language": "python",
     "metadata": {},
     "outputs": []
    },
    {
     "cell_type": "code",
     "collapsed": false,
     "input": [
      "np.resize(a,(3,3)).T"
     ],
     "language": "python",
     "metadata": {},
     "outputs": []
    },
    {
     "cell_type": "code",
     "collapsed": false,
     "input": [
      "np.resize(a,(3,3)).T - np.resize(b,(3,3))"
     ],
     "language": "python",
     "metadata": {},
     "outputs": []
    },
    {
     "cell_type": "markdown",
     "metadata": {},
     "source": [
      "However, we can ask numpy to do this duplication for us if we reshape a to be a column vector and leave b as a row vector.\n",
      "\n",
      "$$ \\begin{pmatrix}\n",
      "1\\\\\n",
      "2\\\\\n",
      "3\n",
      "\\end{pmatrix}\n",
      "-\n",
      "\\begin{pmatrix}\n",
      "10 & 20 & 30\n",
      "\\end{pmatrix}\n",
      "\\;\\; = \\;\\;\n",
      "\\begin{pmatrix}\n",
      "1 & 1 & 1\\\\\n",
      "2 & 2 & 2\\\\\n",
      "3 & 3 & 3\n",
      "\\end{pmatrix}\n",
      "-\n",
      "\\begin{pmatrix}\n",
      "10 & 20 & 30\\\\\n",
      "10 & 20 & 30\\\\\n",
      "10 & 20 & 30\n",
      "\\end{pmatrix}\n",
      "$$"
     ]
    },
    {
     "cell_type": "code",
     "collapsed": false,
     "input": [
      "a[:,np.newaxis]"
     ],
     "language": "python",
     "metadata": {},
     "outputs": []
    },
    {
     "cell_type": "code",
     "collapsed": false,
     "input": [
      "a.reshape((-1,1))"
     ],
     "language": "python",
     "metadata": {},
     "outputs": []
    },
    {
     "cell_type": "code",
     "collapsed": false,
     "input": [
      "a.shape, a[:,np.newaxis].shape"
     ],
     "language": "python",
     "metadata": {},
     "outputs": []
    },
    {
     "cell_type": "code",
     "collapsed": false,
     "input": [
      "a[:,np.newaxis] - b"
     ],
     "language": "python",
     "metadata": {},
     "outputs": []
    },
    {
     "cell_type": "code",
     "collapsed": false,
     "input": [
      "a = np.array([1,2,3])\n",
      "b = np.array([[10,20,30],[40,50,60]])\n",
      "print(a)\n",
      "print(b)"
     ],
     "language": "python",
     "metadata": {},
     "outputs": []
    },
    {
     "cell_type": "code",
     "collapsed": false,
     "input": [
      "b-a"
     ],
     "language": "python",
     "metadata": {},
     "outputs": []
    },
    {
     "cell_type": "markdown",
     "metadata": {},
     "source": [
      "The single row vector a is duplicated for as many rows as there are in b!  We can use this to calculate the squared distance between a center and every sample."
     ]
    },
    {
     "cell_type": "code",
     "collapsed": false,
     "input": [
      "centers[0,:]"
     ],
     "language": "python",
     "metadata": {},
     "outputs": []
    },
    {
     "cell_type": "code",
     "collapsed": false,
     "input": [
      "np.sum((centers[0,:] - data)**2, axis=1)"
     ],
     "language": "python",
     "metadata": {},
     "outputs": []
    },
    {
     "cell_type": "code",
     "collapsed": false,
     "input": [
      "np.sum((centers[1,:] - data)**2, axis=1) > np.sum((centers[0,:] - data)**2, axis=1)"
     ],
     "language": "python",
     "metadata": {},
     "outputs": []
    },
    {
     "cell_type": "code",
     "collapsed": false,
     "input": [
      "centers"
     ],
     "language": "python",
     "metadata": {},
     "outputs": []
    },
    {
     "cell_type": "code",
     "collapsed": false,
     "input": [
      "centers[:,np.newaxis,:].shape, data.shape"
     ],
     "language": "python",
     "metadata": {},
     "outputs": []
    },
    {
     "cell_type": "code",
     "collapsed": false,
     "input": [
      "(centers[:,np.newaxis,:] - data).shape"
     ],
     "language": "python",
     "metadata": {},
     "outputs": []
    },
    {
     "cell_type": "code",
     "collapsed": false,
     "input": [
      "np.sum((centers[:,np.newaxis,:] - data)**2, axis=2).shape"
     ],
     "language": "python",
     "metadata": {},
     "outputs": []
    },
    {
     "cell_type": "code",
     "collapsed": false,
     "input": [
      "np.argmin(np.sum((centers[:,np.newaxis,:] - data)**2, axis=2), axis=0)"
     ],
     "language": "python",
     "metadata": {},
     "outputs": []
    },
    {
     "cell_type": "code",
     "collapsed": false,
     "input": [
      "cluster = np.argmin(np.sum((centers[:,np.newaxis,:] - data)**2, axis=2), axis=0)\n",
      "cluster"
     ],
     "language": "python",
     "metadata": {},
     "outputs": []
    },
    {
     "cell_type": "code",
     "collapsed": false,
     "input": [
      "data[cluster==0,:].mean(axis=0)"
     ],
     "language": "python",
     "metadata": {},
     "outputs": []
    },
    {
     "cell_type": "code",
     "collapsed": false,
     "input": [
      "data[cluster==1,:].mean(axis=0)"
     ],
     "language": "python",
     "metadata": {},
     "outputs": []
    },
    {
     "cell_type": "code",
     "collapsed": false,
     "input": [
      "k = 2\n",
      "for i in range(k):\n",
      "    centers[i,:] = data[cluster==i,:].mean(axis=0)"
     ],
     "language": "python",
     "metadata": {},
     "outputs": []
    },
    {
     "cell_type": "code",
     "collapsed": false,
     "input": [
      "centers"
     ],
     "language": "python",
     "metadata": {},
     "outputs": []
    },
    {
     "cell_type": "code",
     "collapsed": false,
     "input": [
      "def kmeans(data, k = 2, n = 5):\n",
      "    # Initial centers\n",
      "    centers = data[np.random.choice(range(data.shape[0]),k, replace=False), :]\n",
      "    # Repeat n times\n",
      "    for iteration in range(n):\n",
      "        # Which center is each sample closest to?\n",
      "        closest = np.argmin(np.sum((centers[:,np.newaxis,:] - data)**2, axis=2), axis=0)\n",
      "        # Update cluster centers\n",
      "        for i in range(k):\n",
      "            centers[i,:] = data[closest==i,:].mean(axis=0)\n",
      "    return centers"
     ],
     "language": "python",
     "metadata": {},
     "outputs": []
    },
    {
     "cell_type": "code",
     "collapsed": false,
     "input": [
      "kmeans(data,2)"
     ],
     "language": "python",
     "metadata": {},
     "outputs": []
    },
    {
     "cell_type": "code",
     "collapsed": false,
     "input": [
      "kmeans(data,2)"
     ],
     "language": "python",
     "metadata": {},
     "outputs": []
    },
    {
     "cell_type": "markdown",
     "metadata": {},
     "source": [
      "Let's define $J$ from the book, which is a performance measure being minimized by *k-means*. It is defined on page 424 as\n",
      "$$\n",
      "J = \\sum_{n=1}^N \\sum_{k=1}^K r_{nk} ||\\mathbf{x}_n - \\mathbf{\\mu}_k||^2\n",
      "$$\n",
      "where $N$ is the number of samples, $K$ is the number of cluster centers, $\\mathbf{x}_n$ is the $n^{th}$ sample and $\\mathbf{\\mu}_k$ is the $k^{th}$ center, each being an element of $\\mathbf{R}^p$ where $p$ is the dimensionality of the data.\n",
      "\n",
      "The sums can be computed using python *for* loops, but *for* loops are much slower than matrix operations in python, as the following cells show."
     ]
    },
    {
     "cell_type": "code",
     "collapsed": false,
     "input": [
      "a = np.linspace(0,10,30).reshape(3,10)\n",
      "a"
     ],
     "language": "python",
     "metadata": {},
     "outputs": []
    },
    {
     "cell_type": "code",
     "collapsed": false,
     "input": [
      "b = np.arange(30).reshape(3,10)\n",
      "b"
     ],
     "language": "python",
     "metadata": {},
     "outputs": []
    },
    {
     "cell_type": "code",
     "collapsed": false,
     "input": [
      "result = np.zeros((3,10))\n",
      "for i in range(3):\n",
      "    for j in range(10):\n",
      "        result[i,j] = a[i,j] + b[i,j]\n",
      "result"
     ],
     "language": "python",
     "metadata": {},
     "outputs": []
    },
    {
     "cell_type": "code",
     "collapsed": false,
     "input": [
      "%%timeit\n",
      "result = np.zeros((3,10))\n",
      "for i in range(3):\n",
      "    for j in range(10):\n",
      "        result[i,j] = a[i,j] + b[i,j]"
     ],
     "language": "python",
     "metadata": {},
     "outputs": []
    },
    {
     "cell_type": "code",
     "collapsed": false,
     "input": [
      "result = a + b\n",
      "result"
     ],
     "language": "python",
     "metadata": {},
     "outputs": []
    },
    {
     "cell_type": "code",
     "collapsed": false,
     "input": [
      "%%timeit\n",
      "result = a + b"
     ],
     "language": "python",
     "metadata": {},
     "outputs": []
    },
    {
     "cell_type": "markdown",
     "metadata": {},
     "source": [
      "So, the matrix form is 10 times faster!\n",
      "\n",
      "Now, back to our problem.  How can we use matrix operations to calculate the squared distance between two centers and, say, five data samples?  Let's say both are two-dimensional."
     ]
    },
    {
     "cell_type": "code",
     "collapsed": false,
     "input": [
      "centers = np.array([[1,2],[5,4]])\n",
      "centers"
     ],
     "language": "python",
     "metadata": {},
     "outputs": []
    },
    {
     "cell_type": "code",
     "collapsed": false,
     "input": [
      "data = np.array([[3,2],[4,6],[7,3],[4,6],[1,8]])\n",
      "data"
     ],
     "language": "python",
     "metadata": {},
     "outputs": []
    },
    {
     "cell_type": "markdown",
     "metadata": {},
     "source": [
      "This will be a little weird, and hard to understand, but by adding an empty dimension to the *centers* array, numpy broadcasting does all the work for us. "
     ]
    },
    {
     "cell_type": "code",
     "collapsed": false,
     "input": [
      "centers[:,np.newaxis,:]"
     ],
     "language": "python",
     "metadata": {},
     "outputs": []
    },
    {
     "cell_type": "code",
     "collapsed": false,
     "input": [
      "centers[:,np.newaxis,:].shape"
     ],
     "language": "python",
     "metadata": {},
     "outputs": []
    },
    {
     "cell_type": "code",
     "collapsed": false,
     "input": [
      "data.shape"
     ],
     "language": "python",
     "metadata": {},
     "outputs": []
    },
    {
     "cell_type": "code",
     "collapsed": false,
     "input": [
      "diffsq = (centers[:,np.newaxis,:] - data)**2\n",
      "diffsq"
     ],
     "language": "python",
     "metadata": {},
     "outputs": []
    },
    {
     "cell_type": "code",
     "collapsed": false,
     "input": [
      "diffsq.shape"
     ],
     "language": "python",
     "metadata": {},
     "outputs": []
    },
    {
     "cell_type": "code",
     "collapsed": false,
     "input": [
      "np.sum(diffsq,axis=2)"
     ],
     "language": "python",
     "metadata": {},
     "outputs": []
    },
    {
     "cell_type": "markdown",
     "metadata": {},
     "source": [
      "Now we have a 2 x 5 array with the first row containing the squared distance from the first center to each of the five data samples, and the second row containing the squared distances from the second center to each of the five data samples.\n",
      "\n",
      "Now we just have to find the smallest distance in each column and sum them up."
     ]
    },
    {
     "cell_type": "code",
     "collapsed": false,
     "input": [
      "np.min(np.sum(diffsq,axis=2), axis=0)"
     ],
     "language": "python",
     "metadata": {},
     "outputs": []
    },
    {
     "cell_type": "code",
     "collapsed": false,
     "input": [
      "np.sum(np.min(np.sum(diffsq,axis=2), axis=0))"
     ],
     "language": "python",
     "metadata": {},
     "outputs": []
    },
    {
     "cell_type": "markdown",
     "metadata": {},
     "source": [
      "Let's define a function named *calcJ* to do this calculation."
     ]
    },
    {
     "cell_type": "code",
     "collapsed": false,
     "input": [
      "def calcJ(data,centers):\n",
      "    diffsq = (centers[:,np.newaxis,:] - data)**2\n",
      "    return np.sum(np.min(np.sum(diffsq,axis=2), axis=0))"
     ],
     "language": "python",
     "metadata": {},
     "outputs": []
    },
    {
     "cell_type": "code",
     "collapsed": false,
     "input": [
      "calcJ(data,centers)"
     ],
     "language": "python",
     "metadata": {},
     "outputs": []
    },
    {
     "cell_type": "code",
     "collapsed": false,
     "input": [
      "def kmeans(data, k = 2, n = 5):\n",
      "    # Initialize centers and list J to track performance metric\n",
      "    centers = data[np.random.choice(range(data.shape[0]),k,replace=False), :]\n",
      "    J = []\n",
      "    \n",
      "    # Repeat n times\n",
      "    for iteration in range(n):\n",
      "        \n",
      "        # Which center is each sample closest to?\n",
      "        sqdistances = np.sum((centers[:,np.newaxis,:] - data)**2, axis=2)\n",
      "        closest = np.argmin(sqdistances, axis=0)\n",
      "        \n",
      "        # Calculate J and append to list J\n",
      "        J.append(calcJ(data,centers))\n",
      "        \n",
      "        # Update cluster centers\n",
      "        for i in range(k):\n",
      "            centers[i,:] = data[closest==i,:].mean(axis=0)\n",
      "            \n",
      "    # Calculate J one final time and return results\n",
      "    J.append(calcJ(data,centers))\n",
      "    return centers,J,closest"
     ],
     "language": "python",
     "metadata": {},
     "outputs": []
    },
    {
     "cell_type": "code",
     "collapsed": false,
     "input": [
      "centers,J,closest = kmeans(data,2)"
     ],
     "language": "python",
     "metadata": {},
     "outputs": []
    },
    {
     "cell_type": "code",
     "collapsed": false,
     "input": [
      "J"
     ],
     "language": "python",
     "metadata": {},
     "outputs": []
    },
    {
     "cell_type": "code",
     "collapsed": false,
     "input": [
      "plt.plot(J);"
     ],
     "language": "python",
     "metadata": {},
     "outputs": []
    },
    {
     "cell_type": "code",
     "collapsed": false,
     "input": [
      "centers,J,closest = kmeans(data,2,10)\n",
      "plt.plot(J);"
     ],
     "language": "python",
     "metadata": {},
     "outputs": []
    },
    {
     "cell_type": "code",
     "collapsed": false,
     "input": [
      "centers,J,closest = kmeans(data,3,10)\n",
      "plt.plot(J);"
     ],
     "language": "python",
     "metadata": {},
     "outputs": []
    },
    {
     "cell_type": "code",
     "collapsed": false,
     "input": [
      "small = np.array([[8,7],[7,6.6],[9.2,8.3],[6.8,9.2], [1.2,3.2],[4.8,2.3],[3.4,3.2],[3.2,5.6],[1,4],[2,2.2]])"
     ],
     "language": "python",
     "metadata": {},
     "outputs": []
    },
    {
     "cell_type": "code",
     "collapsed": false,
     "input": [
      "plt.scatter(small[:,0],small[:,1]);"
     ],
     "language": "python",
     "metadata": {},
     "outputs": []
    },
    {
     "cell_type": "code",
     "collapsed": false,
     "input": [
      "c,J,closest = kmeans(small,2,n=2)"
     ],
     "language": "python",
     "metadata": {},
     "outputs": []
    },
    {
     "cell_type": "code",
     "collapsed": false,
     "input": [
      "c"
     ],
     "language": "python",
     "metadata": {},
     "outputs": []
    },
    {
     "cell_type": "code",
     "collapsed": true,
     "input": [
      "closest"
     ],
     "language": "python",
     "metadata": {},
     "outputs": []
    },
    {
     "cell_type": "code",
     "collapsed": false,
     "input": [
      "plt.scatter(small[:,0], small[:,1], s=80, c=closest, alpha=0.5);\n",
      "plt.scatter(c[:,0],c[:,1],s=80,c=\"green\",alpha=0.5);"
     ],
     "language": "python",
     "metadata": {},
     "outputs": []
    },
    {
     "cell_type": "code",
     "collapsed": false,
     "input": [
      "c,J,closest = kmeans(small,2,n=2)\n",
      "plt.scatter(small[:,0], small[:,1], s=80, c=closest, alpha=0.5);\n",
      "plt.scatter(c[:,0],c[:,1],s=80,c=\"green\",alpha=0.5);"
     ],
     "language": "python",
     "metadata": {},
     "outputs": []
    },
    {
     "cell_type": "code",
     "collapsed": false,
     "input": [
      "J"
     ],
     "language": "python",
     "metadata": {},
     "outputs": []
    },
    {
     "cell_type": "code",
     "collapsed": false,
     "input": [
      "c,J,closest = kmeans(small,2,n=3)\n",
      "plt.scatter(small[:,0], small[:,1], s=80, c=closest, alpha=0.5);\n",
      "plt.scatter(c[:,0],c[:,1],s=80,c=\"green\",alpha=0.5);\n",
      "plt.savefig(\"demo1.png\")"
     ],
     "language": "python",
     "metadata": {},
     "outputs": []
    },
    {
     "cell_type": "code",
     "collapsed": false,
     "input": [
      "J"
     ],
     "language": "python",
     "metadata": {},
     "outputs": []
    },
    {
     "cell_type": "markdown",
     "metadata": {},
     "source": [
      "Now let's start writing our Latex report.  First create file named *kmeans_v1.tex* with contents\n",
      "\n",
      "    \\documentclass{article}\n",
      "    \\usepackage[margin=1in]{geometry}      % default margins are too big\n",
      "    \\usepackage{graphicx}                  % for \\includegraphics\n",
      "    \\usepackage{listings}                  % for typesetting source code\n",
      "      \\lstset{language=Python}\n",
      "    \\usepackage{mathtools}                 % for better typesetting of math\n",
      "    \\usepackage[round]{natbib}             % for using different bibliography styles\n",
      "    \\begin{document}\n",
      "    \n",
      "    % document contents goes here\n",
      "    \n",
      "    \\end{document}    "
     ]
    },
    {
     "cell_type": "markdown",
     "metadata": {},
     "source": [
      "For now, just try a section heading, a figure, and some math.  The figure can come from the file *demo1.png* saved above."
     ]
    },
    {
     "cell_type": "markdown",
     "metadata": {},
     "source": [
      "    \\documentclass{article}\n",
      "    \\usepackage[margin=1in]{geometry}      % default margins are too big\n",
      "    \\usepackage{graphicx}                  % for \\includegraphics\n",
      "    \\usepackage{listings}                  % for typesetting source code\n",
      "      \\lstset{language=Python}\n",
      "    \\usepackage{mathtools}                 % for better typesetting of math\n",
      "    \\usepackage[round]{natbib}             % for using different bibliography styles\n",
      "    \\begin{document}\n",
      "    \n",
      "    \\section{Some Silly Heading}\n",
      "    \n",
      "    Now for a figure.  See Figure~\\ref{fig:stuff} for a full illustration.\n",
      "    \n",
      "    \\begin{figure}\n",
      "    \\centering\n",
      "    \\includegraphics[width=4in]{demo1.png}\n",
      "    \\caption{And here is the wonderful plot, showing lots of good stuff.}\n",
      "    \\label{fig:stuff}\n",
      "    \\end{figure}\n",
      "    \n",
      "    The figure shows results from applying this wonderful formula.\n",
      "    $$\n",
      "    F = m\\; a\n",
      "$$\n",
      "    which should equal 42.\n",
      "    \n",
      "    \\end{document}"
     ]
    },
    {
     "cell_type": "markdown",
     "metadata": {},
     "source": [
      "Now try to format it into a pdf file.\n",
      "\n",
      "    pdflatex kmeans_v1\n",
      "    pdflatex kmeans_v1"
     ]
    },
    {
     "cell_type": "markdown",
     "metadata": {},
     "source": [
      "After the first *pdflatex* command, you should see a long message, part of which is\n",
      "\n",
      "    LaTeX Warning: Reference `fig:stuff' on page 1 undefined on input line 12.\n",
      "\n",
      "    LaTeX Warning: There were undefined references.\n",
      "\n",
      "    LaTeX Warning: Label(s) may have changed. Rerun to get cross-references right.\n",
      "    \n",
      "After running *pdflatex* a second time, those Warnings disappear and we can view the resulting pdf!\n",
      "\n",
      "    evince kmeans_v1.pdf"
     ]
    },
    {
     "cell_type": "code",
     "collapsed": false,
     "input": [
      "from IPython.display import HTML\n",
      "HTML('<iframe src=http://www.cs.colostate.edu/~anderson/cs545/notebooks/kmeans_v1.pdf width=700 height=350></iframe>')"
     ],
     "language": "python",
     "metadata": {},
     "outputs": []
    },
    {
     "cell_type": "code",
     "collapsed": false,
     "input": [],
     "language": "python",
     "metadata": {},
     "outputs": []
    }
   ],
   "metadata": {}
  }
 ]
}