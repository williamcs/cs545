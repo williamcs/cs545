{
 "cells": [
  {
   "cell_type": "markdown",
   "metadata": {},
   "source": [
    "# Sequential, or On-Line, or Stochastic Gradient Descent, Training of a Linear Model"
   ]
  },
  {
   "cell_type": "markdown",
   "metadata": {},
   "source": [
    "$\\newcommand{\\xv}{\\mathbf{x}}\n",
    "\\newcommand{\\Xv}{\\mathbf{X}}\n",
    "\\newcommand{\\yv}{\\mathbf{y}}\n",
    "\\newcommand{\\zv}{\\mathbf{z}}\n",
    "\\newcommand{\\av}{\\mathbf{a}}\n",
    "\\newcommand{\\Wv}{\\mathbf{W}}\n",
    "\\newcommand{\\wv}{\\mathbf{w}}\n",
    "\\newcommand{\\tv}{\\mathbf{t}}\n",
    "\\newcommand{\\Tv}{\\mathbf{T}}\n",
    "\\newcommand{\\muv}{\\boldsymbol{\\mu}}\n",
    "\\newcommand{\\sigmav}{\\boldsymbol{\\sigma}}\n",
    "\\newcommand{\\phiv}{\\boldsymbol{\\phi}}\n",
    "\\newcommand{\\Phiv}{\\boldsymbol{\\Phi}}\n",
    "\\newcommand{\\Sigmav}{\\boldsymbol{\\Sigma}}\n",
    "\\newcommand{\\Lambdav}{\\boldsymbol{\\Lambda}}\n",
    "\\newcommand{\\half}{\\frac{1}{2}}\n",
    "\\newcommand{\\argmax}[1]{\\underset{#1}{\\operatorname{argmax}}}\n",
    "\\newcommand{\\argmin}[1]{\\underset{#1}{\\operatorname{argmin}}}\n",
    "\\newcommand{\\count}[2]{\\underset{#1}{\\overset{#2}{\\operatorname{\\#}}}}\n",
    "$"
   ]
  },
  {
   "cell_type": "markdown",
   "metadata": {},
   "source": [
    "Remember how we started deriving the expression for the weights that\n",
    "minimized the sum of squared errors of a linear model:\n",
    "\n",
    "With $y$ being an affine (linear + constant) function of $x$,\n",
    "\n",
    "$$\n",
    "    y(\\xv;\\wv) = w_0 + w_1 x_1 + w_2 x_2 + \\cdots + w_D x_D = \\xv^T \\wv\n",
    "$$\n",
    "\n",
    "having parameters $\\wv = (w_0, w_1, w_2, \\ldots, w_D)$, we derived the\n",
    "solution to \n",
    "\n",
    "$$\n",
    "\\begin{align*}\n",
    "\\wv_{\\mbox{best}} &= \\argmin{\\wv} \\sum_{n=1}^N (t_n - y(\\xv_n ; \\wv))^2\\\\\n",
    " & = \\argmin{\\wv} \\sum_{n=1}^N (t_n - \\xv_n^T \\wv)^2\n",
    " \\end{align*}\n",
    "$$\n",
    "\n",
    "We did this by rewriting the above summation as a matrix expression,\n",
    "taking its derivative with respect to $\\wv$, setting the derivative\n",
    "equal to zero, and solving for $\\wv$.\n",
    "\n",
    "$$\n",
    "      \\wv = (X^T X)^{-1} X^T T\n",
    "$$\n",
    "\n",
    "But what if you have thousands or millions of samples?  $X$ and $T$\n",
    "can be quite large. To avoid dealing with matrix operations on huge\n",
    "matrices, we can derive a sequential algorithm for finding $\\wv$ by\n",
    "using the fact that a derivative of a sum is the sum of the\n",
    "derivatives.\n",
    "\n",
    "$$\n",
    "\\begin{align*}\n",
    "\\frac{\\partial \\sum_{n=1}^N (t_n - \\xv_n^T \\wv)^2}{\\partial \\wv} \n",
    "&= \n",
    "\\sum_{n=1}^N \\frac{\\partial (t_n - \\xv_n^T \\wv)^2}{\\partial \\wv}\\\\\n",
    "&= \n",
    "\\sum_{n=1}^N 2 (t_n - \\xv_n^T  \\wv) (-1) \\xv_n\\\\\n",
    "&= -2 \\sum_{n=1}^N (t_n - \\xv_n^T  \\wv) \\xv_n\\\\\n",
    "\\end{align*}\n",
    "$$\n",
    "\n",
    "So far this is just another way to write the matrix equation for\n",
    "$\\wv$.  However, instead of summing over all $N$ samples, what if we\n",
    "just update $\\wv$ after each sample based on the derivative of the\n",
    "squared error for that sample?  The derivative for a sample $n$ can be\n",
    "considered as a limited, or noisy, sample of the overall derivative.\n",
    "Thus, we can take a small step in the direction of the negative derivative to try\n",
    "to bring a current guess at the weight vector, $\\wv^{(k)}$, on\n",
    "iteration $k$ closer to a value that reduces the overall error.\n",
    "\n",
    "$$\n",
    "\\begin{align*}\n",
    "\\wv^{(k+1)} &= \\wv^{(k)} - (-2) \\eta (t_n - \\xv_n^T  \\wv) \\xv_n\\\\\n",
    " &= \\wv^{(k)} + \\eta (t_n - \\xv_n^T  \\wv) \\xv_n\n",
    "\\end{align*}\n",
    "$$\n",
    "\n",
    "For this sequential algorithm to converge, $\\eta$ must decrease with\n",
    "each iteration, not too fast but not too slow. \n",
    "\n",
    "This algorithm is called the least mean squares (LMS) algorithm\n",
    "developed by Widrow and Hoff.  It is now often referred to as the\n",
    "''stochastic gradient descent'' algorithm for linear models."
   ]
  },
  {
   "cell_type": "markdown",
   "metadata": {},
   "source": [
    "Let's animate the progress down the derivative, using the tutorial on animations at [\n",
    "A Simple Animation: The Magic Triangle](http://nbviewer.ipython.org/url/jakevdp.github.io/downloads/notebooks/MagicTriangle.ipynb)."
   ]
  },
  {
   "cell_type": "code",
   "execution_count": 1,
   "metadata": {
    "collapsed": false
   },
   "outputs": [],
   "source": [
    "import numpy as np\n",
    "import matplotlib.pyplot as plt\n",
    "%matplotlib inline\n",
    "\n",
    "import IPython.display as ipd  # for display and clear_output\n",
    "import time  # for sleep"
   ]
  },
  {
   "cell_type": "code",
   "execution_count": 7,
   "metadata": {
    "collapsed": false
   },
   "outputs": [
    {
     "data": {
      "text/plain": [
       "((1000, 2), (1000, 1), (2, 1))"
      ]
     },
     "execution_count": 7,
     "metadata": {},
     "output_type": "execute_result"
    }
   ],
   "source": [
    "nSamples = 1000\n",
    "xs = np.random.uniform(0,10,nSamples)\n",
    "ys = 2 - 0.1 * xs + np.random.normal(0,0.1,nSamples)\n",
    "\n",
    "X1 = np.hstack((np.ones((nSamples,1)), xs.reshape((-1,1))))\n",
    "T = ys.reshape((-1,1))\n",
    "\n",
    "w = np.zeros((2,1))\n",
    "eta = 0.001\n",
    "\n",
    "X1.shape, T.shape, w.shape"
   ]
  },
  {
   "cell_type": "code",
   "execution_count": 8,
   "metadata": {
    "collapsed": false
   },
   "outputs": [
    {
     "ename": "KeyboardInterrupt",
     "evalue": "",
     "output_type": "error",
     "traceback": [
      "\u001b[1;31m---------------------------------------------------------------------------\u001b[0m",
      "\u001b[1;31mKeyboardInterrupt\u001b[0m                         Traceback (most recent call last)",
      "\u001b[1;32m<ipython-input-8-0c43293ec5e2>\u001b[0m in \u001b[0;36m<module>\u001b[1;34m()\u001b[0m\n\u001b[0;32m     26\u001b[0m \u001b[1;33m\u001b[0m\u001b[0m\n\u001b[0;32m     27\u001b[0m         \u001b[0mipd\u001b[0m\u001b[1;33m.\u001b[0m\u001b[0mclear_output\u001b[0m\u001b[1;33m(\u001b[0m\u001b[0mwait\u001b[0m\u001b[1;33m=\u001b[0m\u001b[1;32mTrue\u001b[0m\u001b[1;33m)\u001b[0m\u001b[1;33m\u001b[0m\u001b[0m\n\u001b[1;32m---> 28\u001b[1;33m         \u001b[0mipd\u001b[0m\u001b[1;33m.\u001b[0m\u001b[0mdisplay\u001b[0m\u001b[1;33m(\u001b[0m\u001b[0mfig\u001b[0m\u001b[1;33m)\u001b[0m\u001b[1;33m\u001b[0m\u001b[0m\n\u001b[0m\u001b[0;32m     29\u001b[0m \u001b[0mipd\u001b[0m\u001b[1;33m.\u001b[0m\u001b[0mclear_output\u001b[0m\u001b[1;33m(\u001b[0m\u001b[0mwait\u001b[0m\u001b[1;33m=\u001b[0m\u001b[1;32mTrue\u001b[0m\u001b[1;33m)\u001b[0m\u001b[1;33m\u001b[0m\u001b[0m\n",
      "\u001b[1;32m/s/parsons/e/fac/anderson/anaconda3/lib/python3.4/site-packages/IPython/core/display.py\u001b[0m in \u001b[0;36mdisplay\u001b[1;34m(*objs, **kwargs)\u001b[0m\n\u001b[0;32m    157\u001b[0m             \u001b[0mpublish_display_data\u001b[0m\u001b[1;33m(\u001b[0m\u001b[0mdata\u001b[0m\u001b[1;33m=\u001b[0m\u001b[0mobj\u001b[0m\u001b[1;33m,\u001b[0m \u001b[0mmetadata\u001b[0m\u001b[1;33m=\u001b[0m\u001b[0mmetadata\u001b[0m\u001b[1;33m)\u001b[0m\u001b[1;33m\u001b[0m\u001b[0m\n\u001b[0;32m    158\u001b[0m         \u001b[1;32melse\u001b[0m\u001b[1;33m:\u001b[0m\u001b[1;33m\u001b[0m\u001b[0m\n\u001b[1;32m--> 159\u001b[1;33m             \u001b[0mformat_dict\u001b[0m\u001b[1;33m,\u001b[0m \u001b[0mmd_dict\u001b[0m \u001b[1;33m=\u001b[0m \u001b[0mformat\u001b[0m\u001b[1;33m(\u001b[0m\u001b[0mobj\u001b[0m\u001b[1;33m,\u001b[0m \u001b[0minclude\u001b[0m\u001b[1;33m=\u001b[0m\u001b[0minclude\u001b[0m\u001b[1;33m,\u001b[0m \u001b[0mexclude\u001b[0m\u001b[1;33m=\u001b[0m\u001b[0mexclude\u001b[0m\u001b[1;33m)\u001b[0m\u001b[1;33m\u001b[0m\u001b[0m\n\u001b[0m\u001b[0;32m    160\u001b[0m             \u001b[1;32mif\u001b[0m \u001b[1;32mnot\u001b[0m \u001b[0mformat_dict\u001b[0m\u001b[1;33m:\u001b[0m\u001b[1;33m\u001b[0m\u001b[0m\n\u001b[0;32m    161\u001b[0m                 \u001b[1;31m# nothing to display (e.g. _ipython_display_ took over)\u001b[0m\u001b[1;33m\u001b[0m\u001b[1;33m\u001b[0m\u001b[0m\n",
      "\u001b[1;32m/s/parsons/e/fac/anderson/anaconda3/lib/python3.4/site-packages/IPython/core/formatters.py\u001b[0m in \u001b[0;36mformat\u001b[1;34m(self, obj, include, exclude)\u001b[0m\n\u001b[0;32m    172\u001b[0m             \u001b[0mmd\u001b[0m \u001b[1;33m=\u001b[0m \u001b[1;32mNone\u001b[0m\u001b[1;33m\u001b[0m\u001b[0m\n\u001b[0;32m    173\u001b[0m             \u001b[1;32mtry\u001b[0m\u001b[1;33m:\u001b[0m\u001b[1;33m\u001b[0m\u001b[0m\n\u001b[1;32m--> 174\u001b[1;33m                 \u001b[0mdata\u001b[0m \u001b[1;33m=\u001b[0m \u001b[0mformatter\u001b[0m\u001b[1;33m(\u001b[0m\u001b[0mobj\u001b[0m\u001b[1;33m)\u001b[0m\u001b[1;33m\u001b[0m\u001b[0m\n\u001b[0m\u001b[0;32m    175\u001b[0m             \u001b[1;32mexcept\u001b[0m\u001b[1;33m:\u001b[0m\u001b[1;33m\u001b[0m\u001b[0m\n\u001b[0;32m    176\u001b[0m                 \u001b[1;31m# FIXME: log the exception\u001b[0m\u001b[1;33m\u001b[0m\u001b[1;33m\u001b[0m\u001b[0m\n",
      "\u001b[1;32m/s/parsons/e/fac/anderson/anaconda3/lib/python3.4/site-packages/IPython/core/formatters.py\u001b[0m in \u001b[0;36m__call__\u001b[1;34m(self, obj)\u001b[0m\n",
      "\u001b[1;32m/s/parsons/e/fac/anderson/anaconda3/lib/python3.4/site-packages/IPython/core/formatters.py\u001b[0m in \u001b[0;36mcatch_format_error\u001b[1;34m(method, self, *args, **kwargs)\u001b[0m\n\u001b[0;32m    217\u001b[0m     \u001b[1;34m\"\"\"show traceback on failed format call\"\"\"\u001b[0m\u001b[1;33m\u001b[0m\u001b[0m\n\u001b[0;32m    218\u001b[0m     \u001b[1;32mtry\u001b[0m\u001b[1;33m:\u001b[0m\u001b[1;33m\u001b[0m\u001b[0m\n\u001b[1;32m--> 219\u001b[1;33m         \u001b[0mr\u001b[0m \u001b[1;33m=\u001b[0m \u001b[0mmethod\u001b[0m\u001b[1;33m(\u001b[0m\u001b[0mself\u001b[0m\u001b[1;33m,\u001b[0m \u001b[1;33m*\u001b[0m\u001b[0margs\u001b[0m\u001b[1;33m,\u001b[0m \u001b[1;33m**\u001b[0m\u001b[0mkwargs\u001b[0m\u001b[1;33m)\u001b[0m\u001b[1;33m\u001b[0m\u001b[0m\n\u001b[0m\u001b[0;32m    220\u001b[0m     \u001b[1;32mexcept\u001b[0m \u001b[0mNotImplementedError\u001b[0m\u001b[1;33m:\u001b[0m\u001b[1;33m\u001b[0m\u001b[0m\n\u001b[0;32m    221\u001b[0m         \u001b[1;31m# don't warn on NotImplementedErrors\u001b[0m\u001b[1;33m\u001b[0m\u001b[1;33m\u001b[0m\u001b[0m\n",
      "\u001b[1;32m/s/parsons/e/fac/anderson/anaconda3/lib/python3.4/site-packages/IPython/core/formatters.py\u001b[0m in \u001b[0;36m__call__\u001b[1;34m(self, obj)\u001b[0m\n\u001b[0;32m    328\u001b[0m                 \u001b[1;32mpass\u001b[0m\u001b[1;33m\u001b[0m\u001b[0m\n\u001b[0;32m    329\u001b[0m             \u001b[1;32melse\u001b[0m\u001b[1;33m:\u001b[0m\u001b[1;33m\u001b[0m\u001b[0m\n\u001b[1;32m--> 330\u001b[1;33m                 \u001b[1;32mreturn\u001b[0m \u001b[0mprinter\u001b[0m\u001b[1;33m(\u001b[0m\u001b[0mobj\u001b[0m\u001b[1;33m)\u001b[0m\u001b[1;33m\u001b[0m\u001b[0m\n\u001b[0m\u001b[0;32m    331\u001b[0m             \u001b[1;31m# Finally look for special method names\u001b[0m\u001b[1;33m\u001b[0m\u001b[1;33m\u001b[0m\u001b[0m\n\u001b[0;32m    332\u001b[0m             \u001b[0mmethod\u001b[0m \u001b[1;33m=\u001b[0m \u001b[0m_safe_get_formatter_method\u001b[0m\u001b[1;33m(\u001b[0m\u001b[0mobj\u001b[0m\u001b[1;33m,\u001b[0m \u001b[0mself\u001b[0m\u001b[1;33m.\u001b[0m\u001b[0mprint_method\u001b[0m\u001b[1;33m)\u001b[0m\u001b[1;33m\u001b[0m\u001b[0m\n",
      "\u001b[1;32m/s/parsons/e/fac/anderson/anaconda3/lib/python3.4/site-packages/IPython/core/pylabtools.py\u001b[0m in \u001b[0;36m<lambda>\u001b[1;34m(fig)\u001b[0m\n\u001b[0;32m    205\u001b[0m \u001b[1;33m\u001b[0m\u001b[0m\n\u001b[0;32m    206\u001b[0m     \u001b[1;32mif\u001b[0m \u001b[1;34m'png'\u001b[0m \u001b[1;32min\u001b[0m \u001b[0mformats\u001b[0m\u001b[1;33m:\u001b[0m\u001b[1;33m\u001b[0m\u001b[0m\n\u001b[1;32m--> 207\u001b[1;33m         \u001b[0mpng_formatter\u001b[0m\u001b[1;33m.\u001b[0m\u001b[0mfor_type\u001b[0m\u001b[1;33m(\u001b[0m\u001b[0mFigure\u001b[0m\u001b[1;33m,\u001b[0m \u001b[1;32mlambda\u001b[0m \u001b[0mfig\u001b[0m\u001b[1;33m:\u001b[0m \u001b[0mprint_figure\u001b[0m\u001b[1;33m(\u001b[0m\u001b[0mfig\u001b[0m\u001b[1;33m,\u001b[0m \u001b[1;34m'png'\u001b[0m\u001b[1;33m,\u001b[0m \u001b[1;33m**\u001b[0m\u001b[0mkwargs\u001b[0m\u001b[1;33m)\u001b[0m\u001b[1;33m)\u001b[0m\u001b[1;33m\u001b[0m\u001b[0m\n\u001b[0m\u001b[0;32m    208\u001b[0m     \u001b[1;32mif\u001b[0m \u001b[1;34m'retina'\u001b[0m \u001b[1;32min\u001b[0m \u001b[0mformats\u001b[0m \u001b[1;32mor\u001b[0m \u001b[1;34m'png2x'\u001b[0m \u001b[1;32min\u001b[0m \u001b[0mformats\u001b[0m\u001b[1;33m:\u001b[0m\u001b[1;33m\u001b[0m\u001b[0m\n\u001b[0;32m    209\u001b[0m         \u001b[0mpng_formatter\u001b[0m\u001b[1;33m.\u001b[0m\u001b[0mfor_type\u001b[0m\u001b[1;33m(\u001b[0m\u001b[0mFigure\u001b[0m\u001b[1;33m,\u001b[0m \u001b[1;32mlambda\u001b[0m \u001b[0mfig\u001b[0m\u001b[1;33m:\u001b[0m \u001b[0mretina_figure\u001b[0m\u001b[1;33m(\u001b[0m\u001b[0mfig\u001b[0m\u001b[1;33m,\u001b[0m \u001b[1;33m**\u001b[0m\u001b[0mkwargs\u001b[0m\u001b[1;33m)\u001b[0m\u001b[1;33m)\u001b[0m\u001b[1;33m\u001b[0m\u001b[0m\n",
      "\u001b[1;32m/s/parsons/e/fac/anderson/anaconda3/lib/python3.4/site-packages/IPython/core/pylabtools.py\u001b[0m in \u001b[0;36mprint_figure\u001b[1;34m(fig, fmt, bbox_inches, **kwargs)\u001b[0m\n\u001b[0;32m    115\u001b[0m \u001b[1;33m\u001b[0m\u001b[0m\n\u001b[0;32m    116\u001b[0m     \u001b[0mbytes_io\u001b[0m \u001b[1;33m=\u001b[0m \u001b[0mBytesIO\u001b[0m\u001b[1;33m(\u001b[0m\u001b[1;33m)\u001b[0m\u001b[1;33m\u001b[0m\u001b[0m\n\u001b[1;32m--> 117\u001b[1;33m     \u001b[0mfig\u001b[0m\u001b[1;33m.\u001b[0m\u001b[0mcanvas\u001b[0m\u001b[1;33m.\u001b[0m\u001b[0mprint_figure\u001b[0m\u001b[1;33m(\u001b[0m\u001b[0mbytes_io\u001b[0m\u001b[1;33m,\u001b[0m \u001b[1;33m**\u001b[0m\u001b[0mkw\u001b[0m\u001b[1;33m)\u001b[0m\u001b[1;33m\u001b[0m\u001b[0m\n\u001b[0m\u001b[0;32m    118\u001b[0m     \u001b[0mdata\u001b[0m \u001b[1;33m=\u001b[0m \u001b[0mbytes_io\u001b[0m\u001b[1;33m.\u001b[0m\u001b[0mgetvalue\u001b[0m\u001b[1;33m(\u001b[0m\u001b[1;33m)\u001b[0m\u001b[1;33m\u001b[0m\u001b[0m\n\u001b[0;32m    119\u001b[0m     \u001b[1;32mif\u001b[0m \u001b[0mfmt\u001b[0m \u001b[1;33m==\u001b[0m \u001b[1;34m'svg'\u001b[0m\u001b[1;33m:\u001b[0m\u001b[1;33m\u001b[0m\u001b[0m\n",
      "\u001b[1;32m/s/parsons/e/fac/anderson/anaconda3/lib/python3.4/site-packages/matplotlib/backend_bases.py\u001b[0m in \u001b[0;36mprint_figure\u001b[1;34m(self, filename, dpi, facecolor, edgecolor, orientation, format, **kwargs)\u001b[0m\n\u001b[0;32m   2158\u001b[0m                     **kwargs)\n\u001b[0;32m   2159\u001b[0m                 \u001b[0mrenderer\u001b[0m \u001b[1;33m=\u001b[0m \u001b[0mself\u001b[0m\u001b[1;33m.\u001b[0m\u001b[0mfigure\u001b[0m\u001b[1;33m.\u001b[0m\u001b[0m_cachedRenderer\u001b[0m\u001b[1;33m\u001b[0m\u001b[0m\n\u001b[1;32m-> 2160\u001b[1;33m                 \u001b[0mbbox_inches\u001b[0m \u001b[1;33m=\u001b[0m \u001b[0mself\u001b[0m\u001b[1;33m.\u001b[0m\u001b[0mfigure\u001b[0m\u001b[1;33m.\u001b[0m\u001b[0mget_tightbbox\u001b[0m\u001b[1;33m(\u001b[0m\u001b[0mrenderer\u001b[0m\u001b[1;33m)\u001b[0m\u001b[1;33m\u001b[0m\u001b[0m\n\u001b[0m\u001b[0;32m   2161\u001b[0m \u001b[1;33m\u001b[0m\u001b[0m\n\u001b[0;32m   2162\u001b[0m                 \u001b[0mbbox_artists\u001b[0m \u001b[1;33m=\u001b[0m \u001b[0mkwargs\u001b[0m\u001b[1;33m.\u001b[0m\u001b[0mpop\u001b[0m\u001b[1;33m(\u001b[0m\u001b[1;34m\"bbox_extra_artists\"\u001b[0m\u001b[1;33m,\u001b[0m \u001b[1;32mNone\u001b[0m\u001b[1;33m)\u001b[0m\u001b[1;33m\u001b[0m\u001b[0m\n",
      "\u001b[1;32m/s/parsons/e/fac/anderson/anaconda3/lib/python3.4/site-packages/matplotlib/figure.py\u001b[0m in \u001b[0;36mget_tightbbox\u001b[1;34m(self, renderer)\u001b[0m\n\u001b[0;32m   1615\u001b[0m         \u001b[1;32mfor\u001b[0m \u001b[0max\u001b[0m \u001b[1;32min\u001b[0m \u001b[0mself\u001b[0m\u001b[1;33m.\u001b[0m\u001b[0maxes\u001b[0m\u001b[1;33m:\u001b[0m\u001b[1;33m\u001b[0m\u001b[0m\n\u001b[0;32m   1616\u001b[0m             \u001b[1;32mif\u001b[0m \u001b[0max\u001b[0m\u001b[1;33m.\u001b[0m\u001b[0mget_visible\u001b[0m\u001b[1;33m(\u001b[0m\u001b[1;33m)\u001b[0m\u001b[1;33m:\u001b[0m\u001b[1;33m\u001b[0m\u001b[0m\n\u001b[1;32m-> 1617\u001b[1;33m                 \u001b[0mbb\u001b[0m\u001b[1;33m.\u001b[0m\u001b[0mappend\u001b[0m\u001b[1;33m(\u001b[0m\u001b[0max\u001b[0m\u001b[1;33m.\u001b[0m\u001b[0mget_tightbbox\u001b[0m\u001b[1;33m(\u001b[0m\u001b[0mrenderer\u001b[0m\u001b[1;33m)\u001b[0m\u001b[1;33m)\u001b[0m\u001b[1;33m\u001b[0m\u001b[0m\n\u001b[0m\u001b[0;32m   1618\u001b[0m \u001b[1;33m\u001b[0m\u001b[0m\n\u001b[0;32m   1619\u001b[0m         \u001b[1;32mif\u001b[0m \u001b[0mlen\u001b[0m\u001b[1;33m(\u001b[0m\u001b[0mbb\u001b[0m\u001b[1;33m)\u001b[0m \u001b[1;33m==\u001b[0m \u001b[1;36m0\u001b[0m\u001b[1;33m:\u001b[0m\u001b[1;33m\u001b[0m\u001b[0m\n",
      "\u001b[1;32m/s/parsons/e/fac/anderson/anaconda3/lib/python3.4/site-packages/matplotlib/axes/_base.py\u001b[0m in \u001b[0;36mget_tightbbox\u001b[1;34m(self, renderer, call_axes_locator)\u001b[0m\n\u001b[0;32m   3278\u001b[0m             \u001b[0mbb\u001b[0m\u001b[1;33m.\u001b[0m\u001b[0mappend\u001b[0m\u001b[1;33m(\u001b[0m\u001b[0mbb_xaxis\u001b[0m\u001b[1;33m)\u001b[0m\u001b[1;33m\u001b[0m\u001b[0m\n\u001b[0;32m   3279\u001b[0m \u001b[1;33m\u001b[0m\u001b[0m\n\u001b[1;32m-> 3280\u001b[1;33m         \u001b[0mbb_yaxis\u001b[0m \u001b[1;33m=\u001b[0m \u001b[0mself\u001b[0m\u001b[1;33m.\u001b[0m\u001b[0myaxis\u001b[0m\u001b[1;33m.\u001b[0m\u001b[0mget_tightbbox\u001b[0m\u001b[1;33m(\u001b[0m\u001b[0mrenderer\u001b[0m\u001b[1;33m)\u001b[0m\u001b[1;33m\u001b[0m\u001b[0m\n\u001b[0m\u001b[0;32m   3281\u001b[0m         \u001b[1;32mif\u001b[0m \u001b[0mbb_yaxis\u001b[0m\u001b[1;33m:\u001b[0m\u001b[1;33m\u001b[0m\u001b[0m\n\u001b[0;32m   3282\u001b[0m             \u001b[0mbb\u001b[0m\u001b[1;33m.\u001b[0m\u001b[0mappend\u001b[0m\u001b[1;33m(\u001b[0m\u001b[0mbb_yaxis\u001b[0m\u001b[1;33m)\u001b[0m\u001b[1;33m\u001b[0m\u001b[0m\n",
      "\u001b[1;32m/s/parsons/e/fac/anderson/anaconda3/lib/python3.4/site-packages/matplotlib/axis.py\u001b[0m in \u001b[0;36mget_tightbbox\u001b[1;34m(self, renderer)\u001b[0m\n\u001b[0;32m   1080\u001b[0m         \u001b[0mticks_to_draw\u001b[0m \u001b[1;33m=\u001b[0m \u001b[0mself\u001b[0m\u001b[1;33m.\u001b[0m\u001b[0m_update_ticks\u001b[0m\u001b[1;33m(\u001b[0m\u001b[0mrenderer\u001b[0m\u001b[1;33m)\u001b[0m\u001b[1;33m\u001b[0m\u001b[0m\n\u001b[0;32m   1081\u001b[0m         ticklabelBoxes, ticklabelBoxes2 = self._get_tick_bboxes(ticks_to_draw,\n\u001b[1;32m-> 1082\u001b[1;33m                                                                 renderer)\n\u001b[0m\u001b[0;32m   1083\u001b[0m \u001b[1;33m\u001b[0m\u001b[0m\n\u001b[0;32m   1084\u001b[0m         \u001b[0mself\u001b[0m\u001b[1;33m.\u001b[0m\u001b[0m_update_label_position\u001b[0m\u001b[1;33m(\u001b[0m\u001b[0mticklabelBoxes\u001b[0m\u001b[1;33m,\u001b[0m \u001b[0mticklabelBoxes2\u001b[0m\u001b[1;33m)\u001b[0m\u001b[1;33m\u001b[0m\u001b[0m\n",
      "\u001b[1;32m/s/parsons/e/fac/anderson/anaconda3/lib/python3.4/site-packages/matplotlib/axis.py\u001b[0m in \u001b[0;36m_get_tick_bboxes\u001b[1;34m(self, ticks, renderer)\u001b[0m\n\u001b[0;32m   1063\u001b[0m         \u001b[1;32mfor\u001b[0m \u001b[0mtick\u001b[0m \u001b[1;32min\u001b[0m \u001b[0mticks\u001b[0m\u001b[1;33m:\u001b[0m\u001b[1;33m\u001b[0m\u001b[0m\n\u001b[0;32m   1064\u001b[0m             \u001b[1;32mif\u001b[0m \u001b[0mtick\u001b[0m\u001b[1;33m.\u001b[0m\u001b[0mlabel1On\u001b[0m \u001b[1;32mand\u001b[0m \u001b[0mtick\u001b[0m\u001b[1;33m.\u001b[0m\u001b[0mlabel1\u001b[0m\u001b[1;33m.\u001b[0m\u001b[0mget_visible\u001b[0m\u001b[1;33m(\u001b[0m\u001b[1;33m)\u001b[0m\u001b[1;33m:\u001b[0m\u001b[1;33m\u001b[0m\u001b[0m\n\u001b[1;32m-> 1065\u001b[1;33m                 \u001b[0mextent\u001b[0m \u001b[1;33m=\u001b[0m \u001b[0mtick\u001b[0m\u001b[1;33m.\u001b[0m\u001b[0mlabel1\u001b[0m\u001b[1;33m.\u001b[0m\u001b[0mget_window_extent\u001b[0m\u001b[1;33m(\u001b[0m\u001b[0mrenderer\u001b[0m\u001b[1;33m)\u001b[0m\u001b[1;33m\u001b[0m\u001b[0m\n\u001b[0m\u001b[0;32m   1066\u001b[0m                 \u001b[0mticklabelBoxes\u001b[0m\u001b[1;33m.\u001b[0m\u001b[0mappend\u001b[0m\u001b[1;33m(\u001b[0m\u001b[0mextent\u001b[0m\u001b[1;33m)\u001b[0m\u001b[1;33m\u001b[0m\u001b[0m\n\u001b[0;32m   1067\u001b[0m             \u001b[1;32mif\u001b[0m \u001b[0mtick\u001b[0m\u001b[1;33m.\u001b[0m\u001b[0mlabel2On\u001b[0m \u001b[1;32mand\u001b[0m \u001b[0mtick\u001b[0m\u001b[1;33m.\u001b[0m\u001b[0mlabel2\u001b[0m\u001b[1;33m.\u001b[0m\u001b[0mget_visible\u001b[0m\u001b[1;33m(\u001b[0m\u001b[1;33m)\u001b[0m\u001b[1;33m:\u001b[0m\u001b[1;33m\u001b[0m\u001b[0m\n",
      "\u001b[1;32m/s/parsons/e/fac/anderson/anaconda3/lib/python3.4/site-packages/matplotlib/text.py\u001b[0m in \u001b[0;36mget_window_extent\u001b[1;34m(self, renderer, dpi)\u001b[0m\n\u001b[0;32m    796\u001b[0m             \u001b[1;32mraise\u001b[0m \u001b[0mRuntimeError\u001b[0m\u001b[1;33m(\u001b[0m\u001b[1;34m'Cannot get window extent w/o renderer'\u001b[0m\u001b[1;33m)\u001b[0m\u001b[1;33m\u001b[0m\u001b[0m\n\u001b[0;32m    797\u001b[0m \u001b[1;33m\u001b[0m\u001b[0m\n\u001b[1;32m--> 798\u001b[1;33m         \u001b[0mbbox\u001b[0m\u001b[1;33m,\u001b[0m \u001b[0minfo\u001b[0m\u001b[1;33m,\u001b[0m \u001b[0mdescent\u001b[0m \u001b[1;33m=\u001b[0m \u001b[0mself\u001b[0m\u001b[1;33m.\u001b[0m\u001b[0m_get_layout\u001b[0m\u001b[1;33m(\u001b[0m\u001b[0mself\u001b[0m\u001b[1;33m.\u001b[0m\u001b[0m_renderer\u001b[0m\u001b[1;33m)\u001b[0m\u001b[1;33m\u001b[0m\u001b[0m\n\u001b[0m\u001b[0;32m    799\u001b[0m         \u001b[0mx\u001b[0m\u001b[1;33m,\u001b[0m \u001b[0my\u001b[0m \u001b[1;33m=\u001b[0m \u001b[0mself\u001b[0m\u001b[1;33m.\u001b[0m\u001b[0mget_position\u001b[0m\u001b[1;33m(\u001b[0m\u001b[1;33m)\u001b[0m\u001b[1;33m\u001b[0m\u001b[0m\n\u001b[0;32m    800\u001b[0m         \u001b[0mx\u001b[0m\u001b[1;33m,\u001b[0m \u001b[0my\u001b[0m \u001b[1;33m=\u001b[0m \u001b[0mself\u001b[0m\u001b[1;33m.\u001b[0m\u001b[0mget_transform\u001b[0m\u001b[1;33m(\u001b[0m\u001b[1;33m)\u001b[0m\u001b[1;33m.\u001b[0m\u001b[0mtransform_point\u001b[0m\u001b[1;33m(\u001b[0m\u001b[1;33m(\u001b[0m\u001b[0mx\u001b[0m\u001b[1;33m,\u001b[0m \u001b[0my\u001b[0m\u001b[1;33m)\u001b[0m\u001b[1;33m)\u001b[0m\u001b[1;33m\u001b[0m\u001b[0m\n",
      "\u001b[1;32m/s/parsons/e/fac/anderson/anaconda3/lib/python3.4/site-packages/matplotlib/text.py\u001b[0m in \u001b[0;36m_get_layout\u001b[1;34m(self, renderer)\u001b[0m\n\u001b[0;32m    291\u001b[0m         \u001b[0mof\u001b[0m \u001b[0ma\u001b[0m \u001b[0mrotated\u001b[0m \u001b[0mtext\u001b[0m \u001b[0mwhen\u001b[0m \u001b[0mnecessary\u001b[0m\u001b[1;33m.\u001b[0m\u001b[1;33m\u001b[0m\u001b[0m\n\u001b[0;32m    292\u001b[0m         \"\"\"\n\u001b[1;32m--> 293\u001b[1;33m         \u001b[0mkey\u001b[0m \u001b[1;33m=\u001b[0m \u001b[0mself\u001b[0m\u001b[1;33m.\u001b[0m\u001b[0mget_prop_tup\u001b[0m\u001b[1;33m(\u001b[0m\u001b[1;33m)\u001b[0m\u001b[1;33m\u001b[0m\u001b[0m\n\u001b[0m\u001b[0;32m    294\u001b[0m         \u001b[1;32mif\u001b[0m \u001b[0mkey\u001b[0m \u001b[1;32min\u001b[0m \u001b[0mself\u001b[0m\u001b[1;33m.\u001b[0m\u001b[0m_cached\u001b[0m\u001b[1;33m:\u001b[0m\u001b[1;33m\u001b[0m\u001b[0m\n\u001b[0;32m    295\u001b[0m             \u001b[1;32mreturn\u001b[0m \u001b[0mself\u001b[0m\u001b[1;33m.\u001b[0m\u001b[0m_cached\u001b[0m\u001b[1;33m[\u001b[0m\u001b[0mkey\u001b[0m\u001b[1;33m]\u001b[0m\u001b[1;33m\u001b[0m\u001b[0m\n",
      "\u001b[1;32m/s/parsons/e/fac/anderson/anaconda3/lib/python3.4/site-packages/matplotlib/text.py\u001b[0m in \u001b[0;36mget_prop_tup\u001b[1;34m(self)\u001b[0m\n\u001b[0;32m    742\u001b[0m                 \u001b[0mself\u001b[0m\u001b[1;33m.\u001b[0m\u001b[0m_verticalalignment\u001b[0m\u001b[1;33m,\u001b[0m \u001b[0mself\u001b[0m\u001b[1;33m.\u001b[0m\u001b[0m_horizontalalignment\u001b[0m\u001b[1;33m,\u001b[0m\u001b[1;33m\u001b[0m\u001b[0m\n\u001b[0;32m    743\u001b[0m                 \u001b[0mhash\u001b[0m\u001b[1;33m(\u001b[0m\u001b[0mself\u001b[0m\u001b[1;33m.\u001b[0m\u001b[0m_fontproperties\u001b[0m\u001b[1;33m)\u001b[0m\u001b[1;33m,\u001b[0m\u001b[1;33m\u001b[0m\u001b[0m\n\u001b[1;32m--> 744\u001b[1;33m                 \u001b[0mself\u001b[0m\u001b[1;33m.\u001b[0m\u001b[0m_rotation\u001b[0m\u001b[1;33m,\u001b[0m \u001b[0mself\u001b[0m\u001b[1;33m.\u001b[0m\u001b[0m_rotation_mode\u001b[0m\u001b[1;33m,\u001b[0m\u001b[1;33m\u001b[0m\u001b[0m\n\u001b[0m\u001b[0;32m    745\u001b[0m                 \u001b[0mself\u001b[0m\u001b[1;33m.\u001b[0m\u001b[0mfigure\u001b[0m\u001b[1;33m.\u001b[0m\u001b[0mdpi\u001b[0m\u001b[1;33m,\u001b[0m \u001b[0mid\u001b[0m\u001b[1;33m(\u001b[0m\u001b[0mself\u001b[0m\u001b[1;33m.\u001b[0m\u001b[0m_renderer\u001b[0m\u001b[1;33m)\u001b[0m\u001b[1;33m,\u001b[0m\u001b[1;33m\u001b[0m\u001b[0m\n\u001b[0;32m    746\u001b[0m                 )\n",
      "\u001b[1;31mKeyboardInterrupt\u001b[0m: "
     ]
    },
    {
     "data": {
      "image/png": "[encoded data removed]",
      "text/plain": [
       "<matplotlib.figure.Figure at 0x7fd1d2f8ada0>"
      ]
     },
     "metadata": {},
     "output_type": "display_data"
    }
   ],
   "source": [
    "fig = plt.figure(figsize=(8,8))\n",
    "\n",
    "nIterations = 1000\n",
    "\n",
    "ws = []\n",
    "for rep in range(nIterations):\n",
    "    n = rep % nSamples\n",
    "    predicted = np.dot(X1[n:n+1,:],w)\n",
    "    w += eta * (T[n:n+1, :] - predicted) * X1[n:n+1,:].T\n",
    "    ws.append(w.copy())\n",
    "    \n",
    "    if rep % 10 == 0:\n",
    "        plt.clf()\n",
    "        plt.subplot(2,1,1)\n",
    "        plt.plot(xs,ys,'o')\n",
    "        plt.plot(xs,np.dot(X1,w))\n",
    "        plt.legend(('Data','Model'), loc='upper right')\n",
    "        plt.xlim(0,10)\n",
    "        plt.ylim(0,3)\n",
    "\n",
    "        plt.subplot(2,1,2)\n",
    "        plt.plot(np.array(ws)[:,:,0])\n",
    "        plt.xlim(0,nIterations)\n",
    "        plt.ylim(-1,3)\n",
    "        plt.legend(('$w_0$', '$w_1$'));\n",
    "\n",
    "        ipd.clear_output(wait=True)\n",
    "        ipd.display(fig)\n",
    "ipd.clear_output(wait=True)"
   ]
  },
  {
   "cell_type": "markdown",
   "metadata": {},
   "source": [
    "# Regularized Least Squares"
   ]
  },
  {
   "cell_type": "markdown",
   "metadata": {},
   "source": [
    "If you believe you have undersampled the data distribution (almost\n",
    "always the case), you might want to force the learned model to be less\n",
    "complex.  Remember that the simplest linear model is the constant model, with\n",
    "all parameters $\\wv$ equal to zero except for $w_0$.  Any linear model\n",
    "can be made \"simpler\" by shifting the magnitude of all weights towards zero.\n",
    "\n",
    "How can we do this in the least squares paradigm? Remember, we are\n",
    "minimizing \n",
    "\n",
    "$$\n",
    "     \\begin{align*}\n",
    "       \\sum_{n=1}^N (t_n - \\xv_n^T \\wv)^2\n",
    "     \\end{align*}\n",
    "$$\n",
    "\n",
    "How can we add something to this error measure that ends up minimizing\n",
    "the magnitude of the weights?\n",
    "\n",
    "$$\n",
    "     \\begin{align*}\n",
    "       \\sum_{n=1}^N (t_n -\n",
    "       \\xv_n^T \\wv)^2 + \\lambda \\sum_{d=0}^D \\wv_d^2 = \n",
    "       \\sum_{n=1}^N (t_n -\n",
    "       \\xv_n^T \\wv)^2 + \\lambda\\wv^T \\wv\n",
    "     \\end{align*}\n",
    "$$\n",
    "\n",
    "We need the $\\lambda > 0$ term there to balance the trade-off between\n",
    "minimal prediction error and minimal weight magnitudes.\n",
    "\n",
    "We can still take the gradient of this expression with respect to the\n",
    "weights $\\wv$ and set result equal to zero to solve for $\\wv$.  This works\n",
    "because $\\wv$ still appear quadratically, and so appear linearly in\n",
    "the gradient.\n",
    "\n",
    "So, repeat the derivation from before but with the new error function\n",
    "being\n",
    "\n",
    "$$\n",
    "      (T- X\\wv)^T (T-X\\wv) + \\lambda \\wv^T \\wv\n",
    "$$\n",
    "\n",
    "Like before, do some algebra before taking the derivative.\n",
    "\n",
    "$$\n",
    "    \\begin{align*}\n",
    "      (T- X\\wv)^T (T-X\\wv)  + \\lambda \\wv^T \\wv &= (T^T - (X\\wv)^T)\n",
    "      (T-X\\wv)  + \\lambda \\wv^T \\wv\\\\\n",
    "      &= (T^T - \\wv^TX^T) (T-X\\wv)  + \\lambda \\wv^T \\wv\\\\\n",
    "      &= T^TT - T^TX\\wv - \\wv^TX^TT + \\wv^TX^TX\\wv  + \\lambda \\wv^T \\wv\n",
    "    \\end{align*}\n",
    "$$\n",
    "\n",
    "So\n",
    "\n",
    "$$\n",
    "    \\begin{align*}\n",
    "      (T-X\\wv)^T (T-X\\wv)  + \\lambda \\wv^T \\wv &= T^TT  - 2 T^TX\\wv  +\n",
    "      \\wv^TX^TX\\wv  + \\lambda \\wv^T \\wv\n",
    "    \\end{align*}\n",
    "$$\n",
    "\n",
    "Now, let's do the derivative.\n",
    "\n",
    "$$\n",
    "    \\begin{align*}\n",
    "      & \\frac{\\partial (T-X\\wv)^T  (T-X\\wv) + \\lambda \\wv^T \\wv}{\\partial \\wv} \\\\\n",
    "      & \\;\\;\\; = -2 \\frac{\\partial T^T X \\wv}{\\partial \\wv} + \\frac{\\partial\n",
    "        \\wv^T X^T X \\wv}{\\partial \\wv} + \\lambda \\frac{\\partial \\wv^T\n",
    "        \\wv}{\\partial \\wv} \\\\\n",
    "      & \\;\\;\\; = -2 T^T X + 2 \\wv^T X^T X  + 2 \\lambda \\wv^T\n",
    "    \\end{align*}\n",
    "$$\n",
    "\n",
    "Setting this equal to zero we find\n",
    "\n",
    "$$\n",
    "    \\begin{align*}\n",
    "      0 &= -2 T^T X + 2 \\wv^T X^T X + 2 \\lambda \\wv^T\\\\\n",
    "      \\wv^T X^T X + \\lambda \\wv^T &=  T^T X \\\\\n",
    "      (\\wv^T X^T X)^T +\\lambda \\wv&=  (T^T X)^T \\\\\n",
    "      X^T X \\wv + \\lambda \\wv &=  X^T T \\\\\n",
    "      (X^T X + \\lambda I) \\wv  &=  X^T T \\\\\n",
    "      \\wv &= (X^T X + \\lambda I)^{-1} X^T T\\\\\n",
    "    \\end{align*}\n",
    "$$\n",
    "\n",
    "Instead of \n",
    "\n",
    "$$\n",
    "    \\lambda I =\n",
    "     \\begin{bmatrix}\n",
    "     \\lambda & 0 & \\dotsc & 0\\\\\n",
    "       0 & \\lambda & \\dotsc & 0\\\\\n",
    "       \\vdots \\\\\n",
    "       0 & 0 & \\dotsc & \\lambda\n",
    "    \\end{bmatrix}\n",
    "$$\n",
    "\n",
    "we want\n",
    "\n",
    "$$\n",
    "     \\begin{bmatrix}\n",
    "      0 & 0 & \\dotsc & 0\\\\\n",
    "       0 & \\lambda & \\dotsc & 0\\\\\n",
    "       \\vdots \\\\\n",
    "       0 & 0 & \\dotsc & \\lambda\n",
    "    \\end{bmatrix}\n",
    "$$\n",
    "\n",
    "so we don't penalize the bias weight, the weight multiplying the\n",
    "constant 1 attribute.\n"
   ]
  },
  {
   "cell_type": "markdown",
   "metadata": {},
   "source": [
    "In python\n",
    "\n",
    "    ncols = X.shape[1]\n",
    "    lambdaI = lamb * np.eye(ncols) ## lambda is a reserved word\n",
    "    lambdaI[0,0] = 0\n",
    "    w = np.linalg.lstsq(np.dot(X.T,X) + lambdaI, np.dot(X.T, T))\n"
   ]
  },
  {
   "cell_type": "markdown",
   "metadata": {},
   "source": [
    "Let's see what the effect of $\\lambda$ is for some simple data.\n",
    "Remember, when $\\lambda = 0$ we are back to our original least squares\n",
    "algorithm.\n",
    "\n",
    "Let's try to appoximate a simple, linear, noisy function of two\n",
    "variables and a third \"no-effect\" variable.  Hopefully, regularized\n",
    "LLS will find that the third variable's weight can be close to zero.\n"
   ]
  },
  {
   "cell_type": "code",
   "execution_count": null,
   "metadata": {
    "collapsed": false
   },
   "outputs": [],
   "source": [
    "def f(X):\n",
    "    '''x should be NxD where D=3'''\n",
    "    N,D = X.shape\n",
    "    return 3 * X[:,0:1] - 2 * X[:,1:2] + np.random.normal(0, 10, (N,1))\n",
    "\n",
    "nSamples = 100\n",
    "Xtrain = np.random.uniform(0,10,(nSamples,3))\n",
    "Ttrain = f(Xtrain)\n",
    "\n",
    "Xtest =  np.random.uniform(0,10,(nSamples,3))\n",
    "Ttest = f(Xtest)"
   ]
  },
  {
   "cell_type": "code",
   "execution_count": null,
   "metadata": {
    "collapsed": false
   },
   "outputs": [],
   "source": [
    "Xtrain.shape, Ttrain.shape, Xtest.shape, Ttest.shape"
   ]
  },
  {
   "cell_type": "markdown",
   "metadata": {},
   "source": [
    "After adding the column of ones, as always,"
   ]
  },
  {
   "cell_type": "code",
   "execution_count": null,
   "metadata": {
    "collapsed": false
   },
   "outputs": [],
   "source": [
    "X1train = np.hstack(( np.ones((nSamples,1)), Xtrain))\n",
    "X1test = np.hstack(( np.ones((nSamples,1)), Xtest))"
   ]
  },
  {
   "cell_type": "markdown",
   "metadata": {},
   "source": [
    "and picking a $\\lambda$ value"
   ]
  },
  {
   "cell_type": "code",
   "execution_count": null,
   "metadata": {
    "collapsed": false
   },
   "outputs": [],
   "source": [
    "lamb = 10.0 # lambda is a reserved word"
   ]
  },
  {
   "cell_type": "markdown",
   "metadata": {},
   "source": [
    "we can solve for the weights."
   ]
  },
  {
   "cell_type": "code",
   "execution_count": null,
   "metadata": {
    "collapsed": false
   },
   "outputs": [],
   "source": [
    "ncols = X1train.shape[1]\n",
    "lambdaI = lamb * np.eye(ncols)\n",
    "lambdaI[0,0] = 0\n",
    "w = np.linalg.lstsq( np.dot(X1train.T, X1train) + lambdaI, np.dot(X1train.T, Ttrain))[0]\n",
    "w"
   ]
  },
  {
   "cell_type": "markdown",
   "metadata": {},
   "source": [
    "Wrap these statements up in a for loop to try a sequence of $\\lambda$\n",
    "values, add some plots, and we get this figure."
   ]
  },
  {
   "cell_type": "code",
   "execution_count": null,
   "metadata": {
    "collapsed": false
   },
   "outputs": [],
   "source": [
    "result = []\n",
    "lambs = np.linspace(0,50,20)*nSamples\n",
    "for lamb in lambs:\n",
    "    lambdaI = lamb * np.eye(ncols)\n",
    "    lambdaI[0,0] = 0\n",
    "    w = np.linalg.lstsq(np.dot(X1train.T,X1train) + lambdaI,\n",
    "                        np.dot(X1train.T, Ttrain))[0]\n",
    "    predTrain = np.dot(X1train,w)\n",
    "    predTest = np.dot(X1test,w)\n",
    "    result.append([lamb, np.sqrt(np.mean((predTrain-Ttrain)**2)),\n",
    "                   np.sqrt(np.mean((predTest-Ttest)**2)),\n",
    "                   list(w.flatten())])\n",
    "    if lamb == 0:\n",
    "        fitTrain = np.hstack((Ttrain,predTrain))\n",
    "        fitTest = np.hstack((Ttest,predTest))\n",
    "    if lamb == lambs[-1]:\n",
    "        fitTrainLast = np.hstack((Ttrain,predTrain))\n",
    "        fitTestLast = np.hstack((Ttest,predTest))\n",
    "\n",
    "lambdas = [res[0] for res in result]\n",
    "rmses = np.array([res[1:3] for res in result]) ## array here for plotting\n",
    "ws = np.array( [res[3] for res in result] )\n",
    "\n",
    "plt.figure(figsize=(10,10))\n",
    "plt.subplot(4,2,1)\n",
    "plt.plot(fitTrain[:,0],fitTrain[:,1],'o')\n",
    "a,b = max(np.min(fitTrain,axis=0)), min(np.max(fitTrain,axis=0)) \n",
    "plt.plot([a,b],[a,b],'r',linewidth=3)\n",
    "plt.title('Training result, with lambda = 0')\n",
    "plt.xlim(-40,50)\n",
    "plt.ylim(-40,50)\n",
    "plt.xlabel('Actual')\n",
    "plt.ylabel('Predicted')\n",
    "\n",
    "plt.subplot(4,2,3)\n",
    "plt.plot(fitTest[:,0],fitTest[:,1],'o')\n",
    "a,b = max(np.min(fitTest,axis=0)), min(np.max(fitTest,axis=0)) \n",
    "plt.plot([a,b],[a,b],'r',linewidth=3)\n",
    "plt.title('Testing result, with lambda = 0')\n",
    "plt.xlim(-40,50)\n",
    "plt.ylim(-40,50)\n",
    "plt.xlabel('Actual')\n",
    "plt.ylabel('Predicted')\n",
    "\n",
    "\n",
    "plt.subplot(4,2,2)\n",
    "plt.plot(fitTrainLast[:,0],fitTrainLast[:,1],'o')\n",
    "a,b = max(np.min(fitTrainLast,axis=0)), min(np.max(fitTrainLast,axis=0)) \n",
    "plt.plot([a,b],[a,b],'r',linewidth=3)\n",
    "plt.title('Training result, with lambda = ' + str(lambs[-1]))\n",
    "plt.xlim(-40,50)\n",
    "plt.ylim(-40,50)\n",
    "plt.xlabel('Actual')\n",
    "plt.ylabel('Predicted')\n",
    "\n",
    "plt.subplot(4,2,4)\n",
    "plt.plot(fitTestLast[:,0],fitTestLast[:,1],'o')\n",
    "a,b = max(np.min(fitTestLast,axis=0)), min(np.max(fitTestLast,axis=0)) \n",
    "plt.plot([a,b],[a,b],'r',linewidth=3)\n",
    "plt.title('Testing result, with lambda = ' + str(lambs[-1]))\n",
    "plt.xlim(-40,50)\n",
    "plt.ylim(-40,50)\n",
    "plt.xlabel('Actual')\n",
    "plt.ylabel('Predicted')\n",
    "\n",
    "plt.subplot(4,2,(5,6))\n",
    "plt.plot(lambdas,rmses,'o-')\n",
    "plt.legend(('train','test'))\n",
    "plt.ylabel('RMSE')\n",
    "plt.xlabel('$\\lambda$')\n",
    "plt.subplot(4,2,(7,8))\n",
    "plt.plot(lambdas,ws,'o-')\n",
    "plt.plot([0,max(lambdas)], [0,0], 'k--')\n",
    "plt.ylabel('weights')\n",
    "plt.xlabel('$\\lambda$')\n",
    "print(\"Weights:\")\n",
    "print(ws)"
   ]
  },
  {
   "cell_type": "markdown",
   "metadata": {},
   "source": [
    "# Uncertainty in Predictions by Linear Model"
   ]
  },
  {
   "cell_type": "markdown",
   "metadata": {},
   "source": [
    "See [Wikipedia entry on bootstrapping](http://en.wikipedia.org/wiki/Bootstrapping_(statistics))."
   ]
  },
  {
   "cell_type": "markdown",
   "metadata": {},
   "source": [
    "One way to quantify uncertainty is to calculate confidence intervals.\n",
    "Let's say we want to estimate the mean of a set of samples of a value.  We can\n",
    "calculate the mean of the samples, but much more informative would be\n",
    "statement like \"We are 95% confident that the true mean will fall\n",
    "between -1.3 and 5.2.\"\n",
    "\n",
    "This means that if we repeat the experiment a number of times with which we gathered our\n",
    "samples, only 5% of those experiments would produce samples whose mean\n",
    "is outside of the interval (-1.3,5.2).\n"
   ]
  },
  {
   "cell_type": "markdown",
   "metadata": {},
   "source": [
    "## Confidence Intervals Assuming Normally Distributed Data"
   ]
  },
  {
   "cell_type": "markdown",
   "metadata": {},
   "source": [
    "The typical way of estimating confidence intervals assumes the\n",
    "statistic you are estimating is well modeled by a Normal\n",
    "distribution.  Say you have collected $n$ samples with\n",
    "estimated mean $m$ and standard deviation $s$.  \n",
    "The 95% confidence interval is given by \n",
    "$$\n",
    "\\left (m - 1.96 \\frac{s}{\\sqrt n}, ~~~~~~m + 1.96 \\frac{s}{\\sqrt n} \\right )\n",
    "$$\n",
    "Remember that\n",
    "$$\n",
    "\\begin{align*}\n",
    "m &= \\frac{1}{n}\\sum_{i=1}^n x_i\\\\\n",
    "s &= \\sqrt{ \\frac{1}{n} \\sum_{i=1}^n (x_i - m)^2}\n",
    "\\end{align*}\n",
    "$$\n",
    "\n",
    "This is all about trying to characterize additional (really an\n",
    "infinite) number of addition sets of samples from the true underlying\n",
    "process.  This is \"accomplished\" by //assuming// a Normal\n",
    "distribution. \n",
    "\n",
    "But what if the Normal assumption is suspected to be not valid?  And\n",
    "you have no idea what the true distribution is?\n",
    "\n",
    "[Brad Efron](http://www-stat.stanford.edu/~ckirby/brad/|Brad Efron) came up with\n",
    "a novel approach for the modern computer age---the //bootstrap//.  The\n",
    "basic idea is to produce many, many additional sets of samples by\n",
    "drawing randomly with replacement from the original data set.  This\n",
    "kind of simulates many more measurements from the underlying process,\n",
    "but much more efficiently.  How many is \"many, many\"?  Sometimes\n",
    "thousands, or tens of thousands.  (Don't worry, in 10 years you will\n",
    "have thousands of cores available.)\n",
    "\n",
    "Let's play with this.  First, here are some values from a standard\n",
    "normal distribution, which has mean of 0 and variance, which is standard deviation squared, of 1.\n"
   ]
  },
  {
   "cell_type": "code",
   "execution_count": null,
   "metadata": {
    "collapsed": false
   },
   "outputs": [],
   "source": [
    "import random\n",
    "import sys\n",
    "\n",
    "N = 500\n",
    "nboot = 200  #used later\n",
    "\n",
    "stdev = 1.0\n",
    "data = np.random.normal(0, stdev, N)"
   ]
  },
  {
   "cell_type": "markdown",
   "metadata": {},
   "source": [
    "Now calculate mean and standard deviation and 95% confidence\n",
    "intervals."
   ]
  },
  {
   "cell_type": "code",
   "execution_count": null,
   "metadata": {
    "collapsed": false
   },
   "outputs": [],
   "source": [
    "mean = np.mean(data)\n",
    "std = np.std(data)  # = np.sqrt(np.mean((data-mean)**2))\n",
    "\n",
    "## 95% confidence intervals for mean assuming data is from Normal distribution\n",
    "(low,high) = (mean - 1.96 * std / np.sqrt(len(data)),\n",
    "              mean + 1.96 * std / np.sqrt(len(data)))\n",
    "print(\"Normal CI:\",low,high)\n"
   ]
  },
  {
   "cell_type": "markdown",
   "metadata": {},
   "source": [
    "Now for the bootstrap versions.  First a function to do the\n",
    "resampling.\n"
   ]
  },
  {
   "cell_type": "code",
   "execution_count": null,
   "metadata": {
    "collapsed": false
   },
   "outputs": [],
   "source": [
    "def bootstrap(data,func,nboot):\n",
    "    '''Produce nboot bootstrap samples from applying func to data'''\n",
    "    n = len(data)\n",
    "    resamples = np.array([[random.choice(data) for i in range(n)]\n",
    "                          for j in range(nboot)])\n",
    "    return np.apply_along_axis(func, 1, resamples)"
   ]
  },
  {
   "cell_type": "markdown",
   "metadata": {},
   "source": [
    "and a use of it to calculate means of all of the bootstrap sample sets."
   ]
  },
  {
   "cell_type": "code",
   "execution_count": null,
   "metadata": {
    "collapsed": false
   },
   "outputs": [],
   "source": [
    "bootstrapMeans = bootstrap(data,np.mean,nboot)"
   ]
  },
  {
   "cell_type": "markdown",
   "metadata": {},
   "source": [
    "Now we can calculate the mean and standard deviation of these\n",
    "bootstrap samples and calculate confidence intervals assuming the\n",
    "means fall in a Normal distribution."
   ]
  },
  {
   "cell_type": "code",
   "execution_count": null,
   "metadata": {
    "collapsed": false
   },
   "outputs": [],
   "source": [
    "meanboot = np.mean(bootstrapMeans)\n",
    "stdboot = np.std(bootstrapMeans)\n",
    "\n",
    "(lowBoot1,highBoot1) = (meanboot - 1.96 * stdboot, meanboot + 1.96 * stdboot)\n",
    "print(\"Bootstrap CI assuming means are Normal:\",lowBoot1,highBoot1)\n"
   ]
  },
  {
   "cell_type": "markdown",
   "metadata": {},
   "source": [
    "## Confidence Intervals Without Assumptions"
   ]
  },
  {
   "cell_type": "markdown",
   "metadata": {},
   "source": [
    "But, the real magic comes when we make no assumptions. Just use the\n",
    "sorted means of the bootstrap samples and pick the one 2.5% from the\n",
    "bottom and the one 2.5% from the top to get the 95% confidence\n",
    "interval."
   ]
  },
  {
   "cell_type": "code",
   "execution_count": null,
   "metadata": {
    "collapsed": false
   },
   "outputs": [],
   "source": [
    "bootstrapMeans.sort()\n",
    "loweri = int(round(nboot*0.025))\n",
    "(lowBoot2, highBoot2) = bootstrapMeans[[loweri,nboot-loweri]]\n",
    "print( \"Bootstrap CI without assumptions:\",lowBoot2,highBoot2)\n"
   ]
  },
  {
   "cell_type": "code",
   "execution_count": null,
   "metadata": {
    "collapsed": false
   },
   "outputs": [],
   "source": [
    "\n",
    "import random\n",
    "from math import ceil, floor\n",
    "\n",
    "##np.set_printoptions(precision=5)\n",
    "\n",
    "nModels = 20  # should be more like 1000\n",
    "confidence = 90 # percent\n",
    "\n",
    "n = 20\n",
    "X = np.hstack((np.linspace(0, 3, num=n),\n",
    "               np.linspace(6, 10, num=n))).reshape((2*n,1))\n",
    "T = -1 + 0.4 * X + 2*np.random.normal(size=(2*n,1))\n",
    "\n",
    "plt.subplot(3,1,1)\n",
    "plt.plot(X,T,'o-')\n",
    "\n",
    "nTest = 50\n",
    "Xtest = np.linspace(-5,15,nTest).reshape((nTest,1))\n",
    "Xtest = np.hstack((np.ones((Xtest.shape[0],1)), Xtest))\n",
    "\n",
    "nRows = X.shape[0]\n",
    "X = np.hstack((np.ones((nRows,1)), X))\n",
    "\n",
    "Yall = np.zeros((nTest,nModels))\n",
    "Wall = np.zeros((X.shape[1],nModels))\n",
    "\n",
    "for modeli in range(nModels):\n",
    "    trainI = [random.randint(0,nRows-1) for i in range(nRows)]\n",
    "    Xtrain = X[trainI,:]\n",
    "    Ttrain = T[trainI,:]\n",
    "    w = np.linalg.solve(np.dot(Xtrain.T,Xtrain), np.dot(Xtrain.T,Ttrain))\n",
    "    Wall[:,modeli] = w.flatten()\n",
    "    \n",
    "    Ytest = np.dot(Xtest, w)\n",
    "    Yall[:,modeli] = Ytest.flatten()\n",
    "\n",
    "plt.subplot(3,1,2)\n",
    "plt.plot(X[:,1:],T,'o-')\n",
    "plt.plot(Xtest[:,1:],Yall)\n",
    "\n",
    "confidenceFraction = (1-confidence/100.0)/2.0\n",
    "loweri = int(ceil(nModels*confidenceFraction))\n",
    "upperi = int(floor(nModels*(1-confidenceFraction)))\n",
    "\n",
    "lower = np.zeros((nTest))\n",
    "upper = np.zeros((nTest))\n",
    "for xi in range(nTest):\n",
    "    predictions = Yall[xi,:]\n",
    "    predictions.sort()\n",
    "    lower[xi] = predictions[loweri]\n",
    "    upper[xi] = predictions[upperi]\n",
    "\n",
    "nAttributes = X.shape[1]\n",
    "lowerW = np.zeros((nAttributes))\n",
    "upperW = np.zeros((nAttributes))\n",
    "for wi in range(nAttributes):\n",
    "    wis = Wall[wi,:]\n",
    "    wis.sort()\n",
    "    lowerW[wi] = wis[loweri]\n",
    "    upperW[wi] = wis[upperi]\n",
    "\n",
    "print(\"Weights:\")\n",
    "for wi in range(nAttributes):\n",
    "    print(\"weight %d median= %.3f range= %.3f to %.3f\" % (wi, np.median(Wall[wi,:]),lowerW[wi],upperW[wi]))\n",
    "\n",
    "plt.subplot(3,1,3)\n",
    "plt.plot(X[:,1:],T,'o-')\n",
    "plt.fill_between(Xtest[:,1:].flatten(),lower,upper,alpha=0.4)\n",
    "\n",
    "plt.figure(2)\n",
    "plt.clf()\n",
    "plt.boxplot(Wall.T)\n",
    "plt.xlabel(\"Attribute\")\n",
    "plt.ylabel(\"Distribution of weight values\")"
   ]
  },
  {
   "cell_type": "markdown",
   "metadata": {},
   "source": [
    "## Bias-Corrected, Accelerated Intervals"
   ]
  },
  {
   "cell_type": "markdown",
   "metadata": {},
   "source": [
    "The above straightforward estimate of confidence intervals is known to\n",
    "be biased when the statistic you are estimating an interval for is\n",
    "skewed.  One way of \"correcting\" it is known as the \"bias-corrected,\n",
    "accelerated\" method.  See the assigned reading,\n",
    "[Bootstrapping Regression Models](http://www.sagepub.com/upm-data/21122_Chapter_21.pdf), by John Fox, for a bit more about this.\n",
    "\n",
    "This method picks different lower and upper indices into the sorted\n",
    "list of the bootstrap sample statistic values.  The indices are based on two\n",
    "correction factors.  Let's use the example of estimating the\n",
    "confidence interval for the predictions, $y_1, y_2, \\ldots, y_r$, from\n",
    "our $r$ linear models created from $r$ bootstrap samples.\n",
    "\n",
    "To obtain the first correction factor, first\n",
    "calculate a value from the cumulative standard \n",
    "Normal distribution corresponding to the likelihood that a bootstrap\n",
    "sample prediction will be less than the calculated mean prediction.\n",
    "To calculate \n",
    "this, just determine the number of  \n",
    "bootstrap samples whose value is less than the original\n",
    "sample mean divided by the number of bootstrap samples.  Apply\n",
    "the inverse cumulative Normal distribution to this.  Let's use\n",
    "$\\hat{y}$ for the mean of the $y_i$'s.\n",
    "$$\n",
    "    \\begin{align*}\n",
    "      Z &= \\Phi^{-1} \\left [ \\frac{\\count{i=1}{r} (y_i < \\hat{y})}{r}\n",
    "       \\right ]\n",
    "    \\end{align*}\n",
    "$$\n",
    "\n",
    "To calculate the next correction factor, $A$, we need to recalculate\n",
    "the mean of the $y_i$'s multiple times, leaving one of the $y_i$'s out\n",
    "each time.  Call these $\\hat{y}_{(-i)}$.\n",
    "$$\n",
    "    \\begin{align*}\n",
    "    \\bar{y} &= \\frac{\\sum_{i=1}^r \\hat{y}_{(-i)}}{r}\\\\\n",
    "     A &= \\frac{\\sum_{i=1}^r (\\hat{y}_{(-1)} - \\bar{y})^3}{6[\\sum_{i=1}^r (\\hat{y}_{(-1)} - \\bar{y})^2]^{3/2}}\n",
    "    \\end{align*}\n",
    "$$\n",
    "\n",
    "Use these correction factors to get\n",
    "$$\n",
    "    \\begin{align*}\n",
    "    A_1 &= \\Phi \\left [ Z + \\frac{Z-z_{a/2}}{1-A(Z-z_{a/2})} \\right\n",
    "    ]\\\\\n",
    "    A_2 &= \\Phi \\left [ Z + \\frac{Z+z_{a/2}}{1-A(Z+z_{a/2})} \\right\n",
    "    ]\\\\\n",
    "    \\mathrm{loweri} &= r A_1\\\\\n",
    "    \\mathrm{upperi} &= r A_2\n",
    "    \\end{align*}\n",
    "$$\n",
    "where $z_{a/2}$ is the unit-normal value with probability $a/2$ to the\n",
    "right."
   ]
  },
  {
   "cell_type": "markdown",
   "metadata": {},
   "source": [
    "Huh?  Maybe some python will help.  From above, the predictions from\n",
    "the models built on the bootstrap models for the first test sample are"
   ]
  },
  {
   "cell_type": "code",
   "execution_count": null,
   "metadata": {
    "collapsed": false
   },
   "outputs": [],
   "source": [
    "ys = Yall[0,:]\n",
    "ys"
   ]
  },
  {
   "cell_type": "markdown",
   "metadata": {},
   "source": [
    "To calculate $Z$, we need the inverse cumulative Normal\n",
    "distribution. Check out [scipy.stats documentation](http://docs.scipy.org/doc/scipy/reference/stats.html) or the more\n",
    "readable [Distributions in SciPy](http://www.johndcook.com/distributions_scipy.html)."
   ]
  },
  {
   "cell_type": "code",
   "execution_count": null,
   "metadata": {
    "collapsed": false
   },
   "outputs": [],
   "source": [
    "import scipy.stats as st\n",
    "r = len(ys)\n",
    "Z = st.norm.ppf( np.sum(ys < np.mean(ys)) / r )\n",
    "Z"
   ]
  },
  {
   "cell_type": "markdown",
   "metadata": {},
   "source": [
    "Now, how will we produce those $\\hat{y}_{(-i)}$?  Need to remove one\n",
    "value at a time and calculate the resulting mean.  Can do by\n",
    "subtracting each one from the sum of all, then dividing by one less\n",
    "than the total!  (Sometimes called leave-one-out.)  Wrapping this up\n",
    "in a function called *bcaIntervals*, we get"
   ]
  },
  {
   "cell_type": "code",
   "execution_count": null,
   "metadata": {
    "collapsed": false
   },
   "outputs": [],
   "source": [
    "def bcaIntervals(ys, prob=90):\n",
    "  r = len(ys)\n",
    "  Z = st.norm.ppf( np.sum(ys < np.mean(ys)) / float(r) )\n",
    "  loos = (np.sum(ys) - ys) / (len(ys)-1)\n",
    "  loosMeanSubtracted = loos - np.mean(loos)\n",
    "  A = np.sum(loosMeanSubtracted**3) / (6 * np.sum(loosMeanSubtracted**2)**(3/2.0))\n",
    "  z = st.norm.ppf(1 - (100-prob)/2.0/100.0)\n",
    "  A1 = st.norm.cdf(Z + (Z-z)/(1-A*(Z-z)))\n",
    "  A2 = st.norm.cdf(Z + (Z+z)/(1-A*(Z+z)))\n",
    "  loweri = int(round(r * A1))\n",
    "  upperi = int(round(r * A2))\n",
    "  ys = np.sort(ys)\n",
    "  CI = (ys[loweri],ys[upperi])\n",
    "  return CI\n",
    "\n",
    "CI = bcaIntervals(ys,90)\n",
    "print(CI)"
   ]
  },
  {
   "cell_type": "markdown",
   "metadata": {},
   "source": [
    "Here is another example, using Uniformly distributed random values."
   ]
  },
  {
   "cell_type": "code",
   "execution_count": null,
   "metadata": {
    "collapsed": false
   },
   "outputs": [],
   "source": [
    "CI = bcaIntervals(np.random.rand(1000),90)\n",
    "print(CI)"
   ]
  },
  {
   "cell_type": "markdown",
   "metadata": {},
   "source": [
    "And how about some Normally-distributed values?"
   ]
  },
  {
   "cell_type": "code",
   "execution_count": null,
   "metadata": {
    "collapsed": false
   },
   "outputs": [],
   "source": [
    "bcaIntervals(np.random.normal(0, 1, 1000),90)"
   ]
  },
  {
   "cell_type": "code",
   "execution_count": null,
   "metadata": {
    "collapsed": false
   },
   "outputs": [],
   "source": [
    "bcaIntervals(np.random.normal(0, 1, 1000),95)"
   ]
  },
  {
   "cell_type": "code",
   "execution_count": null,
   "metadata": {
    "collapsed": false
   },
   "outputs": [],
   "source": []
  }
 ],
 "metadata": {
  "kernelspec": {
   "display_name": "Python 3",
   "language": "python",
   "name": "python3"
  },
  "language_info": {
   "codemirror_mode": {
    "name": "ipython",
    "version": 3
   },
   "file_extension": ".py",
   "mimetype": "text/x-python",
   "name": "python",
   "nbconvert_exporter": "python",
   "pygments_lexer": "ipython3",
   "version": "3.4.3"
  }
 },
 "nbformat": 4,
 "nbformat_minor": 0
}
