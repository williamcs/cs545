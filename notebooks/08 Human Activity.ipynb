{
 "metadata": {
  "name": "",
  "signature": "sha256:e693a626ceaa5185b6f210514dba9c505c5682eb6c35e9bf0facc76ced92d517"
 },
 "nbformat": 3,
 "nbformat_minor": 0,
 "worksheets": [
  {
   "cells": [
    {
     "cell_type": "code",
     "collapsed": false,
     "input": [
      "%matplotlib inline\n",
      "import matplotlib.pyplot as plt\n",
      "import numpy as np"
     ],
     "language": "python",
     "metadata": {},
     "outputs": []
    },
    {
     "cell_type": "code",
     "collapsed": false,
     "input": [
      "import urllib\n",
      "import gzip\n",
      "\n",
      "url = 'http://www.cs.colostate.edu/~anderson/cs545/notebooks/accelerometers.numpy.gz'\n",
      "with gzip.GzipFile(fileobj=urllib.request.urlopen(url)) as f:\n",
      "    accelerometers = np.loadtxt(f)"
     ],
     "language": "python",
     "metadata": {},
     "outputs": []
    },
    {
     "cell_type": "code",
     "collapsed": false,
     "input": [
      "plt.plot(accelerometers);"
     ],
     "language": "python",
     "metadata": {},
     "outputs": []
    },
    {
     "cell_type": "code",
     "collapsed": false,
     "input": [
      "accelerometers[0,:]"
     ],
     "language": "python",
     "metadata": {},
     "outputs": []
    },
    {
     "cell_type": "code",
     "collapsed": false,
     "input": [
      "mu = np.mean(accelerometers[:,1:])\n",
      "u,s,v = np.linalg.svd(accelerometers[:,1:] - mu,full_matrices=False)\n",
      "v = v.T\n",
      "v"
     ],
     "language": "python",
     "metadata": {},
     "outputs": []
    },
    {
     "cell_type": "code",
     "collapsed": false,
     "input": [
      "s"
     ],
     "language": "python",
     "metadata": {},
     "outputs": []
    },
    {
     "cell_type": "code",
     "collapsed": false,
     "input": [
      "plt.figure(figsize=(15,15))\n",
      "projected = np.dot(accelerometers[:,1:] - mu, v)\n",
      "print(projected.shape)\n",
      "step = 100\n",
      "plt.scatter(projected[::step,0],projected[::step,1],c=accelerometers[::step,0]);\n",
      "plt.colorbar();"
     ],
     "language": "python",
     "metadata": {},
     "outputs": []
    }
   ],
   "metadata": {}
  }
 ]
}