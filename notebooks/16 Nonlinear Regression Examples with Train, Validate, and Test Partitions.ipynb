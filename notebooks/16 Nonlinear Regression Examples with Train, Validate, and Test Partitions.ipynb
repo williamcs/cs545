{
 "metadata": {
  "name": "",
  "signature": "sha256:ae38ad9862eedd3897d459e86a6399399a1b1d7171dba8d8d8dfd97c364c50b8"
 },
 "nbformat": 3,
 "nbformat_minor": 0,
 "worksheets": [
  {
   "cells": [
    {
     "cell_type": "heading",
     "level": 1,
     "metadata": {},
     "source": [
      "Nonlinear Regression Examples with Train, Validate, and Test Partitions"
     ]
    },
    {
     "cell_type": "code",
     "collapsed": false,
     "input": [
      "import numpy as np\n",
      "import matplotlib.pyplot as plt\n",
      "%matplotlib inline"
     ],
     "language": "python",
     "metadata": {},
     "outputs": [],
     "prompt_number": 1
    },
    {
     "cell_type": "code",
     "collapsed": false,
     "input": [
      "!wget -o nn1.tar.gz http://www.cs.colostate.edu/~anderson/cs545/notebooks/nn1.tar.gz\n",
      "!tar xvf nn1.tar.gz"
     ],
     "language": "python",
     "metadata": {},
     "outputs": [
      {
       "output_type": "stream",
       "stream": "stdout",
       "text": [
        "--2014-10-21 14:57:55--  http://www.cs.colostate.edu/~anderson/cs545/notebooks/nn1.tar.gz\r\n",
        "Resolving www.cs.colostate.edu (www.cs.colostate.edu)... 129.82.45.114\r\n",
        "Connecting to www.cs.colostate.edu (www.cs.colostate.edu)|129.82.45.114|:80... connected.\r\n",
        "HTTP request sent, awaiting response... 200 OK\r\n",
        "Length: 9433 (9.2K) [application/x-gzip]\r\n",
        "Saving to: \u2018nn1.tar.gz.1\u2019\r\n",
        "\r\n",
        "\r",
        " 0% [                                       ] 0           --.-K/s              \r",
        "100%[======================================>] 9,433       --.-K/s   in 0s      \r\n",
        "\r\n",
        "2014-10-21 14:57:55 (234 MB/s) - \u2018nn1.tar.gz.1\u2019 saved [9433/9433]\r\n",
        "\r\n"
       ]
      },
      {
       "output_type": "stream",
       "stream": "stdout",
       "text": [
        "neuralnetworks1.py\r\n",
        "mlutils.py\r\n",
        "scaledconjugategradient.py\r\n"
       ]
      }
     ],
     "prompt_number": 6
    },
    {
     "cell_type": "code",
     "collapsed": false,
     "input": [
      "import neuralnetworks1 as nn\n",
      "help(nn)"
     ],
     "language": "python",
     "metadata": {},
     "outputs": [
      {
       "output_type": "stream",
       "stream": "stdout",
       "text": [
        "Help on module neuralnetworks1:\n",
        "\n",
        "NAME\n",
        "    neuralnetworks1\n",
        "\n",
        "DESCRIPTION\n",
        "    Neural network with one hidden layer.\n",
        "    For nonlinear regression (prediction of real-valued outputs)\n",
        "      net = NeuralNetwork(ni,nh,no)       # ni is number of attributes each sample,\n",
        "                                      # nh is number of hidden units,\n",
        "                                      # no is number of output components\n",
        "      net.train(X,T,                  # X is nSamples x ni, T is nSamples x no\n",
        "                nIterations=1000,     # maximum number of SCG iterations\n",
        "                weightPrecision=1e-8, # SCG terminates when weight change magnitudes fall below this,\n",
        "                errorPrecision=1e-8)  # SCG terminates when objective function change magnitudes fall below this\n",
        "      Y,Z = net.use(Xtest,allOutputs=True)  # Y is nSamples x no, Z is nSamples x nh\n",
        "    \n",
        "    For nonlinear classification (prediction of integer valued class labels)\n",
        "      net = NeuralNetworkClassifier(ni,nh,no)\n",
        "      net.train(X,T,                  # X is nSamples x ni, T is nSamples x 1 (integer class labels\n",
        "                nIterations=1000,     # maximum number of SCG iterations\n",
        "                weightPrecision=1e-8, # SCG terminates when weight change magnitudes fall below this,\n",
        "                errorPrecision=1e-8)  # SCG terminates when objective function change magnitudes fall below this\n",
        "      classes,Y,Z = net.use(Xtest,allOutputs=True)  # classes is nSamples x 1\n",
        "\n",
        "CLASSES\n",
        "    builtins.object\n",
        "        NeuralNetwork\n",
        "            NeuralNetworkClassifier\n",
        "    \n",
        "    class NeuralNetwork(builtins.object)\n",
        "     |  Methods defined here:\n",
        "     |  \n",
        "     |  __init__(self, ni, nhs, no)\n",
        "     |  \n",
        "     |  __repr__(self)\n",
        "     |  \n",
        "     |  draw(self, inputNames=None, outputNames=None)\n",
        "     |  \n",
        "     |  getErrorTrace(self)\n",
        "     |  \n",
        "     |  getNumberOfIterations(self)\n",
        "     |  \n",
        "     |  getSize(self)\n",
        "     |  \n",
        "     |  pickleDump(self, filename)\n",
        "     |  \n",
        "     |  train(self, X, T, nIterations=100, weightPrecision=0.0001, errorPrecision=0.0001, verbose=False)\n",
        "     |  \n",
        "     |  use(self, X, allOutputs=False)\n",
        "     |  \n",
        "     |  ----------------------------------------------------------------------\n",
        "     |  Data descriptors defined here:\n",
        "     |  \n",
        "     |  __dict__\n",
        "     |      dictionary for instance variables (if defined)\n",
        "     |  \n",
        "     |  __weakref__\n",
        "     |      list of weak references to the object (if defined)\n",
        "    \n",
        "    class NeuralNetworkClassifier(NeuralNetwork)\n",
        "     |  Method resolution order:\n",
        "     |      NeuralNetworkClassifier\n",
        "     |      NeuralNetwork\n",
        "     |      builtins.object\n",
        "     |  \n",
        "     |  Methods defined here:\n",
        "     |  \n",
        "     |  __init__(self, ni, nhs, no)\n",
        "     |  \n",
        "     |  train(self, X, T, nIterations=100, weightPrecision=0.0001, errorPrecision=0.0001, verbose=False)\n",
        "     |  \n",
        "     |  use(self, X, allOutputs=False)\n",
        "     |  \n",
        "     |  ----------------------------------------------------------------------\n",
        "     |  Methods inherited from NeuralNetwork:\n",
        "     |  \n",
        "     |  __repr__(self)\n",
        "     |  \n",
        "     |  draw(self, inputNames=None, outputNames=None)\n",
        "     |  \n",
        "     |  getErrorTrace(self)\n",
        "     |  \n",
        "     |  getNumberOfIterations(self)\n",
        "     |  \n",
        "     |  getSize(self)\n",
        "     |  \n",
        "     |  pickleDump(self, filename)\n",
        "     |  \n",
        "     |  ----------------------------------------------------------------------\n",
        "     |  Data descriptors inherited from NeuralNetwork:\n",
        "     |  \n",
        "     |  __dict__\n",
        "     |      dictionary for instance variables (if defined)\n",
        "     |  \n",
        "     |  __weakref__\n",
        "     |      list of weak references to the object (if defined)\n",
        "\n",
        "FILE\n",
        "    /s/parsons/e/fac/anderson/public_html/cs545/notebooks/neuralnetworks1.py\n",
        "\n",
        "\n"
       ]
      }
     ],
     "prompt_number": 7
    },
    {
     "cell_type": "markdown",
     "metadata": {},
     "source": [
      "Let's make some toy data, again as a noisy function of one variable so we can easily plot the model output."
     ]
    },
    {
     "cell_type": "code",
     "collapsed": false,
     "input": [
      "nSamples = 200\n",
      "X = np.linspace(0,50,nSamples).reshape((-1,1))\n",
      "T = 1.5 - 0.6 * X + 30 * np.exp(-0.1*(X-20)**2)  - 40 * np.exp(-0.1*(X-35)**2)  + np.random.uniform(-5,5,size=(nSamples,1))\n",
      "X.shape, T.shape"
     ],
     "language": "python",
     "metadata": {},
     "outputs": [
      {
       "metadata": {},
       "output_type": "pyout",
       "prompt_number": 36,
       "text": [
        "((200, 1), (200, 1))"
       ]
      }
     ],
     "prompt_number": 36
    },
    {
     "cell_type": "code",
     "collapsed": false,
     "input": [
      "plt.plot(X,T);"
     ],
     "language": "python",
     "metadata": {},
     "outputs": [
      {
       "metadata": {},
       "output_type": "display_data",
       "png": "[encoded data removed]",
       "text": [
        "<matplotlib.figure.Figure at 0x7f452e1f8550>"
       ]
      }
     ],
     "prompt_number": 37
    },
    {
     "cell_type": "markdown",
     "metadata": {},
     "source": [
      "Let's make a function to\n",
      "\n",
      "   * partition into 60% for training, 20% for validation, and 20% for testing\n",
      "   * train a neural network on training data\n",
      "   * calculate error on validation data\n",
      "   * calculate error on testing data\n",
      "   * repeat above steps for different network shapes"
     ]
    },
    {
     "cell_type": "code",
     "collapsed": false,
     "input": [
      "def partition_train_validate_test(X,T, fractions, network_shapes, nRepetitions):\n",
      "    trainFraction = fractions[0]\n",
      "    if len(fractions) == 2:\n",
      "        # Skip the validation step\n",
      "        validateFraction = 0\n",
      "        testFraction = fractions[1]\n",
      "    else:\n",
      "        validateFraction = fractions[1]\n",
      "        testFraction = fractions[2]\n",
      "        \n",
      "    n = X.shape[0]\n",
      "    nTrain = round(trainFraction * n)\n",
      "    nValidate = round(validateFraction * n)\n",
      "    nTest = n - nTrain - nValidate\n",
      "\n",
      "    rowIndices = np.arange(n)\n",
      "\n",
      "    results = []  # will contain nHiddenUnits, RMSEtrain, RMSEvalidate, RMSEtest\n",
      "\n",
      "    for nHiddens in network_shapes:\n",
      "\n",
      "        print('Working with hidden layers =', nHiddens)\n",
      "    \n",
      "        for rep in range(nRepetitions):\n",
      "\n",
      "            # Random arrangement of row indices\n",
      "            np.random.shuffle(rowIndices)\n",
      "    \n",
      "            # Assign Xtrain and Train. Remove columns from Xtrain that contain constant values.\n",
      "            Xtrain = X[rowIndices[:nTrain],:]\n",
      "            Ttrain = T[rowIndices[:nTrain],:]\n",
      "\n",
      "            if nValidate > 0:\n",
      "                # Assign Xvalidate and Tvalidate\n",
      "                Xvalidate = X[rowIndices[nTrain:nTrain+nValidate],:]\n",
      "                Tvalidate = T[rowIndices[nTrain:nTrain+nValidate],:]\n",
      "\n",
      "            # Assign Xtest and Ttest\n",
      "            Xtest = X[rowIndices[nTrain+nValidate:],:]\n",
      "            Ttest = T[rowIndices[nTrain+nValidate:],:]\n",
      "        \n",
      "            # build the model and test it\n",
      "            nnet = nn.NeuralNetwork(Xtrain.shape[1],nHiddens,1)\n",
      "            nnet.train(Xtrain,Ttrain,nIterations=500)\n",
      "            Ptrain = nnet.use(Xtrain)\n",
      "            if nValidate > 0:\n",
      "                Pvalidate = nnet.use(Xvalidate)\n",
      "            Ptest = nnet.use(Xtest)\n",
      "\n",
      "            # Use the model to predict and calculate errors.\n",
      "            RMSEtrain = rmse(Ptrain,Ttrain)\n",
      "            if nValidate > 0:\n",
      "                RMSEvalidate = rmse(Pvalidate,Tvalidate)\n",
      "            RMSEtest = rmse(Ptest,Ttest)\n",
      "\n",
      "            if nValidate > 0:\n",
      "                results.append([nHiddens, RMSEtrain, RMSEvalidate, RMSEtest])\n",
      "            else:\n",
      "                results.append([nHiddens, RMSEtrain,RMSEtest])                \n",
      "    \n",
      "    return np.array(results), Ptrain, Ttrain, nnet\n",
      "\n",
      "def rmse(P,T):\n",
      "    return np.sqrt(np.mean(P-T)**2)"
     ],
     "language": "python",
     "metadata": {},
     "outputs": [],
     "prompt_number": 42
    },
    {
     "cell_type": "code",
     "collapsed": false,
     "input": [
      "results,_,_,_ = partition_train_validate_test(X,T, (0.6,0.2,0.2), (1,2,5,10,20,40,50), 10)"
     ],
     "language": "python",
     "metadata": {},
     "outputs": [
      {
       "output_type": "stream",
       "stream": "stdout",
       "text": [
        "Working with hidden layers = 1\n",
        "Working with hidden layers ="
       ]
      },
      {
       "output_type": "stream",
       "stream": "stdout",
       "text": [
        " 2\n",
        "Working with hidden layers ="
       ]
      },
      {
       "output_type": "stream",
       "stream": "stdout",
       "text": [
        " 5\n",
        "Working with hidden layers ="
       ]
      },
      {
       "output_type": "stream",
       "stream": "stdout",
       "text": [
        " 10\n",
        "Working with hidden layers ="
       ]
      },
      {
       "output_type": "stream",
       "stream": "stdout",
       "text": [
        " 20\n",
        "Working with hidden layers ="
       ]
      },
      {
       "output_type": "stream",
       "stream": "stdout",
       "text": [
        " 40\n",
        "Working with hidden layers ="
       ]
      },
      {
       "output_type": "stream",
       "stream": "stdout",
       "text": [
        " 50\n"
       ]
      }
     ],
     "prompt_number": 54
    },
    {
     "cell_type": "code",
     "collapsed": false,
     "input": [
      "results = np.array(results)\n",
      "uniqueNHiddens = np.unique(results[:,0]) # should be equal to lambdas\n",
      "means = []\n",
      "for nHidden in uniqueNHiddens:\n",
      "    mask = nHidden == results[:,0]\n",
      "    means.append([nHidden] + np.mean(results[mask,1:],axis=0).tolist())\n",
      "means = np.array(means)\n",
      "\n",
      "plt.ion()\n",
      "\n",
      "plt.figure(1)\n",
      "plt.clf()\n",
      "plt.subplot(2,1,1)\n",
      "plt.plot(means[:,0],means[:,1:2])\n",
      "plt.legend(('Train',))\n",
      "plt.subplot(2,1,2)\n",
      "plt.plot(means[:,0], means[:,2:])\n",
      "plt.legend(('Validate','Test'),loc='best');"
     ],
     "language": "python",
     "metadata": {},
     "outputs": [
      {
       "metadata": {},
       "output_type": "display_data",
       "png": "[encoded data removed]",
       "text": [
        "<matplotlib.figure.Figure at 0x7f452dd96b00>"
       ]
      }
     ],
     "prompt_number": 55
    },
    {
     "cell_type": "code",
     "collapsed": false,
     "input": [
      "bestHiddens = uniqueNHiddens[np.argmin(means[:,2])] # third column contains validation data RMSE\n",
      "bestHiddens"
     ],
     "language": "python",
     "metadata": {},
     "outputs": [
      {
       "metadata": {},
       "output_type": "pyout",
       "prompt_number": 56,
       "text": [
        "20.0"
       ]
      }
     ],
     "prompt_number": 56
    },
    {
     "cell_type": "markdown",
     "metadata": {},
     "source": [
      "Now retrain using 80% for training and 20% for testing, with best number of hidden units."
     ]
    },
    {
     "cell_type": "code",
     "collapsed": false,
     "input": [
      "newresults,Ptest,Ttest,nnet = partition_train_validate_test(X,T, (0.8,0.2), (bestHiddens,), 1)"
     ],
     "language": "python",
     "metadata": {},
     "outputs": [
      {
       "output_type": "stream",
       "stream": "stdout",
       "text": [
        "Working with hidden layers = 20.0\n"
       ]
      }
     ],
     "prompt_number": 57
    },
    {
     "cell_type": "code",
     "collapsed": false,
     "input": [
      "newresults"
     ],
     "language": "python",
     "metadata": {},
     "outputs": [
      {
       "metadata": {},
       "output_type": "pyout",
       "prompt_number": 58,
       "text": [
        "array([[  2.00000000e+01,   1.88788196e-02,   3.95287884e-01]])"
       ]
      }
     ],
     "prompt_number": 58
    },
    {
     "cell_type": "code",
     "collapsed": false,
     "input": [
      "RMSEtrain = newresults[0,1]\n",
      "RMSEtest = newresults[0,2]\n",
      "\n",
      "print('Best nHidden of',bestHiddens,' results in RMSE train of',RMSEtrain,' and RMSE test of',RMSEtest)\n",
      "\n",
      "plt.figure(2)\n",
      "plt.clf()\n",
      "plt.plot(Ttest,Ptest,'o')\n",
      "a = max(min(Ptest),min(Ttest))\n",
      "b = min(max(Ptest),max(Ttest))\n",
      "plt.plot([a,b],[a,b],'r',linewidth=3)\n",
      "plt.xlabel('Actual Intensity')\n",
      "plt.ylabel('Predicted Intensity')\n",
      "plt.title('Using best nHiddens ='+str(bestHiddens));"
     ],
     "language": "python",
     "metadata": {},
     "outputs": [
      {
       "output_type": "stream",
       "stream": "stdout",
       "text": [
        "Best nHidden of 20.0  results in RMSE train of 0.0188788196325  and RMSE test of 0.395287884446\n"
       ]
      },
      {
       "metadata": {},
       "output_type": "display_data",
       "png": "[encoded data removed]",
       "text": [
        "<matplotlib.figure.Figure at 0x7f452e0b4e10>"
       ]
      }
     ],
     "prompt_number": 59
    },
    {
     "cell_type": "code",
     "collapsed": false,
     "input": [],
     "language": "python",
     "metadata": {},
     "outputs": []
    }
   ],
   "metadata": {}
  }
 ]
}