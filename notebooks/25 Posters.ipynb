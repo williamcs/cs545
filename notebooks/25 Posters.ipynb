{
 "metadata": {
  "name": "",
  "signature": "sha256:61cdb0c64d69482df70b9827c5740a805e0f96fa39c75d5e81144438a72d986c"
 },
 "nbformat": 3,
 "nbformat_minor": 0,
 "worksheets": [
  {
   "cells": [
    {
     "cell_type": "heading",
     "level": 1,
     "metadata": {},
     "source": [
      "Posters"
     ]
    },
    {
     "cell_type": "markdown",
     "metadata": {},
     "source": [
      " \n",
      "\n",
      "  * [Google Drive poster](https://docs.google.com/presentation/d/1j_uuYM_s_gPt5e8rM9Z7-Nr7-h-HMTc_RQe9ftWeMHc/pub?start=false&loop=false&delayms=3000)\n",
      "  * [Libreoffice Poster](file/cs545officeposter.odg)\n",
      "  * [Latex](http://mollermara.com/blog/scientific-posters-in-latex/)\n",
      "  * [Matplotlib figures for posters](http://stackoverflow.com/questions/22386064/plotting-for-conference-posters-increase-textsize-linewidth-at-once)\n",
      "  * [General design](http://www.personal.psu.edu/drs18/postershow/)\n",
      "  \n",
      " "
     ]
    },
    {
     "cell_type": "markdown",
     "metadata": {},
     "source": [
      "You can print them in Morgan Library.  Ask the Help desk for, uh, help.  Cost should be about $23 for a 36 inch wide by 42 inch tall poster.\n",
      "\n",
      "Save your poster as a PDF file on a jump drive, or a spot that is publicly accessible on the net."
     ]
    },
    {
     "cell_type": "code",
     "collapsed": false,
     "input": [],
     "language": "python",
     "metadata": {},
     "outputs": []
    }
   ],
   "metadata": {}
  }
 ]
}