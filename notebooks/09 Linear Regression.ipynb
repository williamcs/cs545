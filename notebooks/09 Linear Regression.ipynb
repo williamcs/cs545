{
 "cells": [
  {
   "cell_type": "markdown",
   "metadata": {},
   "source": [
    "# Linear Models for Predicting Continuous Values"
   ]
  },
  {
   "cell_type": "markdown",
   "metadata": {},
   "source": [
    "## Linear Structure"
   ]
  },
  {
   "cell_type": "markdown",
   "metadata": {},
   "source": [
    "$\\newcommand{\\xv}{\\mathbf{x}}\n",
    "\\newcommand{\\Xv}{\\mathbf{X}}\n",
    "\\newcommand{\\yv}{\\mathbf{y}}\n",
    "\\newcommand{\\zv}{\\mathbf{z}}\n",
    "\\newcommand{\\av}{\\mathbf{a}}\n",
    "\\newcommand{\\Wv}{\\mathbf{W}}\n",
    "\\newcommand{\\wv}{\\mathbf{w}}\n",
    "\\newcommand{\\tv}{\\mathbf{t}}\n",
    "\\newcommand{\\Tv}{\\mathbf{T}}\n",
    "\\newcommand{\\muv}{\\boldsymbol{\\mu}}\n",
    "\\newcommand{\\sigmav}{\\boldsymbol{\\sigma}}\n",
    "\\newcommand{\\phiv}{\\boldsymbol{\\phi}}\n",
    "\\newcommand{\\Phiv}{\\boldsymbol{\\Phi}}\n",
    "\\newcommand{\\Sigmav}{\\boldsymbol{\\Sigma}}\n",
    "\\newcommand{\\Lambdav}{\\boldsymbol{\\Lambda}}\n",
    "\\newcommand{\\half}{\\frac{1}{2}}\n",
    "\\newcommand{\\argmax}[1]{\\underset{#1}{\\operatorname{argmax}}}\n",
    "\\newcommand{\\argmin}[1]{\\underset{#1}{\\operatorname{argmin}}}$"
   ]
  },
  {
   "cell_type": "markdown",
   "metadata": {},
   "source": [
    "Given $N$ observations, $\\xv_n$, for $n=1,\\ldots,N$, and target values,\n",
    "$t_n$, for $n=1,\\ldots,N$, what is the simplest model,\n",
    "$y(\\xv)$, you can think of?\n",
    "\n",
    "$$\n",
    "y(\\xv) = 0\n",
    "$$\n",
    "\n",
    "or maybe\n",
    "\n",
    "$$\n",
    "y(\\xv) = c\n",
    "$$\n",
    "\n",
    "What is next simplest model?\n",
    "\n",
    "$$\n",
    "\\begin{align*}\n",
    "   y(\\xv;\\wv) &= w_0 + w_1 x_1 + w_2 x_2 + \\cdots + w_D x_D \\\\\n",
    "   &= w_0 + \\sum_{i=1}^D w_i x_i \\\\\n",
    "   & = \\sum_{i=0}^D w_i x_i \\mbox{, where } x_0 = 1 \\\\\n",
    "   &= \\wv^T \\xv\n",
    "\\end{align*}\n",
    "$$\n",
    "\n",
    "  * This is nice because it is linear in the parameters $\\wv$; optimizations based on derivatives might be solvable analytically.\n",
    "  * This is not so nice, because it is also linear in the inputs, $\\xv$; greatly limits the complexity of the model.\n",
    "  *  But, a model linear in the inputs might be the best you can do for many cases, such as a sparsely sampled distribution, process, population, thing...whatever it is you want to model.\n"
   ]
  },
  {
   "cell_type": "markdown",
   "metadata": {},
   "source": [
    "## Fitting Data Samples with a Linear Model"
   ]
  },
  {
   "cell_type": "code",
   "execution_count": 1,
   "metadata": {
    "collapsed": false
   },
   "outputs": [
    {
     "data": {
      "text/html": [
       "<img src=\"http://www.cs.colostate.edu/~anderson/cs545/notebooks/springs.png\"/>"
      ],
      "text/plain": [
       "<IPython.core.display.Image object>"
      ]
     },
     "execution_count": 1,
     "metadata": {},
     "output_type": "execute_result"
    }
   ],
   "source": [
    "from IPython.display import Image\n",
    "Image(url='http://www.cs.colostate.edu/~anderson/cs545/notebooks/springs.png')"
   ]
  },
  {
   "cell_type": "markdown",
   "metadata": {},
   "source": [
    "Force exerted by spring is proportional to its length. The potential\n",
    "energy stored in the spring is proportinal to the square of its length.\n",
    "Say we want the rod to settle at position that minimizes the potential\n",
    "energy in the springs.\n",
    "$$\n",
    "\\begin{align*}\n",
    "\\sum_{n=1}^N (t_n - y(\\xv_n;\\wv))^2\n",
    "\\end{align*}\n",
    "$$\n",
    "\n",
    "If $y$ is an affine (linear + constant) function of $x$,\n",
    "$$\n",
    "    y(\\xv;\\wv) = w_0 + w_1 x\n",
    "$$\n",
    "with parameters $\\wv = (w_0, w_1)$, which parameter values give best fit?\n",
    "$$\n",
    "    \\wv_{\\mbox{best}} = \\argmin{\\wv} \\sum_{n=1}^N (t_n - y(x_n ; \\wv))^2\n",
    "$$\n",
    "\n",
    "Set derivative (gradient) with respect to $\\wv$ to zero and\n",
    "solve for $\\wv$.  Let's do this with matrices.  \n",
    "\n",
    "Collect all targets into matrix $T$ and $x$ samples into matrix\n",
    "$X$. ($N$=number samples, $D$=sample dimensionality)\n",
    "$$\n",
    "  \\begin{align*}\n",
    "    T &= \\begin{bmatrix}\n",
    "      t_1 \\\\ t_2 \\\\ \\vdots \\\\ t_N\n",
    "    \\end{bmatrix} \\\\\n",
    "    X &= \\begin{bmatrix}\n",
    "      x_{1,0} & x_{1,1} & x_{1,2} & \\dotsc & x_{1,D} \\\\\n",
    "      x_{2,0} & x_{2,1} & x_{2,2} & \\dotsc & x_{2,D} \\\\\n",
    "      \\vdots \\\\\n",
    "      x_{N,0} & x_{N,1} & x_{N,2} & \\dotsc & x_{N,D}\n",
    "    \\end{bmatrix}\\\\\n",
    "    \\wv &= \\begin{bmatrix} w_0 \\\\ w_1 \\\\ \\vdots \\\\ w_D \\end{bmatrix}\n",
    "  \\end{align*}\n",
    "$$\n",
    "\n",
    "Collection of all differences is $T - X\\wv$, which is an $N \\times\n",
    "1$ matrix.  To form the square of all values and add them up, just\n",
    "do a dot product $(T-X\\wv)^T (T-X\\wv)$.  \n",
    "\n"
   ]
  },
  {
   "cell_type": "markdown",
   "metadata": {},
   "source": [
    "Now we can express the minimum sum of squared error criterion\n",
    "\n",
    "$$\n",
    "\\begin{align*}\n",
    "\\sum_{n=1}^N (t_n - y(\\xv_n;\\wv))^2 & =  (T-X\\wv)^T (T-X\\wv)\n",
    "\\end{align*}\n",
    "$$\n",
    "\n",
    "Do some algebra before taking the derivative.\n",
    "\n",
    "$$\n",
    "    \\begin{align*}\n",
    "      (T- X\\wv)^T (T-X\\wv) &= (T^T - (X\\wv)^T) (T-X\\wv)\\\\\n",
    "      &= (T^T - \\wv^TX^T) (T-X\\wv)\\\\\n",
    "      &= T^TT - T^TX\\wv - \\wv^TX^TT + \\wv^TX^TX\\wv\n",
    "    \\end{align*}\n",
    "$$\n",
    "\n",
    "Simplify?  What are sizes of each term? \n",
    "\n",
    "$$\n",
    "    \\begin{align*}\n",
    "      T^TT & \\mbox{ is } (1 \\times N)(N \\times 1) = 1 \\times 1\\\\\n",
    "      T^TX\\wv & \\mbox{ is } (1 \\times N)(N \\times D)(D \\times 1) = 1 \\times 1\\\\\n",
    "      \\wv^TX^TT & \\mbox{ is } (1 \\times D)(D \\times N)(N \\times 1) = 1 \\times 1\\\\\n",
    "      \\wv^TX^TX\\wv & \\mbox{ is } (1 \\times D)(D \\times N)(N \\times D)(D\n",
    "      \\times 1) = 1 \\times 1\\\\\n",
    "    \\end{align*}\n",
    "$$\n",
    "\n",
    "So\n",
    "\n",
    "$$\n",
    "    \\begin{align*}\n",
    "      (T-X\\wv)^T (T-X\\wv) &= T^TT  - 2 T^TX\\wv  + \\wv^TX^TX\\wv\n",
    "    \\end{align*}\n",
    "$$\n",
    "\n",
    "Now, let's do the derivative.\n",
    "\n",
    "$$\n",
    "    \\begin{align*}\n",
    "      & \\frac{\\partial (T-X\\wv)^T  (T-X\\wv)}{\\partial \\wv} \\\\\n",
    "      & \\;\\;\\; = -2 \\frac{\\partial T^T X \\wv}{\\partial \\wv} + \\frac{\\partial\n",
    "        \\wv^T X^T X \\wv}{\\partial \\wv}\\\\\n",
    "      & \\;\\;\\; = -2 T^T X + 2 X^T X \\wv\n",
    "    \\end{align*}\n",
    "$$\n",
    "\n",
    "Help for some of the above steps (thanks for asking, John):\n",
    "  * Since $T^TX\\wv$ and $\\wv^TX^TT$ are both scalars, $T^TX\\wv = (T^TX\\wv)^T= \\wv^TX^TT$, so we can combine them to get $2T^TX\\wv$.\n",
    "  * From page 697 of our text (and [Wikipedia entry on Matrix Calculus](http://en.wikipedia.org/wiki/Matrix_calculus)), $\\;\\;\\partial \\wv^T A \\wv / \\partial \\wv = A\\wv + A^T \\wv$, so\n",
    "  \n",
    "$$\n",
    "\\begin{align*}\n",
    "\\frac{\\partial \\wv^T X^T X \\wv}{\\partial \\wv} &= X^T X \\wv + (X^T X)^T \\wv \\\\\n",
    "&  = 2 X^T X \\wv\n",
    "\\end{align*}\n",
    "$$\n",
    "\n",
    "because $X^T X = (X^T X)^T$, since $X^T X$ is symmetric.\n",
    "\n",
    "Setting the above derivative equal to zero we find\n",
    "\n",
    "$$\n",
    "    \\begin{align*}\n",
    "      0 &= -2 T^T X + 2 X^T X \\wv \\\\\n",
    "      X^T X \\wv &=  T^T X \\\\\n",
    "      (\\wv^T X^T X)^T &=  (T^T X)^T \\\\\n",
    "      X^T X \\wv &=  X^T T \\\\\n",
    "      \\wv &= (X^T X)^{-1} X^T T\\\\\n",
    "    \\end{align*}\n",
    "$$\n"
   ]
  },
  {
   "cell_type": "markdown",
   "metadata": {},
   "source": [
    "And, in python\n",
    "\n",
    "    w = np.dot( np.linalg.inv(np.dot(X.T, X)), np.dot(X.T,T) )\n",
    "\n",
    "or, you may use the *solve* function that assumes $\\Xv^T \\Xv$ is full rank (no linearly dependent columns),\n",
    "\n",
    "    w = np.linalg.solve(np.dot(X.T,X), np.dot(X.T, T))\n",
    "\n",
    "or, better yet, use the *lstsq* function that does not make that assumption. \n",
    "\n",
    "    w = np.linalg.lstsq(np.dot(X.T,X), np.dot(X.T, T))"
   ]
  },
  {
   "cell_type": "markdown",
   "metadata": {},
   "source": [
    "## Application"
   ]
  },
  {
   "cell_type": "markdown",
   "metadata": {},
   "source": [
    "Try the [automobile data set](http://archive.ics.uci.edu/ml/datasets/Auto+MPG) at UCI Machine Learning Database \n",
    "Repository. Download\n",
    "*auto-mpg.data* and *auto-mpg.names* from the \"Data Folder\" link\n",
    "near the top of the web page.\n",
    "\n",
    "First, take a look at *auto-mpg.names*.  There you will learn that there are 398 samples, each with 8 numerical attributes and one string attribute. Their names are\n",
    "\n",
    "   1. mpg:           continuous\n",
    "   2. cylinders:     multi-valued discrete\n",
    "   3. displacement:  continuous\n",
    "   4. horsepower:    continuous\n",
    "   5. weight:        continuous\n",
    "   6. acceleration:  continuous\n",
    "   7. model year:    multi-valued discrete\n",
    "   8. origin:        multi-valued discrete\n",
    "   9. car name:      string (unique for each instance)\n",
    "\n",
    "First step, read it into python and look at it."
   ]
  },
  {
   "cell_type": "code",
   "execution_count": 2,
   "metadata": {
    "collapsed": false
   },
   "outputs": [],
   "source": [
    "import numpy as np\n",
    "import matplotlib.pyplot as plt\n",
    "%matplotlib inline"
   ]
  },
  {
   "cell_type": "markdown",
   "metadata": {},
   "source": [
    "Take a look at a few lines of the data file to figure out how to read it in."
   ]
  },
  {
   "cell_type": "code",
   "execution_count": 3,
   "metadata": {
    "collapsed": false
   },
   "outputs": [
    {
     "name": "stdout",
     "output_type": "stream",
     "text": [
      "18.0   8   307.0      130.0      3504.      12.0   70  1\t\"chevrolet chevelle malibu\"\r\n",
      "15.0   8   350.0      165.0      3693.      11.5   70  1\t\"buick skylark 320\"\r\n",
      "18.0   8   318.0      150.0      3436.      11.0   70  1\t\"plymouth satellite\"\r\n",
      "16.0   8   304.0      150.0      3433.      12.0   70  1\t\"amc rebel sst\"\r\n",
      "17.0   8   302.0      140.0      3449.      10.5   70  1\t\"ford torino\"\r\n",
      "15.0   8   429.0      198.0      4341.      10.0   70  1\t\"ford galaxie 500\"\r\n",
      "14.0   8   454.0      220.0      4354.       9.0   70  1\t\"chevrolet impala\"\r\n",
      "14.0   8   440.0      215.0      4312.       8.5   70  1\t\"plymouth fury iii\"\r\n",
      "14.0   8   455.0      225.0      4425.      10.0   70  1\t\"pontiac catalina\"\r\n",
      "15.0   8   390.0      190.0      3850.       8.5   70  1\t\"amc ambassador dpl\"\r\n",
      "15.0   8   383.0      170.0      3563.      10.0   70  1\t\"dodge challenger se\"\r\n",
      "14.0   8   340.0      160.0      3609.       8.0   70  1\t\"plymouth 'cuda 340\"\r\n",
      "15.0   8   400.0      150.0      3761.       9.5   70  1\t\"chevrolet monte carlo\"\r\n",
      "14.0   8   455.0      225.0      3086.      10.0   70  1\t\"buick estate wagon (sw)\"\r\n",
      "24.0   4   113.0      95.00      2372.      15.0   70  3\t\"toyota corona mark ii\"\r\n",
      "22.0   6   198.0      95.00      2833.      15.5   70  1\t\"plymouth duster\"\r\n",
      "18.0   6   199.0      97.00      2774.      15.5   70  1\t\"amc hornet\"\r\n",
      "21.0   6   200.0      85.00      2587.      16.0   70  1\t\"ford maverick\"\r\n",
      "27.0   4   97.00      88.00      2130.      14.5   70  3\t\"datsun pl510\"\r\n",
      "26.0   4   97.00      46.00      1835.      20.5   70  2\t\"volkswagen 1131 deluxe sedan\"\r\n",
      "25.0   4   110.0      87.00      2672.      17.5   70  2\t\"peugeot 504\"\r\n",
      "24.0   4   107.0      90.00      2430.      14.5   70  2\t\"audi 100 ls\"\r\n",
      "25.0   4   104.0      95.00      2375.      17.5   70  2\t\"saab 99e\"\r\n",
      "26.0   4   121.0      113.0      2234.      12.5   70  2\t\"bmw 2002\"\r\n",
      "21.0   6   199.0      90.00      2648.      15.0   70  1\t\"amc gremlin\"\r\n",
      "10.0   8   360.0      215.0      4615.      14.0   70  1\t\"ford f250\"\r\n",
      "10.0   8   307.0      200.0      4376.      15.0   70  1\t\"chevy c20\"\r\n",
      "11.0   8   318.0      210.0      4382.      13.5   70  1\t\"dodge d200\"\r\n",
      "9.0    8   304.0      193.0      4732.      18.5   70  1\t\"hi 1200d\"\r\n",
      "27.0   4   97.00      88.00      2130.      14.5   71  3\t\"datsun pl510\"\r\n",
      "28.0   4   140.0      90.00      2264.      15.5   71  1\t\"chevrolet vega 2300\"\r\n",
      "25.0   4   113.0      95.00      2228.      14.0   71  3\t\"toyota corona\"\r\n",
      "25.0   4   98.00      ?          2046.      19.0   71  1\t\"ford pinto\"\r\n",
      "19.0   6   232.0      100.0      2634.      13.0   71  1\t\"amc gremlin\"\r\n",
      "16.0   6   225.0      105.0      3439.      15.5   71  1\t\"plymouth satellite custom\"\r\n",
      "17.0   6   250.0      100.0      3329.      15.5   71  1\t\"chevrolet chevelle malibu\"\r\n",
      "19.0   6   250.0      88.00      3302.      15.5   71  1\t\"ford torino 500\"\r\n",
      "18.0   6   232.0      100.0      3288.      15.5   71  1\t\"amc matador\"\r\n",
      "14.0   8   350.0      165.0      4209.      12.0   71  1\t\"chevrolet impala\"\r\n",
      "14.0   8   400.0      175.0      4464.      11.5   71  1\t\"pontiac catalina brougham\"\r\n"
     ]
    }
   ],
   "source": [
    "!head -40 auto-mpg.data"
   ]
  },
  {
   "cell_type": "markdown",
   "metadata": {},
   "source": [
    "Instead of relying on the *pandas* package to read this data, let's try using the simpler *numpy.loadtxt* function.\n",
    "We see that each line contains a sample consisting of 8 numbers and\n",
    "one string.  However, first we have to figure out how to deal with the\n",
    "missing values. The documentation for *numpy.loadtxt* reveals that\n",
    "the *converters* argument can be used to specify a function to apply\n",
    "to the values from particular columns of data.  We can use this to\n",
    "deal with the missing values.  Looking at *auto-mpg.data* we see\n",
    "that the missing values are marked with question marks.  These are all in the fourth column, the horsepower attribute."
   ]
  },
  {
   "cell_type": "markdown",
   "metadata": {},
   "source": [
    "Here is a simple function that translates '?' to NaN (*np.nan*) and anything else is converted to a floating point number."
   ]
  },
  {
   "cell_type": "code",
   "execution_count": 8,
   "metadata": {
    "collapsed": false
   },
   "outputs": [
    {
     "name": "stdout",
     "output_type": "stream",
     "text": [
      "12.32\n",
      "nan\n"
     ]
    }
   ],
   "source": [
    "def missingIsNan(s):\n",
    "    if s == b'?':  # single character read as b'?' != '?'\n",
    "        return np.nan\n",
    "    else:\n",
    "        return float(s)\n",
    "    \n",
    "print(missingIsNan('12.32'))\n",
    "print(missingIsNan(b'?'))"
   ]
  },
  {
   "cell_type": "markdown",
   "metadata": {},
   "source": [
    "Hey, why not get fancy and write a one-liner?"
   ]
  },
  {
   "cell_type": "code",
   "execution_count": 9,
   "metadata": {
    "collapsed": false
   },
   "outputs": [
    {
     "name": "stdout",
     "output_type": "stream",
     "text": [
      "12.32\n",
      "nan\n"
     ]
    }
   ],
   "source": [
    "def missingIsNan(s):\n",
    "    return np.nan if s == b'?' else float(s)\n",
    "\n",
    "print(missingIsNan('12.32'))\n",
    "print(missingIsNan(b'?'))"
   ]
  },
  {
   "cell_type": "markdown",
   "metadata": {},
   "source": [
    "The *converters* argument to *np.loadtxt* accepts a python dictionary, which is python's associative array structure."
   ]
  },
  {
   "cell_type": "code",
   "execution_count": 10,
   "metadata": {
    "collapsed": false
   },
   "outputs": [
    {
     "data": {
      "text/plain": [
       "{1: 'a', 2: 'yo', 3: 42, 4: <function __main__.missingIsNan>}"
      ]
     },
     "execution_count": 10,
     "metadata": {},
     "output_type": "execute_result"
    }
   ],
   "source": [
    "d = {1: 'a', 2: 'yo', 3: 42, 4: missingIsNan}\n",
    "d"
   ]
  },
  {
   "cell_type": "code",
   "execution_count": 11,
   "metadata": {
    "collapsed": false
   },
   "outputs": [
    {
     "data": {
      "text/plain": [
       "'a'"
      ]
     },
     "execution_count": 11,
     "metadata": {},
     "output_type": "execute_result"
    }
   ],
   "source": [
    "d[1]"
   ]
  },
  {
   "cell_type": "code",
   "execution_count": 12,
   "metadata": {
    "collapsed": false
   },
   "outputs": [
    {
     "data": {
      "text/plain": [
       "<function __main__.missingIsNan>"
      ]
     },
     "execution_count": 12,
     "metadata": {},
     "output_type": "execute_result"
    }
   ],
   "source": [
    "d[4]"
   ]
  },
  {
   "cell_type": "code",
   "execution_count": 13,
   "metadata": {
    "collapsed": false
   },
   "outputs": [
    {
     "data": {
      "text/plain": [
       "nan"
      ]
     },
     "execution_count": 13,
     "metadata": {},
     "output_type": "execute_result"
    }
   ],
   "source": [
    "d[4](b'?')"
   ]
  },
  {
   "cell_type": "markdown",
   "metadata": {},
   "source": [
    "Let's also restrict *np.loadtxt* to reading just the first 8 columns to avoid dealing with the string in the 9th column."
   ]
  },
  {
   "cell_type": "code",
   "execution_count": 14,
   "metadata": {
    "collapsed": false
   },
   "outputs": [],
   "source": [
    "data = np.loadtxt('auto-mpg.data', usecols=range(8), converters={3: missingIsNan})"
   ]
  },
  {
   "cell_type": "code",
   "execution_count": 15,
   "metadata": {
    "collapsed": false
   },
   "outputs": [
    {
     "data": {
      "text/plain": [
       "(398, 8)"
      ]
     },
     "execution_count": 15,
     "metadata": {},
     "output_type": "execute_result"
    }
   ],
   "source": [
    "data.shape"
   ]
  },
  {
   "cell_type": "code",
   "execution_count": 16,
   "metadata": {
    "collapsed": false
   },
   "outputs": [
    {
     "data": {
      "text/plain": [
       "array([[  1.80000000e+01,   8.00000000e+00,   3.07000000e+02,\n",
       "          1.30000000e+02,   3.50400000e+03,   1.20000000e+01,\n",
       "          7.00000000e+01,   1.00000000e+00],\n",
       "       [  1.50000000e+01,   8.00000000e+00,   3.50000000e+02,\n",
       "          1.65000000e+02,   3.69300000e+03,   1.15000000e+01,\n",
       "          7.00000000e+01,   1.00000000e+00],\n",
       "       [  1.80000000e+01,   8.00000000e+00,   3.18000000e+02,\n",
       "          1.50000000e+02,   3.43600000e+03,   1.10000000e+01,\n",
       "          7.00000000e+01,   1.00000000e+00]])"
      ]
     },
     "execution_count": 16,
     "metadata": {},
     "output_type": "execute_result"
    }
   ],
   "source": [
    "data[:3,:]"
   ]
  },
  {
   "cell_type": "markdown",
   "metadata": {},
   "source": [
    "We can change the precision that ipython uses to display floating point values."
   ]
  },
  {
   "cell_type": "code",
   "execution_count": 17,
   "metadata": {
    "collapsed": false
   },
   "outputs": [
    {
     "data": {
      "text/plain": [
       "'%.3f'"
      ]
     },
     "execution_count": 17,
     "metadata": {},
     "output_type": "execute_result"
    }
   ],
   "source": [
    "%precision 3"
   ]
  },
  {
   "cell_type": "code",
   "execution_count": 18,
   "metadata": {
    "collapsed": false
   },
   "outputs": [
    {
     "data": {
      "text/plain": [
       "array([[  1.800e+01,   8.000e+00,   3.070e+02,   1.300e+02,   3.504e+03,\n",
       "          1.200e+01,   7.000e+01,   1.000e+00],\n",
       "       [  1.500e+01,   8.000e+00,   3.500e+02,   1.650e+02,   3.693e+03,\n",
       "          1.150e+01,   7.000e+01,   1.000e+00],\n",
       "       [  1.800e+01,   8.000e+00,   3.180e+02,   1.500e+02,   3.436e+03,\n",
       "          1.100e+01,   7.000e+01,   1.000e+00]])"
      ]
     },
     "execution_count": 18,
     "metadata": {},
     "output_type": "execute_result"
    }
   ],
   "source": [
    "data[:3,:]"
   ]
  },
  {
   "cell_type": "markdown",
   "metadata": {},
   "source": [
    "As we have done before, we must find the missing values.  Let's just remove the samples with missing values."
   ]
  },
  {
   "cell_type": "code",
   "execution_count": 19,
   "metadata": {
    "collapsed": false
   },
   "outputs": [
    {
     "data": {
      "text/plain": [
       "array([[False, False, False, ..., False, False, False],\n",
       "       [False, False, False, ..., False, False, False],\n",
       "       [False, False, False, ..., False, False, False],\n",
       "       ..., \n",
       "       [False, False, False, ..., False, False, False],\n",
       "       [False, False, False, ..., False, False, False],\n",
       "       [False, False, False, ..., False, False, False]], dtype=bool)"
      ]
     },
     "execution_count": 19,
     "metadata": {},
     "output_type": "execute_result"
    }
   ],
   "source": [
    "np.isnan(data)"
   ]
  },
  {
   "cell_type": "code",
   "execution_count": 20,
   "metadata": {
    "collapsed": false
   },
   "outputs": [
    {
     "data": {
      "text/plain": [
       "6"
      ]
     },
     "execution_count": 20,
     "metadata": {},
     "output_type": "execute_result"
    }
   ],
   "source": [
    "np.sum(np.isnan(data))"
   ]
  },
  {
   "cell_type": "code",
   "execution_count": 21,
   "metadata": {
    "collapsed": false
   },
   "outputs": [
    {
     "data": {
      "text/plain": [
       "array([0, 0, 0, 6, 0, 0, 0, 0])"
      ]
     },
     "execution_count": 21,
     "metadata": {},
     "output_type": "execute_result"
    }
   ],
   "source": [
    "np.sum(np.isnan(data), axis=0)"
   ]
  },
  {
   "cell_type": "markdown",
   "metadata": {},
   "source": [
    "What does this result tell us?\n",
    "\n",
    "Yep, all 6 *NaN* values are in the fourth column, the horsepower column.\n",
    "\n",
    "Let's just\n",
    "remove those 6 samples from the array.  To do this build a boolean\n",
    "mask of length equal to the number of rows in *data* that is\n",
    "*False* except for any row that contains a NaN.  We can use the\n",
    "*np.any* or *np.all* methods to combine boolean values in each row or column. First, always try\n",
    "such ideas in multiple steps, checking each step."
   ]
  },
  {
   "cell_type": "code",
   "execution_count": 22,
   "metadata": {
    "collapsed": false
   },
   "outputs": [
    {
     "data": {
      "text/plain": [
       "(398, 8)"
      ]
     },
     "execution_count": 22,
     "metadata": {},
     "output_type": "execute_result"
    }
   ],
   "source": [
    "nans = np.isnan(data)\n",
    "nans.shape"
   ]
  },
  {
   "cell_type": "code",
   "execution_count": 23,
   "metadata": {
    "collapsed": false
   },
   "outputs": [
    {
     "data": {
      "text/plain": [
       "(8,)"
      ]
     },
     "execution_count": 23,
     "metadata": {},
     "output_type": "execute_result"
    }
   ],
   "source": [
    "nans.any(axis=0).shape"
   ]
  },
  {
   "cell_type": "code",
   "execution_count": 24,
   "metadata": {
    "collapsed": false
   },
   "outputs": [
    {
     "data": {
      "text/plain": [
       "(398,)"
      ]
     },
     "execution_count": 24,
     "metadata": {},
     "output_type": "execute_result"
    }
   ],
   "source": [
    "nans.any(axis=1).shape"
   ]
  },
  {
   "cell_type": "markdown",
   "metadata": {},
   "source": [
    "That's the one we want, a boolean value for each row, or sample."
   ]
  },
  {
   "cell_type": "code",
   "execution_count": 25,
   "metadata": {
    "collapsed": false
   },
   "outputs": [
    {
     "data": {
      "text/plain": [
       "array([False, False, False, False, False, False, False, False, False,\n",
       "       False, False, False, False, False, False, False, False, False,\n",
       "       False, False, False, False, False, False, False, False, False,\n",
       "       False, False, False, False, False,  True, False, False, False,\n",
       "       False, False, False, False, False, False, False, False, False,\n",
       "       False, False, False, False, False, False, False, False, False,\n",
       "       False, False, False, False, False, False, False, False, False,\n",
       "       False, False, False, False, False, False, False, False, False,\n",
       "       False, False, False, False, False, False, False, False, False,\n",
       "       False, False, False, False, False, False, False, False, False,\n",
       "       False, False, False, False, False, False, False, False, False,\n",
       "       False, False, False, False, False, False, False, False, False,\n",
       "       False, False, False, False, False, False, False, False, False,\n",
       "       False, False, False, False, False, False, False, False, False,\n",
       "        True, False, False, False, False, False, False, False, False,\n",
       "       False, False, False, False, False, False, False, False, False,\n",
       "       False, False, False, False, False, False, False, False, False,\n",
       "       False, False, False, False, False, False, False, False, False,\n",
       "       False, False, False, False, False, False, False, False, False,\n",
       "       False, False, False, False, False, False, False, False, False,\n",
       "       False, False, False, False, False, False, False, False, False,\n",
       "       False, False, False, False, False, False, False, False, False,\n",
       "       False, False, False, False, False, False, False, False, False,\n",
       "       False, False, False, False, False, False, False, False, False,\n",
       "       False, False, False, False, False, False, False, False, False,\n",
       "       False, False, False, False, False, False, False, False, False,\n",
       "       False, False, False, False, False, False, False, False, False,\n",
       "       False, False, False, False, False, False, False, False, False,\n",
       "       False, False, False, False, False, False, False, False, False,\n",
       "       False, False, False, False, False, False, False, False, False,\n",
       "       False, False, False, False, False, False, False, False, False,\n",
       "       False, False, False, False, False, False, False, False, False,\n",
       "       False, False, False, False, False, False, False, False, False,\n",
       "       False, False, False, False, False, False, False, False, False,\n",
       "       False, False, False, False, False, False, False, False, False,\n",
       "       False, False, False, False, False, False, False, False, False,\n",
       "       False, False, False, False, False, False,  True, False, False,\n",
       "       False, False, False,  True, False, False, False, False, False,\n",
       "       False, False, False, False, False, False, False, False, False,\n",
       "       False, False, False,  True, False, False, False, False, False,\n",
       "       False, False, False, False, False, False, False, False, False,\n",
       "       False, False, False, False, False,  True, False, False, False,\n",
       "       False, False, False, False, False, False, False, False, False,\n",
       "       False, False, False, False, False, False, False, False, False,\n",
       "       False, False], dtype=bool)"
      ]
     },
     "execution_count": 25,
     "metadata": {},
     "output_type": "execute_result"
    }
   ],
   "source": [
    "goodRowsMask = nans.any(axis=1)\n",
    "goodRowsMask"
   ]
  },
  {
   "cell_type": "code",
   "execution_count": 26,
   "metadata": {
    "collapsed": false
   },
   "outputs": [
    {
     "data": {
      "text/plain": [
       "(6, 8)"
      ]
     },
     "execution_count": 26,
     "metadata": {},
     "output_type": "execute_result"
    }
   ],
   "source": [
    "dataNew = data[goodRowsMask,:]\n",
    "dataNew.shape"
   ]
  },
  {
   "cell_type": "markdown",
   "metadata": {},
   "source": [
    "Wait a minute!  This gives us only 6 samples.  We wanted all samples but these 6, right?"
   ]
  },
  {
   "cell_type": "code",
   "execution_count": 27,
   "metadata": {
    "collapsed": false
   },
   "outputs": [
    {
     "data": {
      "text/plain": [
       "array([[  2.500e+01,   4.000e+00,   9.800e+01,         nan,   2.046e+03,\n",
       "          1.900e+01,   7.100e+01,   1.000e+00],\n",
       "       [  2.100e+01,   6.000e+00,   2.000e+02,         nan,   2.875e+03,\n",
       "          1.700e+01,   7.400e+01,   1.000e+00],\n",
       "       [  4.090e+01,   4.000e+00,   8.500e+01,         nan,   1.835e+03,\n",
       "          1.730e+01,   8.000e+01,   2.000e+00],\n",
       "       [  2.360e+01,   4.000e+00,   1.400e+02,         nan,   2.905e+03,\n",
       "          1.430e+01,   8.000e+01,   1.000e+00],\n",
       "       [  3.450e+01,   4.000e+00,   1.000e+02,         nan,   2.320e+03,\n",
       "          1.580e+01,   8.100e+01,   2.000e+00],\n",
       "       [  2.300e+01,   4.000e+00,   1.510e+02,         nan,   3.035e+03,\n",
       "          2.050e+01,   8.200e+01,   1.000e+00]])"
      ]
     },
     "execution_count": 27,
     "metadata": {},
     "output_type": "execute_result"
    }
   ],
   "source": [
    "dataNew"
   ]
  },
  {
   "cell_type": "markdown",
   "metadata": {},
   "source": [
    "So, let's change all *False* values to *True* and *True* values to *False*."
   ]
  },
  {
   "cell_type": "code",
   "execution_count": 28,
   "metadata": {
    "collapsed": false
   },
   "outputs": [],
   "source": [
    "goodRowsMask = np.logical_not(goodRowsMask)"
   ]
  },
  {
   "cell_type": "code",
   "execution_count": 29,
   "metadata": {
    "collapsed": false
   },
   "outputs": [
    {
     "data": {
      "text/plain": [
       "(392, 8)"
      ]
     },
     "execution_count": 29,
     "metadata": {},
     "output_type": "execute_result"
    }
   ],
   "source": [
    "dataNew = data[goodRowsMask,:]\n",
    "dataNew.shape"
   ]
  },
  {
   "cell_type": "code",
   "execution_count": 30,
   "metadata": {
    "collapsed": false
   },
   "outputs": [
    {
     "data": {
      "text/plain": [
       "array([[  1.800e+01,   8.000e+00,   3.070e+02,   1.300e+02,   3.504e+03,\n",
       "          1.200e+01,   7.000e+01,   1.000e+00],\n",
       "       [  1.500e+01,   8.000e+00,   3.500e+02,   1.650e+02,   3.693e+03,\n",
       "          1.150e+01,   7.000e+01,   1.000e+00],\n",
       "       [  1.800e+01,   8.000e+00,   3.180e+02,   1.500e+02,   3.436e+03,\n",
       "          1.100e+01,   7.000e+01,   1.000e+00]])"
      ]
     },
     "execution_count": 30,
     "metadata": {},
     "output_type": "execute_result"
    }
   ],
   "source": [
    "dataNew[:3,:]"
   ]
  },
  {
   "cell_type": "code",
   "execution_count": 31,
   "metadata": {
    "collapsed": false
   },
   "outputs": [
    {
     "data": {
      "text/plain": [
       "array([0, 0, 0, 0, 0, 0, 0, 0])"
      ]
     },
     "execution_count": 31,
     "metadata": {},
     "output_type": "execute_result"
    }
   ],
   "source": [
    "np.sum(np.isnan(dataNew),axis=0)"
   ]
  },
  {
   "cell_type": "markdown",
   "metadata": {},
   "source": [
    "Remember, the next step after reading data into python is to visualize\n",
    "it.  One thing we can do is just plot the value of each attribute in a\n",
    "separate graph.  Let's make an array of column names to label the y axes."
   ]
  },
  {
   "cell_type": "code",
   "execution_count": 32,
   "metadata": {
    "collapsed": false
   },
   "outputs": [],
   "source": [
    "names =  ['mpg','cylinders','displacement','horsepower','weight',\n",
    "          'acceleration','year','origin']"
   ]
  },
  {
   "cell_type": "code",
   "execution_count": 33,
   "metadata": {
    "collapsed": false
   },
   "outputs": [
    {
     "data": {
      "image/png": "[encoded data removed]",
      "text/plain": [
       "<matplotlib.figure.Figure at 0x7f1d331dce48>"
      ]
     },
     "metadata": {},
     "output_type": "display_data"
    }
   ],
   "source": [
    "plt.figure(figsize=(10,10))\n",
    "nrow,ncol = dataNew.shape\n",
    "for c in range(ncol):\n",
    "    plt.subplot(3,3, c+1)\n",
    "    plt.plot(dataNew[:,c])\n",
    "    plt.ylabel(names[c])"
   ]
  },
  {
   "cell_type": "markdown",
   "metadata": {},
   "source": [
    "What is interesting to you in these graphs?"
   ]
  },
  {
   "cell_type": "markdown",
   "metadata": {},
   "source": [
    "Let's try to predict miles per gallon, *mpg*, from the other attributes.  To set this up, let's make a 392 x 1 column vector, *T*, of target values containing all of the *mpg* values, and a 392 x 7 matrix, *X*, to hold the inputs to our model."
   ]
  },
  {
   "cell_type": "code",
   "execution_count": 34,
   "metadata": {
    "collapsed": false
   },
   "outputs": [
    {
     "data": {
      "text/plain": [
       "['mpg',\n",
       " 'cylinders',\n",
       " 'displacement',\n",
       " 'horsepower',\n",
       " 'weight',\n",
       " 'acceleration',\n",
       " 'year',\n",
       " 'origin']"
      ]
     },
     "execution_count": 34,
     "metadata": {},
     "output_type": "execute_result"
    }
   ],
   "source": [
    "names"
   ]
  },
  {
   "cell_type": "code",
   "execution_count": 35,
   "metadata": {
    "collapsed": false
   },
   "outputs": [],
   "source": [
    "T = dataNew[:, 0:1]  # dataNew[:,0] results in a one-dimensional matrix, dataNew[:,0:1] preserves its two-dimensional nature."
   ]
  },
  {
   "cell_type": "code",
   "execution_count": 36,
   "metadata": {
    "collapsed": false
   },
   "outputs": [],
   "source": [
    "X = dataNew[:, 1:]"
   ]
  },
  {
   "cell_type": "code",
   "execution_count": 37,
   "metadata": {
    "collapsed": false
   },
   "outputs": [
    {
     "data": {
      "text/plain": [
       "((392, 7), (392, 1))"
      ]
     },
     "execution_count": 37,
     "metadata": {},
     "output_type": "execute_result"
    }
   ],
   "source": [
    "X.shape, T.shape"
   ]
  },
  {
   "cell_type": "code",
   "execution_count": 38,
   "metadata": {
    "collapsed": false
   },
   "outputs": [
    {
     "data": {
      "text/plain": [
       "(['cylinders',\n",
       "  'displacement',\n",
       "  'horsepower',\n",
       "  'weight',\n",
       "  'acceleration',\n",
       "  'year',\n",
       "  'origin'],\n",
       " 'mpg')"
      ]
     },
     "execution_count": 38,
     "metadata": {},
     "output_type": "execute_result"
    }
   ],
   "source": [
    "Xnames = names[1:]\n",
    "Tname = names[0]\n",
    "Xnames,Tname"
   ]
  },
  {
   "cell_type": "markdown",
   "metadata": {},
   "source": [
    "Now, let's see if a linear model makes some sense by plotting the target values versus each of the input variables."
   ]
  },
  {
   "cell_type": "code",
   "execution_count": 39,
   "metadata": {
    "collapsed": false
   },
   "outputs": [
    {
     "data": {
      "image/png": "[encoded data removed]",
      "text/plain": [
       "<matplotlib.figure.Figure at 0x7f1d3262bcc0>"
      ]
     },
     "metadata": {},
     "output_type": "display_data"
    }
   ],
   "source": [
    "plt.figure(figsize=(10,10))\n",
    "for c in range(X.shape[1]):\n",
    "    plt.subplot(3,3, c+1)\n",
    "    plt.plot(X[:,c], T, 'o', alpha=0.5)\n",
    "    plt.ylabel(Tname)\n",
    "    plt.xlabel(Xnames[c])"
   ]
  },
  {
   "cell_type": "markdown",
   "metadata": {},
   "source": [
    "What do you think?  Are there any linear relationships between the individual input variables and the target variable?  Do they make sense, given your knowledge of automobiles?\n",
    "\n",
    "Now, to build the linear model.  First, let's tack on a column of constant 1 values to the left side of *X*.  With this addition, our matrix multiplication takes care of the $w_0$ coefficient as described above."
   ]
  },
  {
   "cell_type": "code",
   "execution_count": 40,
   "metadata": {
    "collapsed": false
   },
   "outputs": [
    {
     "data": {
      "text/plain": [
       "((392, 7), (392, 8))"
      ]
     },
     "execution_count": 40,
     "metadata": {},
     "output_type": "execute_result"
    }
   ],
   "source": [
    "X1 = np.hstack((np.ones((X.shape[0],1)), X))\n",
    "X.shape, X1.shape"
   ]
  },
  {
   "cell_type": "code",
   "execution_count": 41,
   "metadata": {
    "collapsed": false
   },
   "outputs": [
    {
     "data": {
      "text/plain": [
       "array([[  1.000e+00,   8.000e+00,   3.070e+02,   1.300e+02,   3.504e+03,\n",
       "          1.200e+01,   7.000e+01,   1.000e+00],\n",
       "       [  1.000e+00,   8.000e+00,   3.500e+02,   1.650e+02,   3.693e+03,\n",
       "          1.150e+01,   7.000e+01,   1.000e+00],\n",
       "       [  1.000e+00,   8.000e+00,   3.180e+02,   1.500e+02,   3.436e+03,\n",
       "          1.100e+01,   7.000e+01,   1.000e+00]])"
      ]
     },
     "execution_count": 41,
     "metadata": {},
     "output_type": "execute_result"
    }
   ],
   "source": [
    "X1[:3,:]"
   ]
  },
  {
   "cell_type": "markdown",
   "metadata": {},
   "source": [
    "And, let's add a name to *Xnames*."
   ]
  },
  {
   "cell_type": "code",
   "execution_count": 42,
   "metadata": {
    "collapsed": false
   },
   "outputs": [
    {
     "data": {
      "text/plain": [
       "['bias',\n",
       " 'cylinders',\n",
       " 'displacement',\n",
       " 'horsepower',\n",
       " 'weight',\n",
       " 'acceleration',\n",
       " 'year',\n",
       " 'origin']"
      ]
     },
     "execution_count": 42,
     "metadata": {},
     "output_type": "execute_result"
    }
   ],
   "source": [
    "Xnames.insert(0, 'bias')\n",
    "Xnames"
   ]
  },
  {
   "cell_type": "markdown",
   "metadata": {},
   "source": [
    "We could try to fit a linear model to all of the data and check to see\n",
    "how accurately we predict *mpg* for each sample.  However, this will\n",
    "give a much too optimistic expectation of how well the model will do\n",
    "on new data.\n",
    "\n",
    "A much better way to evaluate a model is to remove, or hold out, some\n",
    "of the samples from the data set used to fit the model.  Then apply\n",
    "the model to the held out samples and compare the predicted *mpg*\n",
    "with the actual *mpg*.  Call these held out samples the **test set**\n",
    "and the other samples used to fit the model the **train set**.  \n",
    "\n",
    "How should we partition the data into these two disjoint subsets?  A\n",
    "common practice is to randomly select 80% of the samples as training\n",
    "samples and use the remaining 20% of the samples as testing samples.\n",
    "\n",
    "To partition our samples (rows of *X* and *T*) into training and test sets, let's deal with just the row indices.  Then we will use the same selected row indices to slice out corresponding rows of *X* and *T*."
   ]
  },
  {
   "cell_type": "code",
   "execution_count": 43,
   "metadata": {
    "collapsed": false
   },
   "outputs": [
    {
     "data": {
      "text/plain": [
       "(314, 78, 392)"
      ]
     },
     "execution_count": 43,
     "metadata": {},
     "output_type": "execute_result"
    }
   ],
   "source": [
    "nrows = X1.shape[0]\n",
    "nTrain = int(round(nrow*0.8))\n",
    "nTest = nrow - nTrain\n",
    "nTrain,nTest,nTrain+nTest"
   ]
  },
  {
   "cell_type": "code",
   "execution_count": 44,
   "metadata": {
    "collapsed": false
   },
   "outputs": [
    {
     "data": {
      "text/plain": [
       "array([276, 122, 257, 217, 261, 223, 390,  47, 253, 170,  38, 389, 125,\n",
       "       128,  71, 181, 364, 244,  18, 146, 205, 366, 213,   1,  63,  91,\n",
       "       277, 243, 221, 238, 262,   3, 357, 180, 136, 270, 154, 135, 228,\n",
       "       227, 161, 255, 318, 374, 347, 275, 242,  59, 214, 313, 229, 232,\n",
       "        46, 147,  92, 341, 211, 333, 236, 350, 177,  35, 198, 139,  30,\n",
       "       311, 344, 287, 376, 373, 132,   8, 268, 188, 265, 138, 166, 182,\n",
       "       159, 197, 337, 104, 206, 216, 324,  54,  72, 252, 150, 391,  94,\n",
       "       235, 266, 326, 141,  43, 314, 334, 208,  44, 116,  41,   5, 381,\n",
       "       148, 263, 209, 149, 323,  74, 107, 305, 185, 315, 218, 325, 233,\n",
       "       354, 330, 365, 204,  83, 370,  95, 164, 319, 259,  11, 193, 380,\n",
       "       117, 241, 105, 279, 278, 184, 234, 304,  22, 356, 152, 212, 220,\n",
       "        29, 292, 108,  68,  57, 285,  97, 320, 119,  78,  60, 112,  34,\n",
       "       186, 172, 353,  88, 385, 162, 106,  40,  62, 245, 267, 298,  82,\n",
       "       332, 115, 225, 251, 167, 124,  58, 171, 256,  16, 281, 342, 109,\n",
       "       156,  14,  98, 126, 160, 120,  61,  66,  65,  23,  13, 207,  56,\n",
       "        17,  64, 300, 349, 284,  53,  93, 362, 194, 317, 367, 361, 249,\n",
       "       102,  48, 384, 363,  73, 131, 294, 351, 355, 174, 111,  87,   6,\n",
       "       100, 322, 163, 299, 288,   0, 371, 369, 301, 340,  76, 273, 189,\n",
       "       372, 199, 247, 201, 291,  25, 297,  80,  27, 282, 258, 388, 210,\n",
       "       295,  99, 133, 378,   4, 293, 316, 113, 360, 375, 264, 123,  26,\n",
       "        36, 142, 254, 151, 329, 173, 308,  55,  84, 345,  31, 114, 286,\n",
       "       176, 303,  12, 335, 230, 306, 224, 137, 383,  10, 144, 307, 110,\n",
       "       339,   7, 121,  32,  51, 280, 331,  67, 118, 140, 387,  21, 158,\n",
       "        89,  39, 155, 153,  90, 169, 336, 179, 310, 377, 302, 191, 248,\n",
       "       312,  20,  79,  15, 346,  96, 309,  37, 192, 157, 274, 202,  85,\n",
       "       187, 386, 246, 237, 134,  28, 219, 143,  50, 101, 196, 343, 203,\n",
       "       145, 269,  81, 271,   2, 231,  45, 382, 240, 215, 222, 260, 183,\n",
       "       358, 190, 359, 348, 328, 178, 368, 289, 283,  75,  33, 226,  52,\n",
       "       129, 165, 250, 321, 338, 130, 290,  24, 239, 352, 168,  86, 200,\n",
       "       379, 175,  42, 127,  49,  70,  77,  19, 272, 296,  69, 103, 327,\n",
       "       195,   9])"
      ]
     },
     "execution_count": 44,
     "metadata": {},
     "output_type": "execute_result"
    }
   ],
   "source": [
    "rows = np.arange(nrows)\n",
    "np.random.shuffle(rows)\n",
    "rows"
   ]
  },
  {
   "cell_type": "code",
   "execution_count": 45,
   "metadata": {
    "collapsed": false
   },
   "outputs": [
    {
     "data": {
      "text/plain": [
       "(array([276, 122, 257, 217, 261, 223, 390,  47, 253, 170,  38, 389, 125,\n",
       "        128,  71, 181, 364, 244,  18, 146, 205, 366, 213,   1,  63,  91,\n",
       "        277, 243, 221, 238, 262,   3, 357, 180, 136, 270, 154, 135, 228,\n",
       "        227, 161, 255, 318, 374, 347, 275, 242,  59, 214, 313, 229, 232,\n",
       "         46, 147,  92, 341, 211, 333, 236, 350, 177,  35, 198, 139,  30,\n",
       "        311, 344, 287, 376, 373, 132,   8, 268, 188, 265, 138, 166, 182,\n",
       "        159, 197, 337, 104, 206, 216, 324,  54,  72, 252, 150, 391,  94,\n",
       "        235, 266, 326, 141,  43, 314, 334, 208,  44, 116,  41,   5, 381,\n",
       "        148, 263, 209, 149, 323,  74, 107, 305, 185, 315, 218, 325, 233,\n",
       "        354, 330, 365, 204,  83, 370,  95, 164, 319, 259,  11, 193, 380,\n",
       "        117, 241, 105, 279, 278, 184, 234, 304,  22, 356, 152, 212, 220,\n",
       "         29, 292, 108,  68,  57, 285,  97, 320, 119,  78,  60, 112,  34,\n",
       "        186, 172, 353,  88, 385, 162, 106,  40,  62, 245, 267, 298,  82,\n",
       "        332, 115, 225, 251, 167, 124,  58, 171, 256,  16, 281, 342, 109,\n",
       "        156,  14,  98, 126, 160, 120,  61,  66,  65,  23,  13, 207,  56,\n",
       "         17,  64, 300, 349, 284,  53,  93, 362, 194, 317, 367, 361, 249,\n",
       "        102,  48, 384, 363,  73, 131, 294, 351, 355, 174, 111,  87,   6,\n",
       "        100, 322, 163, 299, 288,   0, 371, 369, 301, 340,  76, 273, 189,\n",
       "        372, 199, 247, 201, 291,  25, 297,  80,  27, 282, 258, 388, 210,\n",
       "        295,  99, 133, 378,   4, 293, 316, 113, 360, 375, 264, 123,  26,\n",
       "         36, 142, 254, 151, 329, 173, 308,  55,  84, 345,  31, 114, 286,\n",
       "        176, 303,  12, 335, 230, 306, 224, 137, 383,  10, 144, 307, 110,\n",
       "        339,   7, 121,  32,  51, 280, 331,  67, 118, 140, 387,  21, 158,\n",
       "         89,  39, 155, 153,  90, 169, 336, 179, 310, 377, 302, 191, 248,\n",
       "        312,  20]),\n",
       " array([ 79,  15, 346,  96, 309,  37, 192, 157, 274, 202,  85, 187, 386,\n",
       "        246, 237, 134,  28, 219, 143,  50, 101, 196, 343, 203, 145, 269,\n",
       "         81, 271,   2, 231,  45, 382, 240, 215, 222, 260, 183, 358, 190,\n",
       "        359, 348, 328, 178, 368, 289, 283,  75,  33, 226,  52, 129, 165,\n",
       "        250, 321, 338, 130, 290,  24, 239, 352, 168,  86, 200, 379, 175,\n",
       "         42, 127,  49,  70,  77,  19, 272, 296,  69, 103, 327, 195,   9]))"
      ]
     },
     "execution_count": 45,
     "metadata": {},
     "output_type": "execute_result"
    }
   ],
   "source": [
    "trainIndices = rows[:nTrain]\n",
    "testIndices = rows[nTrain:]\n",
    "trainIndices,testIndices"
   ]
  },
  {
   "cell_type": "markdown",
   "metadata": {},
   "source": [
    "Check that the training and testing sets are disjoint."
   ]
  },
  {
   "cell_type": "code",
   "execution_count": 46,
   "metadata": {
    "collapsed": false
   },
   "outputs": [
    {
     "data": {
      "text/plain": [
       "array([], dtype=int64)"
      ]
     },
     "execution_count": 46,
     "metadata": {},
     "output_type": "execute_result"
    }
   ],
   "source": [
    "np.intersect1d(trainIndices, testIndices)"
   ]
  },
  {
   "cell_type": "code",
   "execution_count": 47,
   "metadata": {
    "collapsed": false
   },
   "outputs": [
    {
     "data": {
      "text/plain": [
       "((314, 8), (314, 1), (78, 8), (78, 1))"
      ]
     },
     "execution_count": 47,
     "metadata": {},
     "output_type": "execute_result"
    }
   ],
   "source": [
    "Xtrain = X1[trainIndices,:]\n",
    "Ttrain = T[trainIndices,:]\n",
    "Xtest = X1[testIndices,:]\n",
    "Ttest = T[testIndices,:]\n",
    "Xtrain.shape,Ttrain.shape, Xtest.shape,Ttest.shape"
   ]
  },
  {
   "cell_type": "markdown",
   "metadata": {},
   "source": [
    "We want to solve for $\\wv$ in the equation  $X^T X \\wv =  X^T T$.\n",
    "This is done with the *numpy.linalg.lstsq* function.  Don't be confused by the *T*s.  Remember *something.T* is the\n",
    "transpose of *something*."
   ]
  },
  {
   "cell_type": "code",
   "execution_count": 48,
   "metadata": {
    "collapsed": false
   },
   "outputs": [
    {
     "data": {
      "text/plain": [
       "array([[ -1.809e+01],\n",
       "       [ -6.199e-01],\n",
       "       [  1.534e-02],\n",
       "       [ -1.023e-02],\n",
       "       [ -6.108e-03],\n",
       "       [  7.022e-02],\n",
       "       [  7.651e-01],\n",
       "       [  1.293e+00]])"
      ]
     },
     "execution_count": 48,
     "metadata": {},
     "output_type": "execute_result"
    }
   ],
   "source": [
    "w = np.linalg.lstsq(np.dot(Xtrain.T,Xtrain), np.dot(Xtrain.T, Ttrain))\n",
    "w = w[0] # to only keep the weights, and discard other information returned by lstsq\n",
    "w"
   ]
  },
  {
   "cell_type": "code",
   "execution_count": 49,
   "metadata": {
    "collapsed": false
   },
   "outputs": [
    {
     "name": "stdout",
     "output_type": "stream",
     "text": [
      " -18.094  bias\n",
      "  -0.620  cylinders\n",
      "   0.015  displacement\n",
      "  -0.010  horsepower\n",
      "  -0.006  weight\n",
      "   0.070  acceleration\n",
      "   0.765  year\n",
      "   1.293  origin\n"
     ]
    }
   ],
   "source": [
    "for wi,name in zip(w.flat,Xnames):\n",
    "    print('{:8.3f}  {:s}'.format(wi,name))"
   ]
  },
  {
   "cell_type": "markdown",
   "metadata": {},
   "source": [
    "How can you figure out what *np.linalg.lstsq* is doing?  Try finding the source code!"
   ]
  },
  {
   "cell_type": "code",
   "execution_count": 50,
   "metadata": {
    "collapsed": false
   },
   "outputs": [
    {
     "name": "stdout",
     "output_type": "stream",
     "text": [
      "/usr/lib64/python2.7/site-packages/numpy/linalg/linalg.py\n",
      "/usr/lib64/python2.7/site-packages/numpy/linalg/linalg.pyc\n",
      "/usr/lib64/python2.7/site-packages/numpy/linalg/linalg.pyo\n",
      "/usr/lib64/python2.7/site-packages/numpy/linalg/tests/test_linalg.py\n",
      "/usr/lib64/python2.7/site-packages/numpy/linalg/tests/test_linalg.py.xerbla\n",
      "/usr/lib64/python2.7/site-packages/numpy/linalg/tests/test_linalg.pyc\n",
      "/usr/lib64/python2.7/site-packages/numpy/linalg/tests/test_linalg.pyo\n",
      "/usr/lib64/python2.7/site-packages/scipy/linalg/flinalg.py\n",
      "/usr/lib64/python2.7/site-packages/scipy/linalg/flinalg.pyc\n",
      "/usr/lib64/python2.7/site-packages/scipy/linalg/flinalg.pyo\n",
      "/usr/lib64/python3.4/site-packages/numpy/linalg/linalg.py\n",
      "/usr/lib64/python3.4/site-packages/numpy/linalg/tests/test_linalg.py\n",
      "/usr/lib64/python3.4/site-packages/numpy/linalg/tests/test_linalg.py.xerbla\n"
     ]
    }
   ],
   "source": [
    "!locate linalg.py"
   ]
  },
  {
   "cell_type": "markdown",
   "metadata": {},
   "source": [
    "In my version I see documentation for *lstsq* that states\n",
    "\n",
    "    Return the least-squares solution to a linear matrix equation.\n",
    "\n",
    "    Solves the equation `a x = b` by computing a vector `x` that\n",
    "    minimizes the Euclidean 2-norm `|| b - a x ||^2`.  The equation may\n",
    "    be under-, well-, or over- determined (i.e., the number of\n",
    "    linearly independent rows of `a` can be less than, equal to, or\n",
    "    greater than its number of linearly independent columns).  If `a`\n",
    "    is square and of full rank, then `x` (but for round-off error) is\n",
    "    the \"exact\" solution of the equation.\n"
   ]
  },
  {
   "cell_type": "markdown",
   "metadata": {},
   "source": [
    "Now that we have a linear model, which is simply $w$, let's use it to predict *mpg* for some samples."
   ]
  },
  {
   "cell_type": "code",
   "execution_count": 51,
   "metadata": {
    "collapsed": false
   },
   "outputs": [
    {
     "data": {
      "text/plain": [
       "array([[ 14.613],\n",
       "       [ 13.724],\n",
       "       [ 14.922],\n",
       "       [ 14.796]])"
      ]
     },
     "execution_count": 51,
     "metadata": {},
     "output_type": "execute_result"
    }
   ],
   "source": [
    "predict = np.dot(X1[:4,:],w)\n",
    "predict"
   ]
  },
  {
   "cell_type": "markdown",
   "metadata": {},
   "source": [
    "How do these predictions compare with the actual *mpg* values?  We can either make a two column matrix, or use a *for* loop to print them."
   ]
  },
  {
   "cell_type": "code",
   "execution_count": 52,
   "metadata": {
    "collapsed": false
   },
   "outputs": [
    {
     "data": {
      "text/plain": [
       "array([[ 14.613,  31.5  ],\n",
       "       [ 13.724,  20.   ],\n",
       "       [ 14.922,  20.8  ],\n",
       "       [ 14.796,  25.5  ]])"
      ]
     },
     "execution_count": 52,
     "metadata": {},
     "output_type": "execute_result"
    }
   ],
   "source": [
    "np.hstack(( predict, Ttrain[:4,:]))"
   ]
  },
  {
   "cell_type": "code",
   "execution_count": 53,
   "metadata": {
    "collapsed": false
   },
   "outputs": [
    {
     "name": "stdout",
     "output_type": "stream",
     "text": [
      "  P     T  \n",
      "14.61 31.50\n",
      "13.72 20.00\n",
      "14.92 20.80\n",
      "14.80 25.50\n"
     ]
    }
   ],
   "source": [
    "print('{:^5} {:^5}'.format('P','T'))\n",
    "for (p,t) in zip(predict,Ttrain[0:4,:]):\n",
    "    # print(p,t)\n",
    "    print('{:5.2f} {:5.2f}'.format(p[0],t[0]))"
   ]
  },
  {
   "cell_type": "markdown",
   "metadata": {},
   "source": [
    "Let's try all of the test data and plot the results."
   ]
  },
  {
   "cell_type": "code",
   "execution_count": 54,
   "metadata": {
    "collapsed": false
   },
   "outputs": [
    {
     "data": {
      "text/plain": [
       "((78, 1), (78, 1))"
      ]
     },
     "execution_count": 54,
     "metadata": {},
     "output_type": "execute_result"
    }
   ],
   "source": [
    "predict = np.dot(Xtest, w)\n",
    "predict.shape, Ttest.shape"
   ]
  },
  {
   "cell_type": "code",
   "execution_count": 55,
   "metadata": {
    "collapsed": false
   },
   "outputs": [
    {
     "data": {
      "image/png": "[encoded data removed]",
      "text/plain": [
       "<matplotlib.figure.Figure at 0x7f1d32f83048>"
      ]
     },
     "metadata": {},
     "output_type": "display_data"
    }
   ],
   "source": [
    "plt.plot(predict,Ttest,'o')\n",
    "plt.xlabel('Predicted MPG')\n",
    "plt.ylabel('Actual MPG')\n",
    "# add a 45 degree line\n",
    "a = max(min(predict),min(Ttest))\n",
    "b = min(max(predict),max(Ttest))\n",
    "plt.plot([a,b],[a,b], 'r', linewidth=3,alpha=0.7);"
   ]
  },
  {
   "cell_type": "markdown",
   "metadata": {},
   "source": [
    "Not too shabby!  But, how about a numerical measure of accuracy?  \n",
    "\n",
    "Right, just calculate the root-mean-square error (RMSE)."
   ]
  },
  {
   "cell_type": "code",
   "execution_count": 56,
   "metadata": {
    "collapsed": false
   },
   "outputs": [
    {
     "data": {
      "text/plain": [
       "2.794"
      ]
     },
     "execution_count": 56,
     "metadata": {},
     "output_type": "execute_result"
    }
   ],
   "source": [
    "np.sqrt( np.mean( (np.dot(Xtest,w) - Ttest)**2))"
   ]
  },
  {
   "cell_type": "markdown",
   "metadata": {},
   "source": [
    "This means we are about 3.1 mpg off in our predictions, on average."
   ]
  },
  {
   "cell_type": "markdown",
   "metadata": {},
   "source": [
    "## Importance of Attributes (Input Variables)"
   ]
  },
  {
   "cell_type": "markdown",
   "metadata": {},
   "source": [
    "Here again are the weights we learned before for predicting *mpg*.\n",
    "Can we use these to decide which attibutes are most important?  Can\n",
    "we remove some from the model?\n"
   ]
  },
  {
   "cell_type": "code",
   "execution_count": 57,
   "metadata": {
    "collapsed": false
   },
   "outputs": [
    {
     "name": "stdout",
     "output_type": "stream",
     "text": [
      " -18.094  bias\n",
      "  -0.620  cylinders\n",
      "   0.015  displacement\n",
      "  -0.010  horsepower\n",
      "  -0.006  weight\n",
      "   0.070  acceleration\n",
      "   0.765  year\n",
      "   1.293  origin\n"
     ]
    }
   ],
   "source": [
    "for wi,name in zip(w.flat,Xnames):\n",
    "    print('{:8.3f}  {:s}'.format(wi,name))"
   ]
  },
  {
   "cell_type": "markdown",
   "metadata": {},
   "source": [
    "Perhaps year and origin are the most significant.  Does this make sense?\n",
    "\n",
    "A weight\n",
    "magnitude is determined not only by the linear relationship between the corresponding input variable with\n",
    "the target, but also by the variable's range.\n",
    "\n",
    "What are the ranges of the input variables?"
   ]
  },
  {
   "cell_type": "code",
   "execution_count": 58,
   "metadata": {
    "collapsed": false
   },
   "outputs": [
    {
     "name": "stdout",
     "output_type": "stream",
     "text": [
      "                bias     1.00     1.00\n",
      "           cylinders     3.00     8.00\n",
      "        displacement    68.00   455.00\n",
      "          horsepower    46.00   230.00\n",
      "              weight  1613.00  5140.00\n",
      "        acceleration     8.00    24.80\n",
      "                year    70.00    82.00\n",
      "              origin     1.00     3.00\n"
     ]
    }
   ],
   "source": [
    "for n,mn,mx in zip(Xnames,np.min(X1,axis=0),np.max(X1,axis=0)):\n",
    "    print('{:>20} {:8.2f} {:8.2f}'.format(n,mn,mx))"
   ]
  },
  {
   "cell_type": "markdown",
   "metadata": {},
   "source": [
    "The weight for *weight* is the smallest magnitude, but the range of its values are the largest.\n",
    "\n",
    "The weight for *origin* is the largest, but the range of its values are the smallest."
   ]
  },
  {
   "cell_type": "markdown",
   "metadata": {},
   "source": [
    "If we could remove the effect of the ranges on the weight magnitudes, we could use the weight magnitudes to judge the relative importance of each input variable. How?\n",
    "\n",
    "A common approach is to *standardize* the input variables by adjusting the values to have zero mean and unit variance.  "
   ]
  },
  {
   "cell_type": "code",
   "execution_count": 59,
   "metadata": {
    "collapsed": false
   },
   "outputs": [
    {
     "data": {
      "text/plain": [
       "(392, 7)"
      ]
     },
     "execution_count": 59,
     "metadata": {},
     "output_type": "execute_result"
    }
   ],
   "source": [
    "Xs = (X - X.mean(axis=0)) / X.std(axis=0)\n",
    "Xs.shape"
   ]
  },
  {
   "cell_type": "code",
   "execution_count": 60,
   "metadata": {
    "collapsed": false
   },
   "outputs": [
    {
     "data": {
      "text/plain": [
       "array([ -2.169e-16,  -2.538e-16,  -3.965e-16,   6.840e-17,   6.241e-15,\n",
       "        -4.384e-16,   2.334e-16])"
      ]
     },
     "execution_count": 60,
     "metadata": {},
     "output_type": "execute_result"
    }
   ],
   "source": [
    "Xs.mean(0)"
   ]
  },
  {
   "cell_type": "code",
   "execution_count": 61,
   "metadata": {
    "collapsed": false
   },
   "outputs": [
    {
     "data": {
      "text/plain": [
       "array([ 1.,  1.,  1.,  1.,  1.,  1.,  1.])"
      ]
     },
     "execution_count": 61,
     "metadata": {},
     "output_type": "execute_result"
    }
   ],
   "source": [
    "Xs.std(0)"
   ]
  },
  {
   "cell_type": "markdown",
   "metadata": {},
   "source": [
    "To do this correctly when partitioning data into training and testing sets, we must always calculate means and standard deviations using only the training set, and use the same means and standard deviations when standardizing the testing set.  Remember, you must not use any information about the testing set when building a model.  If you do, your test error will be lower than it will be when you truly see new data.\n",
    "\n",
    "You can do this by storing the means and standard deviations obtained from the training data, and just use them when standardizing the testing data.\n",
    "\n",
    "Another way is to construct functions for standardizing that include the calculated means and standard deviations as local variables, by using [function closures](http://www.openbookproject.net/py4fun/decorator/decorator.html)."
   ]
  },
  {
   "cell_type": "code",
   "execution_count": 62,
   "metadata": {
    "collapsed": false
   },
   "outputs": [],
   "source": [
    "def makeStandardize(X):\n",
    "    means = X.mean(axis=0)\n",
    "    stds = X.std(axis=0)\n",
    "    \n",
    "    def standardize(origX):\n",
    "        return (origX - means) / stds\n",
    "    \n",
    "    def unStandardize(stdX):\n",
    "        return stds * stdX + means\n",
    "    \n",
    "    return (standardize, unStandardize)"
   ]
  },
  {
   "cell_type": "markdown",
   "metadata": {},
   "source": [
    "Let's start with *X* again, and tack on the column of 1's after dividing data into training and testing partitions."
   ]
  },
  {
   "cell_type": "code",
   "execution_count": 63,
   "metadata": {
    "collapsed": false
   },
   "outputs": [
    {
     "data": {
      "text/plain": [
       "(array([ -2.977e-16,  -1.195e-16,  -1.298e-16,  -1.078e-16,   2.378e-15,\n",
       "         -5.579e-16,  -1.892e-16]),\n",
       " array([ 1.,  1.,  1.,  1.,  1.,  1.,  1.]),\n",
       " array([-0.121, -0.135, -0.125, -0.148,  0.098, -0.071,  0.142]),\n",
       " array([ 1.019,  0.97 ,  0.88 ,  0.995,  0.907,  0.974,  1.062]))"
      ]
     },
     "execution_count": 63,
     "metadata": {},
     "output_type": "execute_result"
    }
   ],
   "source": [
    "Xtrain = X[trainIndices,:]\n",
    "Ttrain = T[trainIndices,:]\n",
    "Xtest = X[testIndices,:]\n",
    "Ttest = T[testIndices,:]\n",
    "\n",
    "(standardize, unStandardize) = makeStandardize(Xtrain)\n",
    "\n",
    "XtrainS = standardize(Xtrain)\n",
    "XtestS = standardize(Xtest)\n",
    "\n",
    "np.mean(XtrainS,axis=0), np.std(XtrainS,axis=0), np.mean(XtestS,axis=0), np.std(XtestS,axis=0)"
   ]
  },
  {
   "cell_type": "markdown",
   "metadata": {},
   "source": [
    "Notice that the means and standard deviations for the testing set are not as close to 0 and 1 as they are for the training set.  Why?"
   ]
  },
  {
   "cell_type": "markdown",
   "metadata": {},
   "source": [
    "Now we can tack on the column of 1's, solve for *w*, and examine the weight magnitudes."
   ]
  },
  {
   "cell_type": "code",
   "execution_count": 64,
   "metadata": {
    "collapsed": false
   },
   "outputs": [
    {
     "name": "stdout",
     "output_type": "stream",
     "text": [
      "  23.362  bias\n",
      "  -1.051  cylinders\n",
      "   1.610  displacement\n",
      "  -0.402  horsepower\n",
      "  -5.178  weight\n",
      "   0.197  acceleration\n",
      "   2.828  year\n",
      "   1.026  origin\n"
     ]
    }
   ],
   "source": [
    "XtrainS1 = np.hstack((np.ones((XtrainS.shape[0],1)), XtrainS))\n",
    "XtestS1 = np.hstack((np.ones((XtestS.shape[0],1)), XtestS))\n",
    "w = np.linalg.lstsq( np.dot(XtrainS1.T,XtrainS1), np.dot(XtrainS1.T, Ttrain))[0]  # see this [0]?\n",
    "for wi,name in zip(w.flat,Xnames):\n",
    "    print('{:8.3f}  {:s}'.format(wi,name))"
   ]
  },
  {
   "cell_type": "markdown",
   "metadata": {},
   "source": [
    "Now what do you observe about the relative magnitudes?  If you had a ton of input variables, it would be easier to see if we sorted them by their magnitudes."
   ]
  },
  {
   "cell_type": "code",
   "execution_count": 65,
   "metadata": {
    "collapsed": false
   },
   "outputs": [
    {
     "data": {
      "text/plain": [
       "array([[ 23.362],\n",
       "       [  1.051],\n",
       "       [  1.61 ],\n",
       "       [  0.402],\n",
       "       [  5.178],\n",
       "       [  0.197],\n",
       "       [  2.828],\n",
       "       [  1.026]])"
      ]
     },
     "execution_count": 65,
     "metadata": {},
     "output_type": "execute_result"
    }
   ],
   "source": [
    "np.abs(w)"
   ]
  },
  {
   "cell_type": "code",
   "execution_count": 66,
   "metadata": {
    "collapsed": false
   },
   "outputs": [
    {
     "data": {
      "text/plain": [
       "array([5, 3, 7, 1, 2, 6, 4, 0])"
      ]
     },
     "execution_count": 66,
     "metadata": {},
     "output_type": "execute_result"
    }
   ],
   "source": [
    "np.argsort(np.abs(w.flat))"
   ]
  },
  {
   "cell_type": "code",
   "execution_count": 67,
   "metadata": {
    "collapsed": false
   },
   "outputs": [
    {
     "data": {
      "text/plain": [
       "array([0, 4, 6, 2, 1, 7, 3, 5])"
      ]
     },
     "execution_count": 67,
     "metadata": {},
     "output_type": "execute_result"
    }
   ],
   "source": [
    "np.argsort(np.abs(w.flat))[::-1]"
   ]
  },
  {
   "cell_type": "code",
   "execution_count": 68,
   "metadata": {
    "collapsed": false
   },
   "outputs": [
    {
     "name": "stdout",
     "output_type": "stream",
     "text": [
      "  23.362  bias\n",
      "  -5.178  weight\n",
      "   2.828  year\n",
      "   1.610  displacement\n",
      "  -1.051  cylinders\n",
      "   1.026  origin\n",
      "  -0.402  horsepower\n",
      "   0.197  acceleration\n"
     ]
    }
   ],
   "source": [
    "sortedOrder = np.argsort(np.abs(w.flat))[::-1]\n",
    "Xnames = np.array(Xnames)\n",
    "for wi,name in zip(w.flat[sortedOrder],Xnames[sortedOrder]):\n",
    "    print('{:8.3f}  {:s}'.format(wi,name))"
   ]
  },
  {
   "cell_type": "markdown",
   "metadata": {},
   "source": [
    "## Putting it All Together in Python Functions"
   ]
  },
  {
   "cell_type": "markdown",
   "metadata": {},
   "source": [
    "To make sure you understand all of the above math and python, assemble all of the python into one file, called perhaps *linearfit.py* that includes a function that can be called like\n",
    "\n",
    "    model = trainLinear(X,T,0.8)\n",
    "    \n",
    "where *X* is $N\\times D$, *T* is $N\\times 1$, the 0.8 means that the data will be partitioned randomly into training and testing sets in the proportions of 80% to 20%, respectively.  The returned value, $model$, should include the *standardize* function and $\\wv$ which is $D+1\\times 1$.  The *return* statement might look like\n",
    "\n",
    "        return {'standardize': standardize, 'w': w}\n",
    "        \n",
    "Notice that as defined, *X* does not include the initial constant column of 1's.  This simplifies the use of your function by not requiring the user to know that their data matrix must be augmented with that 1's column.  It would be even more clear to separate the result into the bias coefficient and the rest.\n",
    "\n",
    "To use the model, you could\n",
    "\n",
    "    np.dot( standarize(X), model[1:]) + model[0]\n",
    "\n",
    "or, better yet, write a simple function to do this, like\n",
    "\n",
    "    def predictLinear(X,model):\n",
    "        X1 = np.hstack((np.ones(X.shape[0],1), model['standardize'](X)))\n",
    "        return np.dot( X1, model['w'] )"
   ]
  },
  {
   "cell_type": "markdown",
   "metadata": {},
   "source": [
    "## Multiple Target Components"
   ]
  },
  {
   "cell_type": "markdown",
   "metadata": {},
   "source": [
    "The beauty of matrix equations now shines.   Previously $T$ was an $N\n",
    "\\times 1$ matrix of target \n",
    "values, one per sample.  \n",
    "\n",
    "Just add additional columns of target values for each\n",
    "target component.  So $T$ becomes an $N \\times K$ matrix,\n",
    "if there are $K$ output components.  Each row is one\n",
    "$K$-dimensional sample.  \n",
    "\n",
    "Looking again at the solution for $\\wv$,\n",
    "\n",
    "$$\n",
    "\\begin{align*}\n",
    " \\wv &= (X^T X)^{-1} X^T T\n",
    "\\end{align*}\n",
    "$$\n",
    "\n",
    "we see that this changes $\\wv$ from its original form of $D\n",
    "\\times 1$ to $D \\times K$.\n",
    "\n",
    "Let's use this to predict miles per gallon **and** horsepower.\n",
    "\n",
    "First, let's assemble the data for predicting MPG and HP.\n"
   ]
  },
  {
   "cell_type": "code",
   "execution_count": 69,
   "metadata": {
    "collapsed": false
   },
   "outputs": [
    {
     "data": {
      "text/plain": [
       "((392, 6), array(['bias', 'cylinders', 'displacement', 'horsepower', 'weight',\n",
       "        'acceleration', 'year', 'origin'], \n",
       "       dtype='<U12'), (392, 2), ['mpg', 'horsepower'])"
      ]
     },
     "execution_count": 69,
     "metadata": {},
     "output_type": "execute_result"
    }
   ],
   "source": [
    "X = dataNew[:,[1,2,4,5,6,7]]\n",
    "T = dataNew[:,[0,3]] \n",
    "Tnames = [names[0], names[3]]\n",
    "X.shape,Xnames,T.shape,Tnames"
   ]
  },
  {
   "cell_type": "code",
   "execution_count": 70,
   "metadata": {
    "collapsed": false
   },
   "outputs": [
    {
     "data": {
      "text/plain": [
       "((314, 6), (314, 2), (78, 6), (78, 2))"
      ]
     },
     "execution_count": 70,
     "metadata": {},
     "output_type": "execute_result"
    }
   ],
   "source": [
    "Xtrain = X[trainIndices,:]\n",
    "Ttrain = T[trainIndices,:]\n",
    "Xtest = X[testIndices,:]\n",
    "Ttest = T[testIndices,:]\n",
    "Xtrain.shape, Ttrain.shape, Xtest.shape, Ttest.shape"
   ]
  },
  {
   "cell_type": "code",
   "execution_count": 71,
   "metadata": {
    "collapsed": false
   },
   "outputs": [
    {
     "data": {
      "text/plain": [
       "array(['bias', 'cylinders', 'displacement', 'weight', 'acceleration',\n",
       "       'year', 'origin'], \n",
       "      dtype='<U12')"
      ]
     },
     "execution_count": 71,
     "metadata": {},
     "output_type": "execute_result"
    }
   ],
   "source": [
    "standardize,_ = makeStandardize(Xtrain)\n",
    "XtrainS = standardize(Xtrain)\n",
    "XtestS = standardize(Xtest)\n",
    "XtrainS1 = np.hstack((np.ones((XtrainS.shape[0],1)), XtrainS))\n",
    "Xnames = np.array(['bias']+names)[[0,2,3,5,6,7,8]]\n",
    "Xnames"
   ]
  },
  {
   "cell_type": "code",
   "execution_count": 72,
   "metadata": {
    "collapsed": false
   },
   "outputs": [
    {
     "data": {
      "text/plain": [
       "((314, 7), (314, 2))"
      ]
     },
     "execution_count": 72,
     "metadata": {},
     "output_type": "execute_result"
    }
   ],
   "source": [
    "XtrainS1.shape,Ttrain.shape"
   ]
  },
  {
   "cell_type": "code",
   "execution_count": 73,
   "metadata": {
    "collapsed": false
   },
   "outputs": [
    {
     "data": {
      "text/plain": [
       "array([[  23.362,  105.449],\n",
       "       [  -1.002,   -4.815],\n",
       "       [   1.415,   19.022],\n",
       "       [  -5.346,   16.413],\n",
       "       [   0.324,  -12.43 ],\n",
       "       [   2.856,   -2.776],\n",
       "       [   0.985,    3.949]])"
      ]
     },
     "execution_count": 73,
     "metadata": {},
     "output_type": "execute_result"
    }
   ],
   "source": [
    "w = np.linalg.lstsq( np.dot(XtrainS1.T, XtrainS1), np.dot(XtrainS1.T, Ttrain))[0]\n",
    "w"
   ]
  },
  {
   "cell_type": "code",
   "execution_count": 75,
   "metadata": {
    "collapsed": false
   },
   "outputs": [
    {
     "name": "stdout",
     "output_type": "stream",
     "text": [
      "\n",
      "Target mpg\n",
      "\n",
      "  23.362  bias\n",
      "  -5.346  weight\n",
      "   2.856  year\n",
      "   1.415  displacement\n",
      "  -1.002  cylinders\n",
      "   0.985  origin\n",
      "   0.324  acceleration\n",
      "\n",
      "Target horsepower\n",
      "\n",
      " 105.449  bias\n",
      "  19.022  displacement\n",
      "  16.413  weight\n",
      " -12.430  acceleration\n",
      "  -4.815  cylinders\n",
      "   3.949  origin\n",
      "  -2.776  year\n"
     ]
    }
   ],
   "source": [
    "Xnames = np.array(Xnames)\n",
    "for targeti in range(2):\n",
    "    print('\\nTarget {}\\n'.format(Tnames[targeti]))\n",
    "    thisw = w[:,targeti]\n",
    "    sortedOrder = np.argsort(np.abs(thisw))[::-1]\n",
    "    for wi,name in zip(thisw[sortedOrder],Xnames[sortedOrder]):\n",
    "        print('{:8.3f}  {:s}'.format(wi,name))"
   ]
  },
  {
   "cell_type": "markdown",
   "metadata": {},
   "source": [
    "Now try predicting both mpg and horsepower."
   ]
  },
  {
   "cell_type": "code",
   "execution_count": 76,
   "metadata": {
    "collapsed": false
   },
   "outputs": [
    {
     "data": {
      "text/plain": [
       "(78, 2)"
      ]
     },
     "execution_count": 76,
     "metadata": {},
     "output_type": "execute_result"
    }
   ],
   "source": [
    "XtestS1 = np.hstack((np.ones((XtestS.shape[0],1)), XtestS))\n",
    "prediction = np.dot(XtestS1,w)\n",
    "prediction.shape"
   ]
  },
  {
   "cell_type": "code",
   "execution_count": 77,
   "metadata": {
    "collapsed": false
   },
   "outputs": [
    {
     "data": {
      "image/png": "[encoded data removed]",
      "text/plain": [
       "<matplotlib.figure.Figure at 0x7f1d330905c0>"
      ]
     },
     "metadata": {},
     "output_type": "display_data"
    }
   ],
   "source": [
    "plt.figure(figsize=(10,10))\n",
    "for p in range(2):\n",
    "    plt.subplot(2,1,p+1)\n",
    "    plt.plot(prediction[:,p],Ttest[:,p],'o')\n",
    "    plt.xlabel(\"Predicted \" + Tnames[p])\n",
    "    plt.ylabel(\"Actual \" + Tnames[p])\n",
    "    a = max(min(prediction[:,p]),min(Ttest[:,p]))\n",
    "    b = min(max(prediction[:,p]),max(Ttest[:,p]))\n",
    "    plt.plot([a,b],[a,b],'r',linewidth=3)"
   ]
  },
  {
   "cell_type": "markdown",
   "metadata": {},
   "source": [
    "How well did we do in terms of RMSE?"
   ]
  },
  {
   "cell_type": "code",
   "execution_count": 78,
   "metadata": {
    "collapsed": false
   },
   "outputs": [
    {
     "data": {
      "text/plain": [
       "array([  3.418,  12.496])"
      ]
     },
     "execution_count": 78,
     "metadata": {},
     "output_type": "execute_result"
    }
   ],
   "source": [
    "rmseTrain = np.sqrt(np.mean((np.dot(XtrainS1,w) - Ttrain)**2,axis=0))\n",
    "rmseTrain"
   ]
  },
  {
   "cell_type": "code",
   "execution_count": 79,
   "metadata": {
    "collapsed": false
   },
   "outputs": [
    {
     "data": {
      "text/plain": [
       "array([  2.816,  11.017])"
      ]
     },
     "execution_count": 79,
     "metadata": {},
     "output_type": "execute_result"
    }
   ],
   "source": [
    "rmseTest = np.sqrt(np.mean((np.dot(XtestS1,w) - Ttest)**2,axis=0))\n",
    "rmseTest"
   ]
  },
  {
   "cell_type": "code",
   "execution_count": 80,
   "metadata": {
    "collapsed": false
   },
   "outputs": [
    {
     "name": "stdout",
     "output_type": "stream",
     "text": [
      "Training RMSE: MPG 3.42 HP 12.50\n",
      " Testing RMSE: MPG 2.82 HP 11.02\n"
     ]
    }
   ],
   "source": [
    "print('Training RMSE: MPG {:4.2f} HP {:4.2f}'.format(*rmseTrain))   #what is that * doing there??\n",
    "print(' Testing RMSE: MPG {:4.2f} HP {:4.2f}'.format(*rmseTest))"
   ]
  },
  {
   "cell_type": "code",
   "execution_count": null,
   "metadata": {
    "collapsed": true
   },
   "outputs": [],
   "source": []
  }
 ],
 "metadata": {
  "kernelspec": {
   "display_name": "Python 3",
   "language": "python",
   "name": "python3"
  },
  "language_info": {
   "codemirror_mode": {
    "name": "ipython",
    "version": 3
   },
   "file_extension": ".py",
   "mimetype": "text/x-python",
   "name": "python",
   "nbconvert_exporter": "python",
   "pygments_lexer": "ipython3",
   "version": "3.4.3"
  }
 },
 "nbformat": 4,
 "nbformat_minor": 0
}
