{
 "metadata": {
  "name": "",
  "signature": "sha256:8d840d8acd95195d42ca6744b84e59371eb02e9f66d2faf15093142e6a6e88b0"
 },
 "nbformat": 3,
 "nbformat_minor": 0,
 "worksheets": [
  {
   "cells": [
    {
     "cell_type": "heading",
     "level": 1,
     "metadata": {},
     "source": [
      "Classification"
     ]
    },
    {
     "cell_type": "markdown",
     "metadata": {},
     "source": [
      "$$\\newcommand{\\xv}{\\mathbf{x}}\n",
      "\\newcommand{\\Xv}{\\mathbf{X}}\n",
      "\\newcommand{\\yv}{\\mathbf{y}}\n",
      "\\newcommand{\\Yv}{\\mathbf{Y}}\n",
      "\\newcommand{\\zv}{\\mathbf{z}}\n",
      "\\newcommand{\\av}{\\mathbf{a}}\n",
      "\\newcommand{\\Wv}{\\mathbf{W}}\n",
      "\\newcommand{\\wv}{\\mathbf{w}}\n",
      "\\newcommand{\\gv}{\\mathbf{g}}\n",
      "\\newcommand{\\Hv}{\\mathbf{H}}\n",
      "\\newcommand{\\dv}{\\mathbf{d}}\n",
      "\\newcommand{\\Vv}{\\mathbf{V}}\n",
      "\\newcommand{\\vv}{\\mathbf{v}}\n",
      "\\newcommand{\\tv}{\\mathbf{t}}\n",
      "\\newcommand{\\Tv}{\\mathbf{T}}\n",
      "\\newcommand{\\Sv}{\\mathbf{S}}\n",
      "\\newcommand{\\zv}{\\mathbf{z}}\n",
      "\\newcommand{\\Zv}{\\mathbf{Z}}\n",
      "\\newcommand{\\Norm}{\\mathcal{N}}\n",
      "\\newcommand{\\muv}{\\boldsymbol{\\mu}}\n",
      "\\newcommand{\\sigmav}{\\boldsymbol{\\sigma}}\n",
      "\\newcommand{\\phiv}{\\boldsymbol{\\phi}}\n",
      "\\newcommand{\\Phiv}{\\boldsymbol{\\Phi}}\n",
      "\\newcommand{\\Sigmav}{\\boldsymbol{\\Sigma}}\n",
      "\\newcommand{\\Lambdav}{\\boldsymbol{\\Lambda}}\n",
      "\\newcommand{\\half}{\\frac{1}{2}}\n",
      "\\newcommand{\\argmax}[1]{\\underset{#1}{\\operatorname{argmax}}}\n",
      "\\newcommand{\\argmin}[1]{\\underset{#1}{\\operatorname{argmin}}}\n",
      "\\newcommand{\\dimensionbar}[1]{\\underset{#1}{\\operatorname{|}}}$$"
     ]
    },
    {
     "cell_type": "heading",
     "level": 2,
     "metadata": {},
     "source": [
      "Classification with Linear Least Squares"
     ]
    },
    {
     "cell_type": "markdown",
     "metadata": {},
     "source": [
      "To classify a sample as being a member of 1 of 3 different classes, we could use integers 1, 2, and 3 as target outputs.\n",
      "\n",
      "![image](http://www.cs.colostate.edu/~anderson/cs545/notebooks/integerclass.png)\n"
     ]
    },
    {
     "cell_type": "markdown",
     "metadata": {},
     "source": [
      "Linear function of $x$ seems to match data fairly well. Why is this not a good idea?\n",
      "\n",
      "We must convert the continuous y-axis value to discrete integers 1, 2, or 3.  Without adding more parameters, we are\n",
      "forced to use the general solution of splitting at 1.5 and 2.5.\n",
      "\n",
      "![image](http://www.cs.colostate.edu/~anderson/cs545/notebooks/integerclassboundaries.png)\n",
      "\n",
      "Rats!  Boundaries are not where we want them."
     ]
    },
    {
     "cell_type": "heading",
     "level": 2,
     "metadata": {},
     "source": [
      "Indicator Variables"
     ]
    },
    {
     "cell_type": "markdown",
     "metadata": {},
     "source": [
      "To allow flexibility, we need to decouple the modeling of the\n",
      "boundaries.  Problem is due to using one value to represent all classes.\n",
      "Instead, let's use three values, one for each class.\n",
      "Binary-valued variables are adequate.  Class 1 = $(1,0,0)$, Class\n",
      "2 = $(0,1,0)$ and Class 3 = $(0,0,1)$.  These are called **indicator\n",
      "variables**. \n",
      "\n",
      "Our linear model has three\n",
      "outputs now.  How do we interpret the output for a new sample?\n",
      "\n",
      "Let the output be $\\yv = (y_1, y_2, y_3)$.  Convert these\n",
      "values to a class by picking the maximum value.\n",
      "\n",
      "$$\n",
      "\\begin{align*}\n",
      "\\text{class} = \\argmax{i}\\;\\; y_i\n",
      "\\end{align*}\n",
      "$$\n",
      "\n",
      "We can plot the three output components on three separate\n",
      "graphs. What linear functions will each one learn?\n",
      "\n",
      "![image](http://www.cs.colostate.edu/~anderson/cs545/notebooks/indicatorvars.png)\n",
      "\n",
      "Overlay them to see which one is the maximum for each $x$ value.\n",
      "\n",
      "![image](http://www.cs.colostate.edu/~anderson/cs545/notebooks/indicatorvarsmax.png)\n",
      "\n",
      "See any potential problems?\n",
      "\n",
      "What if the green line is too low?\n",
      "\n",
      "![image](http://www.cs.colostate.edu/~anderson/cs545/notebooks/indicatorvarsmax2.png)\n",
      "\n",
      "What could cause this?\n"
     ]
    },
    {
     "cell_type": "heading",
     "level": 2,
     "metadata": {},
     "source": [
      "Masking Problem"
     ]
    },
    {
     "cell_type": "markdown",
     "metadata": {},
     "source": [
      "Too few samples from Class 2.\n",
      "\n",
      "![image](http://www.cs.colostate.edu/~anderson/cs545/notebooks/indicatorvars3.png)\n",
      "\n",
      "There may be no values of $x$ for which the second output, $y_2$, of our\n",
      "linear model is larger than the other two.  Class 2 has become\n",
      "**masked** by the other classes.\n",
      "\n",
      "What other shape of function response would work better for this\n",
      "data?  Hold that thought, while we try an example."
     ]
    },
    {
     "cell_type": "heading",
     "level": 2,
     "metadata": {},
     "source": [
      "Example"
     ]
    },
    {
     "cell_type": "markdown",
     "metadata": {},
     "source": [
      "Let's use the [parkinsons data set](https://archive.ics.uci.edu/ml/datasets/Parkinsons) from UCI ML Archive.\n",
      "\n",
      "   * 147 samples from subjects with Parkinsons, 48 samples from healthy subjects\n",
      "   * Each sample composed of 22 numerical features extracted from voice recordings\n",
      "   * Feature named *status* is 0 for healthy subjects, 1 for subjects with Parkinson's Disease\n",
      "   * from collaboration with the University of Oxford and the National Center for Voice and Speech in Denver.\n",
      "\n",
      "Let's download the data file and read it in.  Also print the shapes of\n",
      "X and T and summarize the X and T data."
     ]
    },
    {
     "cell_type": "code",
     "collapsed": false,
     "input": [
      "import numpy as np\n",
      "import matplotlib.pyplot as plt\n",
      "%matplotlib inline"
     ],
     "language": "python",
     "metadata": {},
     "outputs": [],
     "prompt_number": 1
    },
    {
     "cell_type": "code",
     "collapsed": false,
     "input": [
      "f = open(\"parkinsons.data\",\"r\")\n",
      "header = f.readline()\n",
      "names = header.strip().split(',')[1:]\n",
      "\n",
      "data = np.loadtxt(f ,delimiter=',', usecols=1+np.arange(23))\n",
      "data.shape"
     ],
     "language": "python",
     "metadata": {},
     "outputs": [
      {
       "metadata": {},
       "output_type": "pyout",
       "prompt_number": 2,
       "text": [
        "(195, 23)"
       ]
      }
     ],
     "prompt_number": 2
    },
    {
     "cell_type": "code",
     "collapsed": false,
     "input": [
      "names"
     ],
     "language": "python",
     "metadata": {},
     "outputs": [
      {
       "metadata": {},
       "output_type": "pyout",
       "prompt_number": 3,
       "text": [
        "['MDVP:Fo(Hz)',\n",
        " 'MDVP:Fhi(Hz)',\n",
        " 'MDVP:Flo(Hz)',\n",
        " 'MDVP:Jitter(%)',\n",
        " 'MDVP:Jitter(Abs)',\n",
        " 'MDVP:RAP',\n",
        " 'MDVP:PPQ',\n",
        " 'Jitter:DDP',\n",
        " 'MDVP:Shimmer',\n",
        " 'MDVP:Shimmer(dB)',\n",
        " 'Shimmer:APQ3',\n",
        " 'Shimmer:APQ5',\n",
        " 'MDVP:APQ',\n",
        " 'Shimmer:DDA',\n",
        " 'NHR',\n",
        " 'HNR',\n",
        " 'status',\n",
        " 'RPDE',\n",
        " 'DFA',\n",
        " 'spread1',\n",
        " 'spread2',\n",
        " 'D2',\n",
        " 'PPE']"
       ]
      }
     ],
     "prompt_number": 3
    },
    {
     "cell_type": "code",
     "collapsed": false,
     "input": [
      "x=np.arange(10).reshape((2,5))\n",
      "x"
     ],
     "language": "python",
     "metadata": {},
     "outputs": [
      {
       "metadata": {},
       "output_type": "pyout",
       "prompt_number": 4,
       "text": [
        "array([[0, 1, 2, 3, 4],\n",
        "       [5, 6, 7, 8, 9]])"
       ]
      }
     ],
     "prompt_number": 4
    },
    {
     "cell_type": "code",
     "collapsed": false,
     "input": [
      "np.delete(x,2,1)"
     ],
     "language": "python",
     "metadata": {},
     "outputs": [
      {
       "metadata": {},
       "output_type": "pyout",
       "prompt_number": 5,
       "text": [
        "array([[0, 1, 3, 4],\n",
        "       [5, 6, 8, 9]])"
       ]
      }
     ],
     "prompt_number": 5
    },
    {
     "cell_type": "code",
     "collapsed": false,
     "input": [
      "targetColumn = names.index(\"status\")\n",
      "XColumns = np.arange(23)\n",
      "XColumns = np.delete(XColumns, targetColumn)\n",
      "X = data[:,XColumns]\n",
      "T = data[:,targetColumn].reshape((-1,1)) # to keep 2-d matrix form\n",
      "names.remove(\"status\")\n",
      "X.shape, T.shape"
     ],
     "language": "python",
     "metadata": {},
     "outputs": [
      {
       "metadata": {},
       "output_type": "pyout",
       "prompt_number": 6,
       "text": [
        "((195, 22), (195, 1))"
       ]
      }
     ],
     "prompt_number": 6
    },
    {
     "cell_type": "code",
     "collapsed": false,
     "input": [
      "print('{:20s} {:9s} {:9s}'.format(' ','mean','stdev'))\n",
      "for i in range(X.shape[1]):\n",
      "    print('{:20s} {:9.3g} {:9.3g}'.format(names[i],np.mean(X[:,i]),np.std(X[:,i])))\n"
     ],
     "language": "python",
     "metadata": {},
     "outputs": [
      {
       "output_type": "stream",
       "stream": "stdout",
       "text": [
        "                     mean      stdev    \n",
        "MDVP:Fo(Hz)                154      41.3\n",
        "MDVP:Fhi(Hz)               197      91.3\n",
        "MDVP:Flo(Hz)               116      43.4\n",
        "MDVP:Jitter(%)         0.00622   0.00484\n",
        "MDVP:Jitter(Abs)       4.4e-05  3.47e-05\n",
        "MDVP:RAP               0.00331   0.00296\n",
        "MDVP:PPQ               0.00345   0.00275\n",
        "Jitter:DDP             0.00992   0.00888\n",
        "MDVP:Shimmer            0.0297    0.0188\n",
        "MDVP:Shimmer(dB)         0.282     0.194\n",
        "Shimmer:APQ3            0.0157    0.0101\n",
        "Shimmer:APQ5            0.0179     0.012\n",
        "MDVP:APQ                0.0241    0.0169\n",
        "Shimmer:DDA              0.047    0.0304\n",
        "NHR                     0.0248    0.0403\n",
        "HNR                       21.9      4.41\n",
        "RPDE                     0.499     0.104\n",
        "DFA                      0.718    0.0552\n",
        "spread1                  -5.68      1.09\n",
        "spread2                  0.227    0.0832\n",
        "D2                        2.38     0.382\n",
        "PPE                      0.207    0.0899\n"
       ]
      }
     ],
     "prompt_number": 7
    },
    {
     "cell_type": "code",
     "collapsed": false,
     "input": [
      "uniq = np.unique(T)\n",
      "print('   Value  Occurrences')\n",
      "for i in uniq:\n",
      "    print('{:7.1g} {:10d}'.format(i, np.sum(T==i)))"
     ],
     "language": "python",
     "metadata": {},
     "outputs": [
      {
       "output_type": "stream",
       "stream": "stdout",
       "text": [
        "   Value  Occurrences\n",
        "      0         48\n",
        "      1        147\n"
       ]
      }
     ],
     "prompt_number": 8
    },
    {
     "cell_type": "markdown",
     "metadata": {},
     "source": [
      "Two indicator variables is equivalent to using single variable, so we\n",
      "will stick with *status* as our output variable, with value of 1\n",
      "meaning healty and 0 meaning Parkinsons."
     ]
    },
    {
     "cell_type": "markdown",
     "metadata": {},
     "source": [
      "For small sample size or very uneven number of samples from\n",
      "each class, force equal sampling proportions of two classes\n",
      "when building train, test partitions.  Let's use 80% for training and\n",
      "20% for testing."
     ]
    },
    {
     "cell_type": "code",
     "collapsed": false,
     "input": [
      "trainf = 0.8\n",
      "healthyI,_ = np.where(T == 0)\n",
      "parkI,_ = np.where(T == 1)\n",
      "healthyI = np.random.permutation(healthyI)\n",
      "parkI = np.random.permutation(parkI)\n",
      "\n",
      "nHealthy = round(trainf*len(healthyI))\n",
      "nPark = round(trainf*len(parkI))\n",
      "rowsTrain = np.hstack((healthyI[:nHealthy], parkI[:nPark]))\n",
      "Xtrain = X[rowsTrain,:]\n",
      "Ttrain = T[rowsTrain,:]\n",
      "rowsTest = np.hstack((healthyI[nHealthy:], parkI[nPark:]))\n",
      "Xtest =  X[rowsTest,:]\n",
      "Ttest =  T[rowsTest,:]\n",
      "\n",
      "print\n",
      "print('Xtrain is {:d} by {:d}. Ttrain is {:d} by {:d}'.format(*(Xtrain.shape + Ttrain.shape)))\n",
      "uniq = np.unique(Ttrain)\n",
      "print('   Value  Occurrences')\n",
      "for i in uniq:\n",
      "    print('{:7.1g} {:10d}'.format(i, np.sum(Ttrain==i)))\n",
      "\n",
      "    \n",
      "print('Xtest is {:d} by {:d}. Ttest is {:d} by {:d}'.format(*(Xtest.shape + Ttest.shape)))\n",
      "uniq = np.unique(Ttest)\n",
      "print('   Value  Occurrences')\n",
      "for i in uniq:\n",
      "    print('{:7.1g} {:10d}'.format(i, np.sum(Ttest==i)))\n"
     ],
     "language": "python",
     "metadata": {},
     "outputs": [
      {
       "output_type": "stream",
       "stream": "stdout",
       "text": [
        "Xtrain is 156 by 22. Ttrain is 156 by 1\n",
        "   Value  Occurrences\n",
        "      0         38\n",
        "      1        118\n",
        "Xtest is 39 by 22. Ttest is 39 by 1\n",
        "   Value  Occurrences\n",
        "      0         10\n",
        "      1         29\n"
       ]
      }
     ],
     "prompt_number": 9
    },
    {
     "cell_type": "markdown",
     "metadata": {},
     "source": [
      "That's about the same ratio of 0's and 1's."
     ]
    },
    {
     "cell_type": "code",
     "collapsed": false,
     "input": [
      "38/118, 10/29"
     ],
     "language": "python",
     "metadata": {},
     "outputs": [
      {
       "metadata": {},
       "output_type": "pyout",
       "prompt_number": 10,
       "text": [
        "(0.3220338983050847, 0.3448275862068966)"
       ]
      }
     ],
     "prompt_number": 10
    },
    {
     "cell_type": "markdown",
     "metadata": {},
     "source": [
      "and in the original data set we had"
     ]
    },
    {
     "cell_type": "code",
     "collapsed": false,
     "input": [
      "48/147"
     ],
     "language": "python",
     "metadata": {},
     "outputs": [
      {
       "metadata": {},
       "output_type": "pyout",
       "prompt_number": 11,
       "text": [
        "0.32653061224489793"
       ]
      }
     ],
     "prompt_number": 11
    },
    {
     "cell_type": "heading",
     "level": 2,
     "metadata": {},
     "source": [
      "Least Squares Solution"
     ]
    },
    {
     "cell_type": "markdown",
     "metadata": {},
     "source": [
      "First let's standardize the inputs.  Don't standardize the outputs.\n",
      "They indicate the class.  Then just calculate the linear least squares\n",
      "solution."
     ]
    },
    {
     "cell_type": "code",
     "collapsed": false,
     "input": [
      "def makeStandardize(X):\n",
      "    means = X.mean(axis=0)\n",
      "    stds = X.std(axis=0)\n",
      "    def standardize(origX):\n",
      "        return (origX - means) / stds\n",
      "    def unStandardize(stdX):\n",
      "        return stds * stdX + means\n",
      "    return (standardize, unStandardize)\n",
      "\n",
      "standardize,_ = makeStandardize(Xtrain)\n",
      "Xtrain = standardize(Xtrain)\n",
      "Xtest = standardize(Xtest)\n",
      "\n",
      "def addOnes(A):\n",
      "    return np.hstack((np.ones((A.shape[0],1)), A))\n",
      "\n",
      "Xtrain1 = addOnes(Xtrain)\n",
      "w = np.linalg.lstsq( np.dot( Xtrain1.T, Xtrain1 ), np.dot( Xtrain1.T, Ttrain))[0]  #don't forget this [0]\n",
      "\n",
      "names.insert(0,'bias')\n",
      "for i in range(len(names)):\n",
      "    print('{:2d} {:>20s} {:10.3g}'.format(i,names[i],w[i][0]))\n"
     ],
     "language": "python",
     "metadata": {},
     "outputs": [
      {
       "output_type": "stream",
       "stream": "stdout",
       "text": [
        " 0                 bias      0.756\n",
        " 1          MDVP:Fo(Hz)    -0.0573\n",
        " 2         MDVP:Fhi(Hz)    -0.0124\n",
        " 3         MDVP:Flo(Hz)     -0.055\n",
        " 4       MDVP:Jitter(%)     -0.791\n",
        " 5     MDVP:Jitter(Abs)     0.0094\n",
        " 6             MDVP:RAP      -20.1\n",
        " 7             MDVP:PPQ     -0.283\n",
        " 8           Jitter:DDP         21\n",
        " 9         MDVP:Shimmer      0.275\n",
        "10     MDVP:Shimmer(dB)     0.0723\n",
        "11         Shimmer:APQ3       4.79\n",
        "12         Shimmer:APQ5     -0.208\n",
        "13             MDVP:APQ     0.0834\n",
        "14          Shimmer:DDA      -4.92\n",
        "15                  NHR     -0.111\n",
        "16                  HNR     -0.095\n",
        "17                 RPDE     -0.122\n",
        "18                  DFA      0.038\n",
        "19              spread1      0.143\n",
        "20              spread2      0.104\n",
        "21                   D2    -0.0082\n",
        "22                  PPE      0.144\n"
       ]
      }
     ],
     "prompt_number": 12
    },
    {
     "cell_type": "markdown",
     "metadata": {},
     "source": [
      "Which ones appear to be most important?\n",
      "\n",
      "And, of course, let's test our linear model."
     ]
    },
    {
     "cell_type": "code",
     "collapsed": false,
     "input": [
      "Ytrain = np.dot( Xtrain1, w)\n",
      "predictedTrain = np.argmin(np.abs(Ytrain - [0,1]),axis=1)\n",
      "predictedTrain = predictedTrain.reshape((-1,1))\n",
      "percentCorrectTrain = np.sum(predictedTrain == Ttrain) / Ttrain.shape[0] * 100.0\n",
      "\n",
      "Xtest1 = addOnes(Xtest)\n",
      "Ytest = np.dot( Xtest1, w)\n",
      "predictedTest = np.argmin(np.abs(Ytest - [0,1]),axis=1)\n",
      "predictedTest = predictedTest.reshape((-1,1))\n",
      "percentCorrectTest = np.sum(predictedTest == Ttest) / float(Ttest.shape[0]) * 100.0\n",
      "\n",
      "print('Percent Correct: Training {:6.1f} Testing {:6.1f}'.format(percentCorrectTrain, percentCorrectTest))"
     ],
     "language": "python",
     "metadata": {},
     "outputs": [
      {
       "output_type": "stream",
       "stream": "stdout",
       "text": [
        "Percent Correct: Training   89.7 Testing   94.9\n"
       ]
      }
     ],
     "prompt_number": 13
    },
    {
     "cell_type": "markdown",
     "metadata": {},
     "source": [
      "What visualization would you use to check the results?\n",
      "\n",
      "Let's plot the true class with the output of the model for\n",
      "each training sample, then each testing "
     ]
    },
    {
     "cell_type": "code",
     "collapsed": false,
     "input": [
      "plt.figure(figsize=(8,8))\n",
      "plt.subplot(2,1,1)\n",
      "plt.plot(np.hstack((Ttrain,predictedTrain)),'o-')\n",
      "plt.ylim(-0.1,1.1) # so markers will show\n",
      "plt.xlabel('Sample Index')\n",
      "plt.ylabel('Class')\n",
      "plt.title('Training Data')\n",
      "plt.legend(('Actual','Predicted'),loc='center')\n",
      "\n",
      "plt.subplot(2,1,2)\n",
      "plt.plot(np.hstack((Ttest,predictedTest)),'o-')\n",
      "plt.ylim(-0.1,1.1)\n",
      "plt.xlabel('Sample Index')\n",
      "plt.ylabel('Class')\n",
      "plt.title('Testing Data')\n",
      "plt.legend(('Actual','Predicted'),loc='center');"
     ],
     "language": "python",
     "metadata": {},
     "outputs": [
      {
       "metadata": {},
       "output_type": "display_data",
       "png": "[encoded data removed]",
       "text": [
        "<matplotlib.figure.Figure at 0x7f6bcee2b438>"
       ]
      }
     ],
     "prompt_number": 14
    },
    {
     "cell_type": "markdown",
     "metadata": {},
     "source": [
      "Might also be fun to add the continuously-valued output of the\n",
      "network, before being converted to the class."
     ]
    },
    {
     "cell_type": "code",
     "collapsed": false,
     "input": [
      "plt.figure(figsize=(8,8))\n",
      "\n",
      "plt.subplot(2,1,1)\n",
      "plt.plot(np.hstack((Ttrain,predictedTrain,Ytrain)),'o-')\n",
      "plt.ylim(-0.1,1.1) # so markers will show\n",
      "plt.xlabel('Sample Index')\n",
      "plt.ylabel('Class')\n",
      "plt.title('Training Data')\n",
      "plt.legend(('Actual','Predicted','Cont. Val.'),loc='center')\n",
      "\n",
      "plt.subplot(2,1,2)\n",
      "plt.plot(np.hstack((Ttest,predictedTest,Ytest)),'o-')\n",
      "plt.ylim(-0.1,1.1)\n",
      "plt.xlabel('Sample Index')\n",
      "plt.ylabel('Class')\n",
      "plt.title('Testing Data')\n",
      "plt.legend(('Actual','Predicted','Cont. Val.'),loc='center');\n"
     ],
     "language": "python",
     "metadata": {},
     "outputs": [
      {
       "metadata": {},
       "output_type": "display_data",
       "png": "[encoded data removed]",
       "text": [
        "<matplotlib.figure.Figure at 0x7f6bced77dd8>"
       ]
      }
     ],
     "prompt_number": 15
    },
    {
     "cell_type": "heading",
     "level": 2,
     "metadata": {},
     "source": [
      "Shape of Boundary"
     ]
    },
    {
     "cell_type": "markdown",
     "metadata": {},
     "source": [
      "Imagine  we have just to variable attribues, $x_1$ and $x_2$.  With our\n",
      "linear least squared model $\\wv$, we make a prediction for\n",
      "sample $\\xv=(x_1,x_2)$ by\n",
      "\n",
      "$$\n",
      "y(\\xv) = w_0 + w_1 x_1 + w_2 x_2\n",
      "$$\n",
      "\n",
      "For the parkinsons problem, we will predict the class for this sample\n",
      "is 'healthy' if\n",
      "\n",
      "$$\n",
      "y(\\xv) = w_0 + w_1 x_1 + w_2 x_2 < 0.5\n",
      "$$\n",
      "\n",
      "So the boundary between the 'healthy' and the 'parkinsons' class in\n",
      "the two-dimensional $x_1, x_2$ space\n",
      "\n",
      "$$\n",
      "w_0 + w_1 x_1 + w_2 x_2 = 0.5\n",
      "$$\n",
      "\n",
      "is of what shape?\n",
      "\n",
      "Above methods are discriminative in nature, meaning that what is\n",
      "learned is a function that is designed to produce different values for\n",
      "different classes.  \n",
      "\n",
      "An alternative approach\n",
      "is to first create a probabilistic model of samples from each class,\n",
      "forming a model with which samples from a class can be generated,\n",
      "hence a **generative model**. The number of models is the same as the\n",
      "number of classes.\n",
      "\n",
      "Before jumping into the details of simple generative models, we will\n",
      "first review probability theory, joint probabilities, conditional\n",
      "probabilities, Bayes theorem, and the Gaussian distribution."
     ]
    },
    {
     "cell_type": "heading",
     "level": 1,
     "metadata": {},
     "source": [
      "Probability Theory"
     ]
    },
    {
     "cell_type": "heading",
     "level": 2,
     "metadata": {},
     "source": [
      "Boxes of Fruit"
     ]
    },
    {
     "cell_type": "markdown",
     "metadata": {},
     "source": [
      "![image](http://www.cs.colostate.edu/~anderson/cs545/notebooks/fruitjars.png)\n",
      "\n",
      "Counts of fruit in each jar:\n",
      "\n",
      "| | apples  |  oranges  |  strawberries  |\n",
      "| ---: | :---: | :---: | :---: | ---: |\n",
      "|  red jar |  2  |  6  |  4  | $\\Sigma = 12$  |\n",
      "|  blue jar |  3  |  1  |  2  | $\\Sigma = 6$  |\n",
      "\n",
      "Probabilities of fruit from a given jar:\n",
      "\n",
      "|  |  apples  |  oranges  |  strawberries  |\n",
      "| ---: | :---: | :---: | :---: | ---: |\n",
      "|  red jar |  2/12 = 0.167  |  6/12 = 0.5  |  4/12 = 0.33  | $\\Sigma = 1.0$  |\n",
      "|  blue jar |  3/6 = 0.5  |  1/6 = 0.167  |  2/6 = 0.33  | $\\Sigma = 1.0$  |\n",
      "\n",
      "Say the probability of choosing the red jar is 0.6 and for choosing\n",
      "the blue jar is 0.4. \n",
      "The probability of choosing the red jar and drawing an apple out\n",
      "of the red jar is the product of these two choices, or $0.6 (0.167) = 0.1$.\n",
      "\n",
      "Doing all multiplications results in\n",
      "\n",
      "|  |  apples  |  oranges  |  strawberries  |\n",
      "| ---: | :---: | :---: | :---: | ---: |\n",
      "|  red jar (P=0.6) |  0.6(0.167) = 0.1  |  0.6(0.5) = 0.3  |  0.6(0.33) = 0.2  | $\\Sigma = 0.5982$  |\n",
      "|  blue jar (P=0.4) |  0.4(0.5) = 0.2  |  0.4(0.167) = 0.067  |  0.4(0.33) = 0.133  | $\\Sigma = 0.3988$  |"
     ]
    },
    {
     "cell_type": "heading",
     "level": 2,
     "metadata": {},
     "source": [
      "Joint Probability Table "
     ]
    },
    {
     "cell_type": "markdown",
     "metadata": {},
     "source": [
      "Combine in a two-dimensional table to show joint\n",
      "probabilities of two events.\n",
      "\n",
      "|       |   |   | fruit  | | \n",
      "| :---: | :---: | :---: | :---: | :---: | ---: |\n",
      "|       |   |  apple  |  orange  |  strawberry  |\n",
      "|  jar  |  red  |  0.1  |  0.3  |  0.2  | $\\Sigma = 0.5982$  |\n",
      "|    |  blue  |  0.2  |  0.067  |  0.133  | $\\Sigma = 0.3988$  |\n",
      "|       |     |  $\\Sigma=0.3$  |  $\\Sigma=0.367$  |  $\\Sigma=0.333$  | $\\Sigma=1$  |\n",
      "\n",
      "Symbolically, let $J$ be a random variable for jar, and $F$  be a random variable for fruit:\n",
      "\n",
      "|       |   |  | fruit  | |\n",
      "| :---: | :---: | :---: | :---: | :---: | ---: |\n",
      "|       |   |  apple  |  orange  |  strawberry  |\n",
      "|  jar  |  red  |  $P(J=red,F=apple)$  |  $P(J=red,F=orange)$  |  $P(J=red,F=strawberry)$  |  $P(J=red)$  |\n",
      "|    |  blue  |  $P(J=blue,F=apple)$  |  $P(J=blue,F=orange)$  |  $P(J=blue,F=strawberry)$  |  $P(J=blue)$  |\n",
      "|       |     |  $P(F=apple)$  |  $P(F=orange)$  |  $P(F=strawberry)$  | $1$  |\n"
     ]
    },
    {
     "cell_type": "heading",
     "level": 2,
     "metadata": {},
     "source": [
      "Bayes Rule"
     ]
    },
    {
     "cell_type": "markdown",
     "metadata": {},
     "source": [
      "Just saw  an example of the **product rule**:\n",
      "\n",
      "$$\n",
      "\\begin{align*}\n",
      " P(F=orange, J=blue) = P(F=orange | J=blue) P(J=blue)\n",
      "\\end{align*}\n",
      "$$\n",
      "\n",
      "Since\n",
      "\n",
      "$$\n",
      "\\begin{align*}\n",
      "P(F=orange, J=blue) = P(J=blue, F=orange)\n",
      "\\end{align*}\n",
      "$$\n",
      "\n",
      "and\n",
      "\n",
      "$$\n",
      "\\begin{align*}\n",
      "P(J=blue,F=orange) = P(J=blue|F=orange)P(F=orange)\n",
      "\\end{align*}\n",
      "$$\n",
      "\n",
      "we know\n",
      "\n",
      "$$\n",
      "\\begin{align*}\n",
      "P(J=blue|F=orange)& P(F=orange) =\\\\\n",
      "& P(F=orange | J=blue) P(J=blue)\n",
      "\\end{align*}\n",
      "$$\n",
      "\n",
      "Dividing both sides by $P(F=orange)$ leads to **Bayes Rule**:\n",
      "\n",
      "$$\n",
      "\\begin{align*}\n",
      "P(J=blue | F=orange) = \\frac{P(F=orange|J=blue)P(J=blue)}{P(F=orange)}\n",
      "\\end{align*}\n",
      "$$\n",
      "\n",
      "On the right hand side of Bayes Rule, all terms are given except\n",
      "$P(F=orange)$\n",
      "\n",
      "$$\n",
      "\\begin{align*}\n",
      "P(J=blue | F=orange) = \\frac{P(F=orange|J=blue)P(J=blue)}{P(F=orange)}\n",
      "\\end{align*}\n",
      "$$\n",
      "\n",
      "We can use the **sum rule** to get this\n",
      "\n",
      "$$\n",
      "\\begin{align*}\n",
      "P(F=orange) & = \\sum_{j\\in\\{red,blue\\}} P(F=orange,J=j) \\\\\n",
      "& = 0.3+0.067\\\\\n",
      "& = 0.367\n",
      "\\end{align*}\n",
      "$$\n",
      "\n",
      "So, Bayes Rule can be rewritten as\n",
      "\n",
      "$$\n",
      "\\begin{align*}\n",
      "P(J=blue|F=orange) = \n",
      "\\frac{P(F=orange|J=blue)P(J=blue)}{\\sum_j P(F=orange,J=j)}\n",
      "\\end{align*}\n",
      "$$\n",
      "\n",
      "or\n",
      "\n",
      "$$\n",
      "\\begin{align*}\n",
      "P(J=blue|F=orange) = \n",
      "\\frac{P(F=orange|J=blue)P(J=blue)}{\\sum_j P(F=orange|J=j)P(J=j)}\n",
      "\\end{align*}\n",
      "$$"
     ]
    },
    {
     "cell_type": "markdown",
     "metadata": {},
     "source": [
      "Now in Python. We can represent a conditional probability table as a two-dimensional array."
     ]
    },
    {
     "cell_type": "code",
     "collapsed": false,
     "input": [
      "counts = np.array([[2,6,4], [3,1,2]])\n",
      "counts"
     ],
     "language": "python",
     "metadata": {},
     "outputs": [
      {
       "metadata": {},
       "output_type": "pyout",
       "prompt_number": 16,
       "text": [
        "array([[2, 6, 4],\n",
        "       [3, 1, 2]])"
       ]
      }
     ],
     "prompt_number": 16
    },
    {
     "cell_type": "markdown",
     "metadata": {},
     "source": [
      "Let's include the row and column names as lists, and write a function to print the table."
     ]
    },
    {
     "cell_type": "code",
     "collapsed": false,
     "input": [
      "jarNames = ['red','blue']\n",
      "fruitNames = ['apple','orange','strawberry']"
     ],
     "language": "python",
     "metadata": {},
     "outputs": [],
     "prompt_number": 17
    },
    {
     "cell_type": "code",
     "collapsed": false,
     "input": [
      "def printTable(label,data):\n",
      "    print\n",
      "    print(label)\n",
      "    print('   {:>9s} {:>7s} {:>9s}'.format(*fruitNames))\n",
      "    for i in [0,1]:\n",
      "        d = data[i,:].tolist()\n",
      "        print('{:4s} {:7.3g} {:7.3g} {:7.3g} {:7.3g}'.format(*([jarNames[i]] + d + [sum(d)])))\n",
      "    colTotals = np.sum(data,axis=0).tolist()\n",
      "    print('     {:7.3g} {:7.3g} {:7.3g} {:7.3g}'.format(*(colTotals + [sum(colTotals)])))\n",
      "\n",
      "printTable('counts',counts)"
     ],
     "language": "python",
     "metadata": {},
     "outputs": [
      {
       "output_type": "stream",
       "stream": "stdout",
       "text": [
        "counts\n",
        "       apple  orange strawberry\n",
        "red        2       6       4      12\n",
        "blue       3       1       2       6\n",
        "           5       7       6      18\n"
       ]
      }
     ],
     "prompt_number": 18
    },
    {
     "cell_type": "markdown",
     "metadata": {},
     "source": [
      "Calculate the sums of fruits in each jar by"
     ]
    },
    {
     "cell_type": "code",
     "collapsed": false,
     "input": [
      "jarSums = np.sum(counts,axis=1).reshape((2,1))\n",
      "jarSums"
     ],
     "language": "python",
     "metadata": {},
     "outputs": [
      {
       "metadata": {},
       "output_type": "pyout",
       "prompt_number": 19,
       "text": [
        "array([[12],\n",
        "       [ 6]])"
       ]
      }
     ],
     "prompt_number": 19
    },
    {
     "cell_type": "markdown",
     "metadata": {},
     "source": [
      "Now we can calculate the probability of drawing each type of fruit, given that we have already chosen a jar."
     ]
    },
    {
     "cell_type": "code",
     "collapsed": false,
     "input": [
      "pFruitGivenJar = counts / jarSums\n",
      "printTable('Prob(Fruit|Jar)',pFruitGivenJar)"
     ],
     "language": "python",
     "metadata": {},
     "outputs": [
      {
       "output_type": "stream",
       "stream": "stdout",
       "text": [
        "Prob(Fruit|Jar)\n",
        "       apple  orange strawberry\n",
        "red    0.167     0.5   0.333       1\n",
        "blue     0.5   0.167   0.333       1\n",
        "       0.667   0.667   0.667       2\n"
       ]
      }
     ],
     "prompt_number": 20
    },
    {
     "cell_type": "markdown",
     "metadata": {},
     "source": [
      "We can do more if we code the probability of selecting a jar."
     ]
    },
    {
     "cell_type": "code",
     "collapsed": false,
     "input": [
      "pJar = np.array([[0.6],[0.4]])\n",
      "pJar"
     ],
     "language": "python",
     "metadata": {},
     "outputs": [
      {
       "metadata": {},
       "output_type": "pyout",
       "prompt_number": 21,
       "text": [
        "array([[ 0.6],\n",
        "       [ 0.4]])"
       ]
      }
     ],
     "prompt_number": 21
    },
    {
     "cell_type": "markdown",
     "metadata": {},
     "source": [
      "Now we can calculate the joint probabilities, or the probabilities of each pair of a jar and a fruit occurring."
     ]
    },
    {
     "cell_type": "code",
     "collapsed": false,
     "input": [
      "pFruitAndJar = pFruitGivenJar * pJar\n",
      "printTable('Prob(Fruit,Jar)',pFruitAndJar)"
     ],
     "language": "python",
     "metadata": {},
     "outputs": [
      {
       "output_type": "stream",
       "stream": "stdout",
       "text": [
        "Prob(Fruit,Jar)\n",
        "       apple  orange strawberry\n",
        "red      0.1     0.3     0.2     0.6\n",
        "blue     0.2  0.0667   0.133     0.4\n",
        "         0.3   0.367   0.333       1\n"
       ]
      }
     ],
     "prompt_number": 22
    },
    {
     "cell_type": "markdown",
     "metadata": {},
     "source": [
      "The sum at the lower right had better be 1, because this table is all possible results. \n",
      "\n",
      "How do we get the probability of a fruit from this table?  Just sum over the jars to marginalize out (remove) the jars."
     ]
    },
    {
     "cell_type": "code",
     "collapsed": false,
     "input": [
      "pFruit = np.sum(pFruitAndJar,axis=0)\n",
      "pFruit"
     ],
     "language": "python",
     "metadata": {},
     "outputs": [
      {
       "metadata": {},
       "output_type": "pyout",
       "prompt_number": 23,
       "text": [
        "array([ 0.3       ,  0.36666667,  0.33333333])"
       ]
      }
     ],
     "prompt_number": 23
    },
    {
     "cell_type": "markdown",
     "metadata": {},
     "source": [
      "Now the probability of a jar given that you know which fruit was drawn, is"
     ]
    },
    {
     "cell_type": "code",
     "collapsed": false,
     "input": [
      "pJarGivenFruit = pFruitAndJar / pFruit\n",
      "printTable('Prob(Jar|Fruit)', pJarGivenFruit)"
     ],
     "language": "python",
     "metadata": {},
     "outputs": [
      {
       "output_type": "stream",
       "stream": "stdout",
       "text": [
        "Prob(Jar|Fruit)\n",
        "       apple  orange strawberry\n",
        "red    0.333   0.818     0.6    1.75\n",
        "blue   0.667   0.182     0.4    1.25\n",
        "           1       1       1       3\n"
       ]
      }
     ],
     "prompt_number": 24
    },
    {
     "cell_type": "heading",
     "level": 1,
     "metadata": {},
     "source": [
      "Bayes Rule for Classification"
     ]
    },
    {
     "cell_type": "markdown",
     "metadata": {},
     "source": [
      "Replace jars with groups of hand-drawn digits. \n",
      "Replace fruits with  hand-drawn images.\n",
      "\n",
      "![image](http://www.cs.colostate.edu/~anderson/cs545/notebooks/jarsofdigits.png)\n",
      "\n",
      "\n",
      "\n",
      "Let $i$ be a particular image. To classify an image $i$ as a\n",
      "particular digit, such as 4, we want to know\n",
      "\n",
      "$$\n",
      "\\begin{align*}\n",
      "P(Digit = 4 \\;|\\; Image = i)\n",
      "\\end{align*}\n",
      "$$\n",
      "\n",
      "but we probably only know\n",
      "\n",
      "$$\n",
      "\\begin{align*}\n",
      "   P(Image = i \\;|\\; Digit = 4)\n",
      "\\end{align*}\n",
      "$$\n",
      "\n",
      "If we assume\n",
      "\n",
      "$$\n",
      "\\begin{align*}\n",
      "P(Image=i) = &\\frac{1}{\\mbox{number of images}}\\\\\n",
      "P(Digit=4)=&\\frac{1}{10}\n",
      "\\end{align*}\n",
      "$$\n",
      "\n",
      "then we can use Bayes rule:\n",
      "\n",
      "$$\n",
      "\\begin{align*}\n",
      "    P(Digit=4\\;|\\;Image=i) & = \\frac{P(Image=i\\;|\\;Digit=4)  P(Digit=4)}{P(Image=i)}\\\\\n",
      "&\\\\\n",
      "& = \\frac{P(Image=i\\;|\\;Digit=4) 0.1}{(1/\\mbox{number of images)}}\n",
      "\\end{align*}\n",
      "$$"
     ]
    },
    {
     "cell_type": "heading",
     "level": 1,
     "metadata": {},
     "source": [
      "Classification: Simple Generative Models"
     ]
    },
    {
     "cell_type": "markdown",
     "metadata": {},
     "source": [
      "Above we discussed a linear function as a discriminant\n",
      "function.  If we had three classes, we would have three\n",
      "discriminant functions, and their values would be compared to find the\n",
      "maximum value to make the class prediction.\n",
      "\n",
      "A different way to develop a similar comparison is to start with\n",
      "models of the data from each class.  If the models define a\n",
      "probability distribution over possible values, the models are\n",
      "**generative models**.  \n",
      "\n",
      "What shape model would you like? \n",
      "\n",
      "As discussed in earlier lectures, a Gaussian, or Normal distribution, is a nice choice.  Its integral sums to one, its value is always nonnegative, and the derivative of its natural logarithm is very nice.\n",
      "\n",
      "\n",
      "$$\n",
      "p(\\xv) = \\frac{1}{2\\pi^{d/2} |\\Sigmav |^{1/2}}\n",
      "      e^{-\\frac{1}{2} (\\xv-\\muv)^T \\Sigmav^{-1} (\\xv - \\muv)}\n",
      "$$\n",
      "\n",
      "where mean $\\muv$ is a $d$-dimensional column vector and covariance\n",
      "matrix $\\Sigmav$ is a $d\\times d$ symmetric matrix.\n"
     ]
    },
    {
     "cell_type": "code",
     "collapsed": false,
     "input": [
      "def normald(X, mu=None, sigma=None):\n",
      "    \"\"\" normald:\n",
      "       X contains samples, one per row, NxD. \n",
      "       mu is mean vector, Dx1.\n",
      "       sigma is covariance matrix, DxD.  \"\"\"\n",
      "    d = X.shape[1]\n",
      "    if np.any(mu == None):\n",
      "        mu = np.zeros((d,1))\n",
      "    if np.any(sigma == None):\n",
      "        sigma = np.eye(d)\n",
      "    detSigma = sigma if d == 1 else np.linalg.det(sigma)\n",
      "    if detSigma == 0:\n",
      "        raise np.linalg.LinAlgError('normald(): Singular covariance matrix')\n",
      "    sigmaI = 1.0/sigma if d == 1 else np.linalg.inv(sigma)\n",
      "    normConstant = 1.0 / np.sqrt((2*np.pi)**d * detSigma)\n",
      "    diffv = X - mu.T # change column vector mu to be row vector\n",
      "    return normConstant * np.exp(-0.5 * np.sum(np.dot(diffv, sigmaI) * diffv, axis=1))[:,np.newaxis]"
     ],
     "language": "python",
     "metadata": {},
     "outputs": [],
     "prompt_number": 25
    },
    {
     "cell_type": "markdown",
     "metadata": {},
     "source": [
      "Back to that Masking Problem.. What function shape were you thinking of that might fix the masking problem?\n",
      "\n",
      "Radial basis function?  Good choice!  But, remember what a\n",
      "radial basis function resembles?\n",
      "\n",
      "Right again!  A Normal distribution.\n",
      "\n",
      "So, let's say we come up with the generative distribution,\n",
      "such as a Normal distribution, for\n",
      "Class $k$, called $p(\\xv|Class=k)$, or $p(\\xv|C=k)$. How do we use\n",
      "it to classify?\n",
      "\n",
      "Can just take the distribution with the highest value,\n",
      "$\\argmax{k}\\; p(\\xv|C=k)$.  But we can do better than this...think\n",
      "Bayes' Rule.\n",
      "\n",
      "Ultimately we would like to know $p(C=k|\\xv)$.  How do we\n",
      "get this from $p(\\xv|C=k)$?\n",
      "\n",
      "Remember that\n",
      "\n",
      "$$\n",
      "    \\begin{align*}\n",
      "      p(C=k,\\xv) = p(C=k|\\xv)p(\\xv) = p(\\xv|C=k)p(C=k)\n",
      "   \\end{align*}\n",
      "$$\n",
      "\n",
      "so \n",
      "\n",
      "$$\n",
      "   \\begin{align*}\n",
      "      p(C=k|\\xv) &= \\frac{p(\\xv|C=k)p(C=k)}{p(\\xv)}\\\\ \\\\\n",
      " &= \\frac{p(\\xv|C=k)p(C=k)}{\\sum_{k=1}^K p(\\xv,C=k)}\\\\ \\\\\n",
      "&= \\frac{p(\\xv|C=k)p(C=k)}{\\sum_{k=1}^K p(\\xv|C=k)p(C=k)}\n",
      "      \\end{align*}\n",
      "$$\n",
      "\n",
      "For two classes, $k\\in \\{1,2\\}$.  We will classify a sample\n",
      "$\\xv$ as Class 2 if $p(C=2|\\xv) > p(C=1|\\xv)$.  Now expand and simplify...\n",
      "\n",
      "$$\n",
      "    \\begin{align*}\n",
      "      p(C=2|\\xv) &> p(C=1|\\xv)\\\\ \\\\\n",
      "      \\frac{p(\\xv|C=2)p(C=2)}{p(\\xv)}  &>\n",
      "      \\frac{p(\\xv|C=1)p(C=1)}{p(\\xv)} \\\\ \\\\\n",
      "      p(\\xv|C=2)p(C=2)  &>   p(\\xv|C=1)p(C=1) \n",
      "    \\end{align*}\n",
      "$$\n",
      "\n",
      "Using our assumption that the generative distribution for each\n",
      "class is a Normal distribution,\n",
      "\n",
      "$$\n",
      "    \\begin{align*}\n",
      "      p(\\xv|C=2) p(C=2)  &>   p(\\xv|C=1)p(C=1) \\\\  \\\\\n",
      "      \\frac{1}{(2\\pi)^{\\frac{d}{2}} |\\Sigma_2|^{\\frac{1}{2}}}\n",
      "       e^{-\\frac{1}{2}(\\xv-\\muv_2)^T \\Sigma_2^{-1} (\\xv-\\muv_2)} p(C=2)      \n",
      "& > \\frac{1}{(2\\pi)^{\\frac{d}{2}} |\\Sigma_1|^{\\frac{1}{2}}}\n",
      "      e^{-\\frac{1}{2}(\\xv-\\muv_1)^T \\Sigma_1^{-1} (\\xv-\\muv_1)} p(C=1)\n",
      "      \\\\ \\\\\n",
      "      |\\Sigma_2|^{-\\frac{1}{2}}\n",
      "       e^{-\\frac{1}{2}(\\xv-\\muv_2)^T \\Sigma_2^{-1} (\\xv-\\muv_2)} p(C=2) \n",
      "      & > |\\Sigma_1|^{-\\frac{1}{2}}\n",
      "      e^{-\\frac{1}{2}(\\xv-\\muv_1)^T \\Sigma_1^{-1} (\\xv-\\muv_1)} p(C=1) \\\\\n",
      "    \\end{align*}\n",
      "$$\n",
      "\n",
      "Hey, there are multiplications and exponentials here.  Let's\n",
      "use logarithms!\n",
      "\n",
      "$$\n",
      "    \\begin{align*}\n",
      "      |\\Sigma_2|^{-\\frac{1}{2}}\n",
      "       e^{-\\frac{1}{2}(\\xv-\\muv_2)^T \\Sigma_2^{-1} (\\xv-\\muv_2)} p(C=2) \n",
      "& > |\\Sigma_1|^{-\\frac{1}{2}}\n",
      "      e^{-\\frac{1}{2}(\\xv-\\muv_1)^T \\Sigma_1^{-1} (\\xv-\\muv_1)} p(C=1)\n",
      "      \\\\ \\\\\n",
      "      -\\frac{1}{2}  \\ln |\\Sigma_2| +\n",
      "       -\\frac{1}{2}(\\xv-\\muv_2)^T \\Sigma_2^{-1} (\\xv-\\muv_2) + \\ln p(C=2) \n",
      "      & > -\\frac{1}{2} \\ln |\\Sigma_1| +\n",
      "      -\\frac{1}{2}(\\xv-\\muv_1)^T \\Sigma_1^{-1} (\\xv-\\muv_1) + \\ln p(C=1) \n",
      "    \\end{align*}\n",
      "$$\n",
      "\n",
      "If we define each side of this last inequality as a discriminant function, $\\delta_k(\\xv)$ for\n",
      "Class $k$, then\n",
      "\n",
      "$$\n",
      "      \\begin{align*}\n",
      "        \\delta_k(\\xv) = -\\frac{1}{2} \\ln |\\Sigma_k| -\\frac{1}{2}(\\xv-\\muv_k)^T\n",
      "\\Sigma_k^{-1} (\\xv-\\muv_k) + \\ln P(C=k)\n",
      "      \\end{align*}\n",
      "$$\n",
      "\n",
      "and the class of a new sample $\\xv$ is $\\argmax{k}\\; \\delta_k(\\xv)$.\n",
      "\n",
      "The boundary between Class 1 and Class 2 is the set of points $\\xv$\n",
      "for which $\\delta_2(\\xv) = \\delta_1(\\xv)$. This equation\n",
      "is quadratic in $\\xv$, meaning that the boundary between Class 1 and 2\n",
      "is quadratic.  We have just defined **Quadratic Discriminant Analysis,\n",
      "or QDA**.  \n"
     ]
    },
    {
     "cell_type": "markdown",
     "metadata": {},
     "source": [
      "Now, some Python fun with QDA.  First, let's make some data.  Let it be $D$ dimensional so we can vary\n",
      "the dimensionality of the data."
     ]
    },
    {
     "cell_type": "code",
     "collapsed": false,
     "input": [
      "D = 1  # number of components in each sample\n",
      "N = 10  # number of samples in each class\n",
      "X1 = np.random.normal(0.0,1.0,(N,D))\n",
      "T1 = np.array([1]*N).reshape((N,1))\n",
      "X2 = np.random.normal(4.0,1.5,(N,D))  # wider variance\n",
      "T2 = np.array([2]*N).reshape((N,1))\n",
      "\n",
      "data = np.hstack(( np.vstack((X1,X2)), np.vstack((T1,T2))))\n",
      "data.shape"
     ],
     "language": "python",
     "metadata": {},
     "outputs": [
      {
       "metadata": {},
       "output_type": "pyout",
       "prompt_number": 26,
       "text": [
        "(20, 2)"
       ]
      }
     ],
     "prompt_number": 26
    },
    {
     "cell_type": "markdown",
     "metadata": {},
     "source": [
      "Now imagine we only have *data* and don't know how it was\n",
      "generated.  We don't know the mean and covariance of the two classes.\n",
      "Data looks like"
     ]
    },
    {
     "cell_type": "code",
     "collapsed": false,
     "input": [
      "data"
     ],
     "language": "python",
     "metadata": {},
     "outputs": [
      {
       "metadata": {},
       "output_type": "pyout",
       "prompt_number": 27,
       "text": [
        "array([[ 0.52790402,  1.        ],\n",
        "       [ 0.3865831 ,  1.        ],\n",
        "       [ 0.83471569,  1.        ],\n",
        "       [ 0.18035641,  1.        ],\n",
        "       [-0.72420358,  1.        ],\n",
        "       [ 0.47333034,  1.        ],\n",
        "       [ 2.08215147,  1.        ],\n",
        "       [-0.32070598,  1.        ],\n",
        "       [ 0.07059246,  1.        ],\n",
        "       [ 1.74892604,  1.        ],\n",
        "       [ 6.71353008,  2.        ],\n",
        "       [ 4.31805821,  2.        ],\n",
        "       [ 5.73533763,  2.        ],\n",
        "       [ 3.94116436,  2.        ],\n",
        "       [ 4.66280829,  2.        ],\n",
        "       [ 1.63012507,  2.        ],\n",
        "       [ 3.52366497,  2.        ],\n",
        "       [ 2.72948996,  2.        ],\n",
        "       [ 3.41178648,  2.        ],\n",
        "       [ 4.05404857,  2.        ]])"
       ]
      }
     ],
     "prompt_number": 27
    },
    {
     "cell_type": "markdown",
     "metadata": {},
     "source": [
      "Start as before.  Separate into input columns and target column.  The\n",
      "target is now an integer representing the class.  And let's\n",
      "standardize the inputs."
     ]
    },
    {
     "cell_type": "code",
     "collapsed": false,
     "input": [
      "X = data[:,0:D]\n",
      "T = data[:,-1]\n",
      "standardize,_ = makeStandardize(X)\n",
      "Xs = standardize(X)"
     ],
     "language": "python",
     "metadata": {},
     "outputs": [],
     "prompt_number": 28
    },
    {
     "cell_type": "code",
     "collapsed": false,
     "input": [
      "Xs.mean(0), Xs.std(0)"
     ],
     "language": "python",
     "metadata": {},
     "outputs": [
      {
       "metadata": {},
       "output_type": "pyout",
       "prompt_number": 29,
       "text": [
        "(array([  1.11022302e-17]), array([ 1.]))"
       ]
      }
     ],
     "prompt_number": 29
    },
    {
     "cell_type": "markdown",
     "metadata": {},
     "source": [
      "Now we need a QDA discriminant function.  Here is the math again.\n",
      "\n",
      "$$\n",
      "      \\begin{align*}\n",
      "        \\delta_k(\\xv) = -\\frac{1}{2} \\ln |\\Sigma_k| -\\frac{1}{2}(\\xv-\\muv_k)^T\n",
      "\\Sigma_k^{-1} (\\xv-\\muv_k) + \\ln P(C=k)\n",
      "      \\end{align*}\n",
      "$$\n",
      "\n",
      "How about"
     ]
    },
    {
     "cell_type": "code",
     "collapsed": false,
     "input": [
      "def discQDA(X, standardize, mu, Sigma, prior):\n",
      "    Xc = standardize(X) - mu\n",
      "    if Sigma.size == 1:\n",
      "        Sigma = np.asarray(Sigma).reshape((1,1))\n",
      "    det = np.linalg.det(Sigma)        \n",
      "    if det == 0:\n",
      "        raise np.linalg.LinAlgError('discQDA(): Singular covariance matrix')\n",
      "    SigmaInv = np.linalg.inv(Sigma)     # pinv in case Sigma is singular\n",
      "    return -0.5 * np.log(det) \\\n",
      "           - 0.5 * np.sum(np.dot(Xc,SigmaInv) * Xc, axis=1) \\\n",
      "           + np.log(prior)"
     ],
     "language": "python",
     "metadata": {},
     "outputs": [],
     "prompt_number": 30
    },
    {
     "cell_type": "markdown",
     "metadata": {},
     "source": [
      "To use this, we must calculate the mean, covariance, and prior\n",
      "probabililty for each class.\n",
      "What about $p(C=k)$, which is the a prior probability\n",
      "distribution of Class $k$?  If we have no prior belief that one\n",
      "class is more likely than any other,\n",
      "\n",
      "$$\n",
      "\\begin{align*}\n",
      "p(C=k) &= \\frac{N_k}{N}\n",
      "\\end{align*}\n",
      "$$\n",
      "\n",
      "where $N$ is the total number of samples from all classes."
     ]
    },
    {
     "cell_type": "code",
     "collapsed": false,
     "input": [
      "class1rows = T==1\n",
      "class2rows = T==2\n",
      "\n",
      "mu1 = np.mean(Xs[class1rows,:],axis=0)\n",
      "mu2 = np.mean(Xs[class2rows,:],axis=0)\n",
      "\n",
      "Sigma1 = np.cov(Xs[class1rows,:].T)\n",
      "Sigma2 = np.cov(Xs[class2rows,:].T)\n",
      "\n",
      "N1 = np.sum(class1rows)\n",
      "N2 = np.sum(class2rows)\n",
      "N = len(T)\n",
      "prior1 = N1 / float(N)\n",
      "prior2 = N2 / float(N)"
     ],
     "language": "python",
     "metadata": {},
     "outputs": [],
     "prompt_number": 31
    },
    {
     "cell_type": "markdown",
     "metadata": {},
     "source": [
      "Now let's apply our discriminant function to some new data."
     ]
    },
    {
     "cell_type": "code",
     "collapsed": false,
     "input": [
      "nNew = 100\n",
      "newData = np.linspace(-5.0,10.0,nNew).repeat(D).reshape((nNew,D))\n",
      "\n",
      "d1 = discQDA(newData,standardize,mu1,Sigma1,prior1)\n",
      "d2 = discQDA(newData,standardize,mu2,Sigma2,prior2)"
     ],
     "language": "python",
     "metadata": {},
     "outputs": [],
     "prompt_number": 32
    },
    {
     "cell_type": "code",
     "collapsed": false,
     "input": [
      "d1.shape, d2.shape"
     ],
     "language": "python",
     "metadata": {},
     "outputs": [
      {
       "metadata": {},
       "output_type": "pyout",
       "prompt_number": 33,
       "text": [
        "((100,), (100,))"
       ]
      }
     ],
     "prompt_number": 33
    },
    {
     "cell_type": "markdown",
     "metadata": {},
     "source": [
      "and look at it.  If data is more than one dimensional, let's just plot\n",
      "with respect to the first component.\n",
      "\n",
      "To obtain the value of the Normal distribution value for a given data sample, we have two choices:\n",
      "\n",
      "   1. Start with the discriminant function value and transform it to the full Normal distribution value,\n",
      "   2. Use our implementation of the Normal distibution directly."
     ]
    },
    {
     "cell_type": "code",
     "collapsed": false,
     "input": [
      "plt.figure(figsize=(10,10))\n",
      "plt.subplot(3,1,1)\n",
      "plt.plot(newData[:,0],np.vstack((d1,d2)).T)\n",
      "plt.ylabel(\"QDA Discriminant Functions\")\n",
      "# Plot generative distributions  p(x | Class=k)  starting with discriminant functions\n",
      "plt.subplot(3,1,2)\n",
      "probs = np.exp( np.vstack((d1,d2)).T - 0.5*D*np.log(2*np.pi) - np.log(np.array([[prior1,prior2]])))\n",
      "plt.plot(newData[:,0],probs)\n",
      "plt.ylabel(\"QDA P(x|Class=k)\\n from disc funcs\", multialignment=\"center\")\n",
      "\n",
      "# Plot generative distributions  p(x | Class=k)  using normald\n",
      "plt.subplot(3,1,3)\n",
      "newDataS = standardize(newData)\n",
      "probs = np.hstack((normald(newDataS,mu1,Sigma1),\n",
      "                   normald(newDataS,mu2,Sigma2)))\n",
      "plt.plot(newData[:,0],probs)\n",
      "plt.ylabel(\"QDA P(x|Class=k)\\n using normald\", multialignment=\"center\");"
     ],
     "language": "python",
     "metadata": {},
     "outputs": [
      {
       "metadata": {},
       "output_type": "display_data",
       "png": "[encoded data removed]",
       "text": [
        "<matplotlib.figure.Figure at 0x7f6bcec05c50>"
       ]
      }
     ],
     "prompt_number": 38
    },
    {
     "cell_type": "markdown",
     "metadata": {},
     "source": [
      "Since there are only 10 training samples per class, results will\n",
      "change a bit from run to run."
     ]
    },
    {
     "cell_type": "markdown",
     "metadata": {},
     "source": [
      "But, what if we have more dimensions than samples?  Setting $D=20$,\n",
      "with $N=10$, results in"
     ]
    },
    {
     "cell_type": "code",
     "collapsed": false,
     "input": [
      "D = 20  # number of components in each sample\n",
      "N = 10  # number of samples in each class\n",
      "X1 = np.random.normal(0.0,1.0,(N,D))\n",
      "T1 = np.array([1]*N).reshape((N,1))\n",
      "X2 = np.random.normal(4.0,1.5,(N,D))  # wider variance\n",
      "T2 = np.array([2]*N).reshape((N,1))\n",
      "\n",
      "data = np.hstack(( np.vstack((X1,X2)), np.vstack((T1,T2))))\n",
      "X = data[:,0:D]\n",
      "T = data[:,-1]\n",
      "standardize,_ = makeStandardize(X)\n",
      "Xs = standardize(X)\n",
      "\n",
      "class1rows = T==1\n",
      "class2rows = T==2\n",
      "\n",
      "mu1 = np.mean(Xs[class1rows,:],axis=0)\n",
      "mu2 = np.mean(Xs[class2rows,:],axis=0)\n",
      "\n",
      "Sigma1 = np.cov(Xs[class1rows,:].T)\n",
      "Sigma2 = np.cov(Xs[class2rows,:].T)\n",
      "\n",
      "N1 = np.sum(class1rows)\n",
      "N2 = np.sum(class2rows)\n",
      "N = len(T)\n",
      "prior1 = N1 / float(N)\n",
      "prior2 = N2 / float(N)\n",
      "\n",
      "nNew = 100\n",
      "newData = np.linspace(-5.0,10.0,nNew).repeat(D).reshape((nNew,D))\n",
      "\n",
      "d1 = discQDA(newData,standardize,mu1,Sigma1,prior1)\n",
      "d2 = discQDA(newData,standardize,mu2,Sigma2,prior2)\n",
      "\n",
      "plt.figure(figsize=(10,10))\n",
      "plt.subplot(3,1,1)\n",
      "plt.plot(newData[:,0],np.vstack((d1,d2)).T)\n",
      "plt.ylabel(\"QDA Discriminant Functions\")\n",
      "# Plot generative distributions  p(x | Class=k)  starting with discriminant functions\n",
      "plt.subplot(3,1,2)\n",
      "probs = np.exp( np.vstack((d1,d2)).T - 0.5*D*np.log(2*np.pi) - np.log(np.array([[prior1,prior2]])))\n",
      "plt.plot(newData[:,0],probs)\n",
      "plt.ylabel(\"QDA P(x|Class=k)\\n from disc funcs\", multialignment=\"center\")\n",
      "\n",
      "# Plot generative distributions  p(x | Class=k)  using normald\n",
      "plt.subplot(3,1,3)\n",
      "newDataS = standardize(newData)\n",
      "probs = np.hstack((normald(newDataS,mu1,Sigma1),\n",
      "                   normald(newDataS,mu2,Sigma2)))\n",
      "plt.plot(newData[:,0],probs)\n",
      "plt.ylabel(\"QDA P(x|Class=k)\\n using normald\", multialignment=\"center\");"
     ],
     "language": "python",
     "metadata": {},
     "outputs": [
      {
       "metadata": {},
       "output_type": "display_data",
       "png": "[encoded data removed]",
       "text": [
        "<matplotlib.figure.Figure at 0x7f6bced998d0>"
       ]
      }
     ],
     "prompt_number": 41
    },
    {
     "cell_type": "markdown",
     "metadata": {},
     "source": [
      "What happened?  $\\Sigma$ is very close to singular, meaning columns of $\\Xv$ are\n",
      "close to collinear.  The determinant of a singular matrix is zero and its\n",
      "inverse doesn't exist.  We will discuss ways of handling this in the\n",
      "future."
     ]
    },
    {
     "cell_type": "markdown",
     "metadata": {},
     "source": [
      "For two dimensional data from two classes, our data and decision\n",
      "boundary, where $\\delta_1(\\xv) = \\delta_2(\\xv)$, might look like\n",
      "\n",
      "![image](http://www.cs.colostate.edu/~anderson/cs545/notebooks/twonormalsboundary.png)\n",
      "\n",
      "Assuming a single Normal distribution as the model of data from each class does\n",
      "not seem to lead to an exceedingly complex model.  But, how many\n",
      "parameters are there in the mean and covariance matrix, if data is $d$-dimensional?\n",
      "\n",
      "   - Mean has $d$ components.\n",
      "   - Covariance matrix has $d^2$ components.  If $d = 100$, the covariance matrix has 100,000 parameters.  Whoa!\n",
      "\n",
      "Actually the covariance matrix is symmetric, so it only has $\\frac{d^2}{2} + \\frac{d}{2} =  \\frac{d(d+1)}{2}$ unique values.  Still a lot.  And we have one for each class, so total number of parameters, including mean, is $K(d + \\frac{d(d+1)}{2})$. \n",
      "\n",
      "What if the data distribution is under-sampled?\n",
      "\n",
      "![image](http://www.cs.colostate.edu/~anderson/cs545/notebooks/twonormalsboundary2.png)\n",
      "\n",
      "Normal distribution Gaussian for Class 1 is far from correct.  Class boundary will\n",
      "now lead to many errors.\n",
      "\n",
      "How can we reduce the chance of overfitting?\n",
      "Need to remove flexibility from the Normal distribution model.  How?\n",
      "\n",
      "Could restrict all covariance matrices to be diagonal.  The\n",
      "ellipses would be parallel to the axes.  Wouldn't work well if\n",
      "features are correlated.\n",
      "\n",
      "Could force all classes to have the same covariance matrix by\n",
      "averaging the covariance matrices from every class.\n",
      "\n",
      "Seems like a  bad idea, but at least we are using all of the\n",
      "data samples to come up with a covariance matrix.\n",
      "\n",
      "If we use the average of the\n",
      "covariance matrix for each class, weighted by the fraction of\n",
      "samples from that class, we would see\n",
      "\n",
      "![image](http://www.cs.colostate.edu/~anderson/cs545/notebooks/twonormalsboundary2lda.png)\n",
      "\n",
      "Better result than using unique covariance matrices.\n",
      "\n",
      "Notice the boundary.  It is now linear, not the quadratic curve\n",
      "we had before.  Why?"
     ]
    },
    {
     "cell_type": "markdown",
     "metadata": {},
     "source": [
      "Remember our discriminant function. \n",
      "\n",
      "$$\n",
      "      \\begin{align*}\n",
      "        \\delta_k(\\xv) = -\\frac{1}{2} \\ln |\\Sigma_k| -\\frac{1}{2}(\\xv-\\muv_k)^T\n",
      "        \\Sigma_k^{-1} (\\xv-\\muv_k) + \\ln P(C=k)\n",
      "      \\end{align*}\n",
      "$$\n",
      "\n",
      "When we compare discriminant functions, $\\delta_2(\\xv) > \\delta_1(\\xv)$, and use the same\n",
      "covariance matrix $\\Sigmav$ for every class, we get\n",
      "\n",
      "$$\n",
      "      \\begin{align*}\n",
      "        -\\frac{1}{2} & \\ln |\\Sigma| +\n",
      "        -\\frac{1}{2}(\\xv-\\muv_2)^T \\Sigma^{-1} (\\xv-\\muv_2) + \\ln p(C=2) \n",
      "        \\\\ & > -\\frac{1}{2} \\ln |\\Sigma| +\n",
      "        -\\frac{1}{2}(\\xv-\\muv_1)^T \\Sigma^{-1} (\\xv-\\muv_1) + \\ln p(C=1) \n",
      "      \\end{align*}\n",
      "$$\n",
      "\n",
      "which can be simplified to\n",
      "\n",
      "$$\n",
      "      \\begin{align*}\n",
      "        -\\frac{1}{2}(\\xv-\\muv_2)^T \\Sigma^{-1} (\\xv-\\muv_2) + \\ln p(C=2) \n",
      "        & > -\\frac{1}{2}(\\xv-\\muv_1)^T \\Sigma^{-1} (\\xv-\\muv_1) + \\ln p(C=1) \\\\\n",
      "        \\xv^T \\Sigmav^{-1} \\muv_1 - \\frac{1}{2}\\muv_1^T \\Sigmav^{-1} \\muv_1 + \\log\n",
      "        P(C=1) \n",
      "        &> \\xv^T \\Sigmav^{-1} \\muv_2 - \\frac{1}{2}\\muv_2^T \\Sigmav^{-1} \\muv_2\n",
      "        + \\log P(C=2)\n",
      "      \\end{align*}\n",
      "$$\n",
      "\n",
      "\n",
      "So, our discriminant function has become\n",
      "\n",
      "$$\n",
      "      \\begin{align*}\n",
      "        \\delta_k(\\xv) = \\xv^T \\Sigmav^{-1} \\muv_k - \\frac{1}{2}\\muv_k^T \\Sigmav^{-1} \\muv_k + \\log\n",
      "        P(C=k)\n",
      "      \\end{align*}\n",
      "$$\n",
      "\n",
      "This is linear in $\\xv$, hence and can be written as\n",
      "\n",
      "$$\n",
      "      \\begin{align*}\n",
      "        \\delta_k(\\xv) = \\xv^T \\wv_k + \\text{constant}_k\n",
      "      \\end{align*}\n",
      "$$\n",
      "\n",
      "\n",
      "So, using Normal distributions as generative models and\n",
      "restricting the covariance matrices to all be the weighted average\n",
      "of class covariance matrices\n",
      "\n",
      "$$\n",
      "\\begin{align*}\n",
      "\\Sigmav = \\sum_{k=1}^K \\frac{N_k}{N} \\Sigmav_k\n",
      "\\end{align*}\n",
      "$$\n",
      "\n",
      "results in a linear boundary.  This\n",
      "approach is called Linear Discriminant Analysis (LDA).\n",
      "\n",
      "Both QDA and LDA are based on Normal distributions for\n",
      "modeling the data samples in each class.\n",
      "\n",
      "QDA is more flexible, but LDA often works better in\n",
      "practice.  When?\n",
      "\n",
      "   - Undersampled data\n",
      "     - Small number of samples\n",
      "     - High dimensional data\n"
     ]
    },
    {
     "cell_type": "heading",
     "level": 2,
     "metadata": {},
     "source": [
      "Example"
     ]
    },
    {
     "cell_type": "markdown",
     "metadata": {},
     "source": [
      "Let's play with the parkinsons data and classify it using QDA.\n",
      "\n",
      "Calculate means and covariance matrices"
     ]
    },
    {
     "cell_type": "code",
     "collapsed": false,
     "input": [
      "Xtrain.shape, Ttrain.shape, Xtest.shape, Ttest.shape"
     ],
     "language": "python",
     "metadata": {},
     "outputs": [
      {
       "metadata": {},
       "output_type": "pyout",
       "prompt_number": 42,
       "text": [
        "((156, 22), (156, 1), (39, 22), (39, 1))"
       ]
      }
     ],
     "prompt_number": 42
    },
    {
     "cell_type": "code",
     "collapsed": false,
     "input": [
      "# Fit generative models (Normal distributions) to each class\n",
      "standardize,_ = makeStandardize(Xtrain)\n",
      "Xtrains = standardize(Xtrain)\n",
      "\n",
      "Ttr = (Ttrain==0).reshape((-1))\n",
      "mu1 = np.mean(Xtrains[Ttr,:],axis=0)\n",
      "cov1 = np.cov(Xtrains[Ttr,:].T)\n",
      "Ttr = (Ttrain.ravel()==1).reshape((-1))\n",
      "mu2 = np.mean(Xtrains[Ttr,:],axis=0)\n",
      "cov2 = np.cov(Xtrains[Ttr,:].T)"
     ],
     "language": "python",
     "metadata": {},
     "outputs": [],
     "prompt_number": 43
    },
    {
     "cell_type": "code",
     "collapsed": false,
     "input": [
      "d1 = discQDA(Xtrain,standardize,mu1,cov1,float(nHealthy)/(nHealthy+nPark))\n",
      "d2 = discQDA(Xtrain,standardize,mu2,cov2,float(nPark)/(nHealthy+nPark))\n",
      "predictedTrain = np.argmax(np.vstack((d1,d2)),axis=0)\n",
      "\n",
      "d1t = discQDA(Xtest,standardize,mu1,cov1,float(nHealthy)/(nHealthy+nPark))\n",
      "d2t = discQDA(Xtest,standardize,mu2,cov2,float(nPark)/(nHealthy+nPark))\n",
      "predictedTest = np.argmax(np.vstack((d1t,d2t)),axis=0)\n",
      "\n",
      "def percentCorrect(p,t):\n",
      "    return np.sum(p.ravel()==t.ravel()) / float(len(t)) * 100\n",
      "\n",
      "print('Percent correct: Train',percentCorrect(predictedTrain,Ttrain),'Test',percentCorrect(predictedTest,Ttest))"
     ],
     "language": "python",
     "metadata": {},
     "outputs": [
      {
       "output_type": "stream",
       "stream": "stdout",
       "text": [
        "Percent correct: Train 99.358974359 Test 89.7435897436\n"
       ]
      }
     ],
     "prompt_number": 44
    },
    {
     "cell_type": "markdown",
     "metadata": {},
     "source": [
      "Let's write a function to do this and run it multiple times (for different divisions into training and testing sets)."
     ]
    },
    {
     "cell_type": "code",
     "collapsed": false,
     "input": [
      "def runPark(filename, trainFraction):\n",
      "    f = open(filename,\"r\")\n",
      "    header = f.readline()\n",
      "    names = header.strip().split(',')[1:]\n",
      "\n",
      "    data = np.loadtxt(f ,delimiter=',', usecols=1+np.arange(23))\n",
      "\n",
      "    targetColumn = names.index(\"status\")\n",
      "    XColumns = np.arange(23)\n",
      "    XColumns = np.delete(XColumns, targetColumn)\n",
      "    X = data[:,XColumns]\n",
      "    T = data[:,targetColumn].reshape((-1,1)) # to keep 2-d matrix form\n",
      "    names.remove(\"status\")\n",
      "\n",
      "    healthyI,_ = np.where(T == 0)\n",
      "    parkI,_ = np.where(T == 1)\n",
      "    healthyI = np.random.permutation(healthyI)\n",
      "    parkI = np.random.permutation(parkI)\n",
      "\n",
      "    nHealthy = round(trainFraction*len(healthyI))\n",
      "    nPark = round(trainf*len(parkI))\n",
      "    rowsTrain = np.hstack((healthyI[:nHealthy], parkI[:nPark]))\n",
      "    Xtrain = X[rowsTrain,:]\n",
      "    Ttrain = T[rowsTrain,:]\n",
      "    rowsTest = np.hstack((healthyI[nHealthy:], parkI[nPark:]))\n",
      "    Xtest =  X[rowsTest,:]\n",
      "    Ttest =  T[rowsTest,:]\n",
      "\n",
      "    standardize,_ = makeStandardize(Xtrain)\n",
      "    Xtrains = standardize(Xtrain)\n",
      "\n",
      "    Ttr = (Ttrain==0).reshape((-1))\n",
      "    mu1 = np.mean(Xtrains[Ttr,:],axis=0)\n",
      "    cov1 = np.cov(Xtrains[Ttr,:].T)\n",
      "    Ttr = (Ttrain.ravel()==1).reshape((-1))\n",
      "    mu2 = np.mean(Xtrains[Ttr,:],axis=0)\n",
      "    cov2 = np.cov(Xtrains[Ttr,:].T)\n",
      "\n",
      "    d1 = discQDA(Xtrain,standardize,mu1,cov1,float(nHealthy)/(nHealthy+nPark))\n",
      "    d2 = discQDA(Xtrain,standardize,mu2,cov2,float(nPark)/(nHealthy+nPark))\n",
      "    predictedTrain = np.argmax(np.vstack((d1,d2)),axis=0)\n",
      "\n",
      "    d1t = discQDA(Xtest,standardize,mu1,cov1,float(nHealthy)/(nHealthy+nPark))\n",
      "    d2t = discQDA(Xtest,standardize,mu2,cov2,float(nPark)/(nHealthy+nPark))\n",
      "    predictedTest = np.argmax(np.vstack((d1t,d2t)),axis=0)\n",
      "\n",
      "    print('Percent correct: Train',percentCorrect(predictedTrain,Ttrain),'Test',percentCorrect(predictedTest,Ttest))\n",
      "\n",
      "def percentCorrect(p,t):\n",
      "    return np.sum(p.ravel()==t.ravel()) / float(len(t)) * 100"
     ],
     "language": "python",
     "metadata": {},
     "outputs": [],
     "prompt_number": 45
    },
    {
     "cell_type": "code",
     "collapsed": false,
     "input": [
      "runPark('parkinsons.data',0.8)"
     ],
     "language": "python",
     "metadata": {},
     "outputs": [
      {
       "output_type": "stream",
       "stream": "stdout",
       "text": [
        "Percent correct: Train 96.7948717949 Test 92.3076923077\n"
       ]
      }
     ],
     "prompt_number": 46
    },
    {
     "cell_type": "code",
     "collapsed": false,
     "input": [
      "runPark('parkinsons.data',0.8)"
     ],
     "language": "python",
     "metadata": {},
     "outputs": [
      {
       "output_type": "stream",
       "stream": "stdout",
       "text": [
        "Percent correct: Train 97.4358974359 Test 87.1794871795\n"
       ]
      }
     ],
     "prompt_number": 47
    },
    {
     "cell_type": "code",
     "collapsed": false,
     "input": [
      "runPark('parkinsons.data',0.8)"
     ],
     "language": "python",
     "metadata": {},
     "outputs": [
      {
       "output_type": "stream",
       "stream": "stdout",
       "text": [
        "Percent correct: Train 98.7179487179 Test 92.3076923077\n"
       ]
      }
     ],
     "prompt_number": 48
    },
    {
     "cell_type": "code",
     "collapsed": false,
     "input": [
      "runPark('parkinsons.data',0.8)"
     ],
     "language": "python",
     "metadata": {},
     "outputs": [
      {
       "output_type": "stream",
       "stream": "stdout",
       "text": [
        "Percent correct: Train 99.358974359 Test 89.7435897436\n"
       ]
      }
     ],
     "prompt_number": 49
    },
    {
     "cell_type": "markdown",
     "metadata": {},
     "source": [
      "Review.  How would you get the values of\n",
      "\n",
      "  * $p(\\xv|C=k)$\n",
      "  * $p(\\xv)$\n",
      "  * $p(C=k|\\xv)$\n",
      "  * predicted $C$ for a given $\\xv$\n",
      "\n",
      "Now, what would you change to do all of this for LDA?\n"
     ]
    },
    {
     "cell_type": "code",
     "collapsed": false,
     "input": [],
     "language": "python",
     "metadata": {},
     "outputs": []
    }
   ],
   "metadata": {}
  }
 ]
}