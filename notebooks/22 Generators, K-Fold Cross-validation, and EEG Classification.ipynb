{
 "metadata": {
  "name": "",
  "signature": "sha256:0f8636bbd3f4cac6d26c6b54f3ea3f8737c706bcd14a288c564ed105d39743fa"
 },
 "nbformat": 3,
 "nbformat_minor": 0,
 "worksheets": [
  {
   "cells": [
    {
     "cell_type": "heading",
     "level": 1,
     "metadata": {},
     "source": [
      "Python Generators"
     ]
    },
    {
     "cell_type": "markdown",
     "metadata": {},
     "source": [
      "Generators are a handy way to produce collections of things, by just defining how to produce the next element of the collection.\n",
      "\n",
      "See [the documentation](https://docs.python.org/3/howto/functional.html) on generators for more information."
     ]
    },
    {
     "cell_type": "code",
     "collapsed": false,
     "input": [
      "[0, 1, 2, 3, 4, 5, 6, 7, 8, 9]"
     ],
     "language": "python",
     "metadata": {},
     "outputs": [
      {
       "metadata": {},
       "output_type": "pyout",
       "prompt_number": 2,
       "text": [
        "[0, 1, 2, 3, 4, 5, 6, 7, 8, 9]"
       ]
      }
     ],
     "prompt_number": 2
    },
    {
     "cell_type": "code",
     "collapsed": false,
     "input": [
      "def makeInts(n):\n",
      "    i = 0\n",
      "    while i < n:\n",
      "        yield i\n",
      "        i += 1"
     ],
     "language": "python",
     "metadata": {},
     "outputs": [],
     "prompt_number": 8
    },
    {
     "cell_type": "code",
     "collapsed": false,
     "input": [
      "makeInts(10)"
     ],
     "language": "python",
     "metadata": {},
     "outputs": [
      {
       "metadata": {},
       "output_type": "pyout",
       "prompt_number": 9,
       "text": [
        "<generator object makeInts at 0x7fadc08cb5a0>"
       ]
      }
     ],
     "prompt_number": 9
    },
    {
     "cell_type": "code",
     "collapsed": false,
     "input": [
      "nums = makeInts(10)"
     ],
     "language": "python",
     "metadata": {},
     "outputs": [],
     "prompt_number": 10
    },
    {
     "cell_type": "code",
     "collapsed": false,
     "input": [
      "next(nums)"
     ],
     "language": "python",
     "metadata": {},
     "outputs": [
      {
       "metadata": {},
       "output_type": "pyout",
       "prompt_number": 11,
       "text": [
        "0"
       ]
      }
     ],
     "prompt_number": 11
    },
    {
     "cell_type": "code",
     "collapsed": false,
     "input": [
      "next(nums)"
     ],
     "language": "python",
     "metadata": {},
     "outputs": [
      {
       "metadata": {},
       "output_type": "pyout",
       "prompt_number": 12,
       "text": [
        "1"
       ]
      }
     ],
     "prompt_number": 12
    },
    {
     "cell_type": "code",
     "collapsed": false,
     "input": [
      "for x in range(7):\n",
      "    print(next(nums))"
     ],
     "language": "python",
     "metadata": {},
     "outputs": [
      {
       "output_type": "stream",
       "stream": "stdout",
       "text": [
        "2\n",
        "3\n",
        "4\n",
        "5\n",
        "6\n",
        "7\n",
        "8\n"
       ]
      }
     ],
     "prompt_number": 13
    },
    {
     "cell_type": "code",
     "collapsed": false,
     "input": [
      "next(nums)"
     ],
     "language": "python",
     "metadata": {},
     "outputs": [
      {
       "metadata": {},
       "output_type": "pyout",
       "prompt_number": 14,
       "text": [
        "9"
       ]
      }
     ],
     "prompt_number": 14
    },
    {
     "cell_type": "code",
     "collapsed": false,
     "input": [
      "next(nums)"
     ],
     "language": "python",
     "metadata": {},
     "outputs": [
      {
       "ename": "StopIteration",
       "evalue": "",
       "output_type": "pyerr",
       "traceback": [
        "\u001b[1;31m---------------------------------------------------------------------------\u001b[0m\n\u001b[1;31mStopIteration\u001b[0m                             Traceback (most recent call last)",
        "\u001b[1;32m<ipython-input-15-193ae7edbe7d>\u001b[0m in \u001b[0;36m<module>\u001b[1;34m()\u001b[0m\n\u001b[1;32m----> 1\u001b[1;33m \u001b[0mnext\u001b[0m\u001b[1;33m(\u001b[0m\u001b[0mnums\u001b[0m\u001b[1;33m)\u001b[0m\u001b[1;33m\u001b[0m\u001b[0m\n\u001b[0m",
        "\u001b[1;31mStopIteration\u001b[0m: "
       ]
      }
     ],
     "prompt_number": 15
    },
    {
     "cell_type": "code",
     "collapsed": false,
     "input": [
      "for n in makeInts(5):\n",
      "    print(n)"
     ],
     "language": "python",
     "metadata": {},
     "outputs": [
      {
       "output_type": "stream",
       "stream": "stdout",
       "text": [
        "0\n",
        "1\n",
        "2\n",
        "3\n",
        "4\n"
       ]
      }
     ],
     "prompt_number": 16
    },
    {
     "cell_type": "code",
     "collapsed": false,
     "input": [
      "maker = makeInts(10)\n",
      "for x in maker:\n",
      "    print(x)"
     ],
     "language": "python",
     "metadata": {},
     "outputs": [
      {
       "output_type": "stream",
       "stream": "stdout",
       "text": [
        "0\n",
        "1\n",
        "2\n",
        "3\n",
        "4\n",
        "5\n",
        "6\n",
        "7\n",
        "8\n",
        "9\n"
       ]
      }
     ],
     "prompt_number": 17
    },
    {
     "cell_type": "heading",
     "level": 1,
     "metadata": {},
     "source": [
      "K-Fold Cross-Validation"
     ]
    },
    {
     "cell_type": "markdown",
     "metadata": {},
     "source": [
      "See [Wikipedia entry on cross-validation](http://en.wikipedia.org/wiki/Cross-validation_(statistics)).\n",
      "\n",
      "To find the best parameter values for your learning algorithm, such as the number of hidden units for a neural network, you need to train on a subset of your samples and evaluate the model on a different subset.  These are often called the training partition and the validation partition.  Once you have found the best parameter value by considering the accuracy of the models on the validation partition, the model using that parameter value should be applied to yet another partition, called the test partition.  The accuracy on the test partition will be your prediction of how well your algorithm will work on new data.\n",
      "\n",
      "So, we need to partition the data into training, validation, and testing partitions.  We are using the word *partition* to mean disjoint subsets.  And, of course, we should do this partitioning multiple times and average the accuracies over the different partitionings.  A common way to do this is called *k-fold cross-validation*.  The data is first partitioned into $k$ partitions, or folds.  Then, one partition is picked to be the testing partition, a second partition is picked to be the validation partition, and the remaining partitions form the training partition.\n",
      "\n",
      "A typical value of $k$ is 5.  If we have 1,000 samples, each fold contains 200 samples.  How many different training, validation, and testing partitions can we form?  Well, there are 5 ways to pick a testing partition, then only 4 ways to pick a validation partition.  So there are 20 ways."
     ]
    },
    {
     "cell_type": "markdown",
     "metadata": {},
     "source": [
      "Let's write a generator called *partitionsKFolds* to produce all of these different partitions.  Then we can write a for loop like this.\n",
      "\n",
      "    for Xtrain,Ttrain, Xval,Tval, Xtest,Ttest in partitionsKFolds(X,T,5):    \n",
      "        # Train using Xtrain,Train\n",
      "        # Evaluate on Xval,Tval\n",
      "        # Test on Xtest,Ttest"
     ]
    },
    {
     "cell_type": "markdown",
     "metadata": {},
     "source": [
      "Here is a small example showing the use of the *partitionsKFolds* function."
     ]
    },
    {
     "cell_type": "code",
     "collapsed": false,
     "input": [
      "import numpy as np\n",
      "import matplotlib.pyplot as plt\n",
      "%matplotlib inline"
     ],
     "language": "python",
     "metadata": {},
     "outputs": [],
     "prompt_number": 41
    },
    {
     "cell_type": "code",
     "collapsed": false,
     "input": [
      "import mlutils as ml"
     ],
     "language": "python",
     "metadata": {},
     "outputs": [],
     "prompt_number": 42
    },
    {
     "cell_type": "code",
     "collapsed": false,
     "input": [
      "X = np.arange(12).reshape((-1,1))\n",
      "T = np.array([1]*6 + [2]*6).reshape((-1,1))\n",
      "print('   X  T')\n",
      "print(np.hstack((X,T)))"
     ],
     "language": "python",
     "metadata": {},
     "outputs": [
      {
       "output_type": "stream",
       "stream": "stdout",
       "text": [
        "   X  T\n",
        "[[ 0  1]\n",
        " [ 1  1]\n",
        " [ 2  1]\n",
        " [ 3  1]\n",
        " [ 4  1]\n",
        " [ 5  1]\n",
        " [ 6  2]\n",
        " [ 7  2]\n",
        " [ 8  2]\n",
        " [ 9  2]\n",
        " [10  2]\n",
        " [11  2]]\n"
       ]
      }
     ],
     "prompt_number": 43
    },
    {
     "cell_type": "code",
     "collapsed": false,
     "input": [
      "p = 0\n",
      "for Xtrain,Ttrain,Xval,Tval,Xtest,Ttest in ml.partitionsKFolds(X,T,3):\n",
      "    p += 1\n",
      "    print('\\n                 Partition {}'.format(p))\n",
      "    print('   X  T  Training')\n",
      "    print(np.hstack((Xtrain,Ttrain)))\n",
      "    print('   X  T  Validation')\n",
      "    print(np.hstack((Xval,Tval)))\n",
      "    print('   X  T  Testing')\n",
      "    print(np.hstack((Xtest,Ttest)))"
     ],
     "language": "python",
     "metadata": {},
     "outputs": [
      {
       "output_type": "stream",
       "stream": "stdout",
       "text": [
        "\n",
        "                 Partition 1\n",
        "   X  T  Training\n",
        "[[ 4  1]\n",
        " [ 1  1]\n",
        " [10  2]\n",
        " [ 6  2]]\n",
        "   X  T  Validation\n",
        "[[2 1]\n",
        " [0 1]\n",
        " [8 2]\n",
        " [9 2]]\n",
        "   X  T  Testing\n",
        "[[ 3  1]\n",
        " [ 5  1]\n",
        " [ 7  2]\n",
        " [11  2]]\n",
        "\n",
        "                 Partition 2\n",
        "   X  T  Training\n",
        "[[2 1]\n",
        " [0 1]\n",
        " [8 2]\n",
        " [9 2]]\n",
        "   X  T  Validation\n",
        "[[ 4  1]\n",
        " [ 1  1]\n",
        " [10  2]\n",
        " [ 6  2]]\n",
        "   X  T  Testing\n",
        "[[ 3  1]\n",
        " [ 5  1]\n",
        " [ 7  2]\n",
        " [11  2]]\n",
        "\n",
        "                 Partition 3\n",
        "   X  T  Training\n",
        "[[ 4  1]\n",
        " [ 1  1]\n",
        " [10  2]\n",
        " [ 6  2]]\n",
        "   X  T  Validation\n",
        "[[ 3  1]\n",
        " [ 5  1]\n",
        " [ 7  2]\n",
        " [11  2]]\n",
        "   X  T  Testing\n",
        "[[2 1]\n",
        " [0 1]\n",
        " [8 2]\n",
        " [9 2]]\n",
        "\n",
        "                 Partition 4\n",
        "   X  T  Training\n",
        "[[ 3  1]\n",
        " [ 5  1]\n",
        " [ 7  2]\n",
        " [11  2]]\n",
        "   X  T  Validation\n",
        "[[ 4  1]\n",
        " [ 1  1]\n",
        " [10  2]\n",
        " [ 6  2]]\n",
        "   X  T  Testing\n",
        "[[2 1]\n",
        " [0 1]\n",
        " [8 2]\n",
        " [9 2]]\n",
        "\n",
        "                 Partition 5\n",
        "   X  T  Training\n",
        "[[2 1]\n",
        " [0 1]\n",
        " [8 2]\n",
        " [9 2]]\n",
        "   X  T  Validation\n",
        "[[ 3  1]\n",
        " [ 5  1]\n",
        " [ 7  2]\n",
        " [11  2]]\n",
        "   X  T  Testing\n",
        "[[ 4  1]\n",
        " [ 1  1]\n",
        " [10  2]\n",
        " [ 6  2]]\n",
        "\n",
        "                 Partition 6\n",
        "   X  T  Training\n",
        "[[ 3  1]\n",
        " [ 5  1]\n",
        " [ 7  2]\n",
        " [11  2]]\n",
        "   X  T  Validation\n",
        "[[2 1]\n",
        " [0 1]\n",
        " [8 2]\n",
        " [9 2]]\n",
        "   X  T  Testing\n",
        "[[ 4  1]\n",
        " [ 1  1]\n",
        " [10  2]\n",
        " [ 6  2]]\n"
       ]
      }
     ],
     "prompt_number": 44
    },
    {
     "cell_type": "markdown",
     "metadata": {},
     "source": [
      "Here is a definition of the *partitionsKFolds* function, provided in *mlutils.py*."
     ]
    },
    {
     "cell_type": "code",
     "collapsed": false,
     "input": [
      "def partitionsKFolds(X,T,K,classification=True):\n",
      "    '''Returns Xtrain,Ttrain,Xvalidate,Tvalidate,Xtest,Ttest\n",
      "    Build dictionary keyed by class label. Each entry contains rowIndices and start and stop\n",
      "    indices into rowIndices for each of K folds'''\n",
      "    global folds\n",
      "    if not classification:\n",
      "        print('Not implemented yet.')\n",
      "        return\n",
      "    rowIndices = np.arange(X.shape[0])\n",
      "    np.random.shuffle(rowIndices)\n",
      "\n",
      "    folds = {}\n",
      "    classes = np.unique(T)\n",
      "    for c in classes:\n",
      "        classIndices = rowIndices[np.where(T[rowIndices,:] == c)[0]]\n",
      "        nInClass = len(classIndices)\n",
      "        nEach = int(nInClass / K)\n",
      "        nLast = nInClass - nEach * (K-1)\n",
      "        starts = np.arange(0,nEach*K,nEach)\n",
      "        stops = starts + nEach\n",
      "        stops[-1] = nInClass\n",
      "        # startsStops = np.vstack((rowIndices[starts],rowIndices[stops])).T\n",
      "        folds[c] = [classIndices, starts, stops]\n",
      "\n",
      "    for testFold in range(K):\n",
      "        for validateFold in range(K):\n",
      "            if testFold == validateFold:\n",
      "                continue\n",
      "            trainFolds = np.setdiff1d(range(K), [testFold,validateFold])\n",
      "            rows = rowsInFold(folds,testFold)\n",
      "            Xtest = X[rows,:]\n",
      "            Ttest = T[rows,:]\n",
      "            rows = rowsInFold(folds,validateFold)\n",
      "            Xvalidate = X[rows,:]\n",
      "            Tvalidate = T[rows,:]\n",
      "            rows = rowsInFolds(folds,trainFolds)\n",
      "            Xtrain = X[rows,:]\n",
      "            Ttrain = T[rows,:]\n",
      "            yield Xtrain,Ttrain,Xvalidate,Tvalidate,Xtest,Ttest\n",
      "\n",
      "def rowsInFold(folds,k):\n",
      "    allRows = []\n",
      "    for c,rows in folds.items():\n",
      "        classRows, starts, stops = rows\n",
      "        allRows += classRows[starts[k]:stops[k]].tolist()\n",
      "    return allRows\n",
      "\n",
      "def rowsInFolds(folds,ks):\n",
      "    allRows = []\n",
      "    for k in ks:\n",
      "        allRows += rowsInFold(folds,k)\n",
      "    return allRows"
     ],
     "language": "python",
     "metadata": {},
     "outputs": [],
     "prompt_number": 45
    },
    {
     "cell_type": "heading",
     "level": 1,
     "metadata": {},
     "source": [
      "EEG Classification"
     ]
    },
    {
     "cell_type": "markdown",
     "metadata": {},
     "source": [
      "Let's use this to do an experiment in EEG classification.  At our [Brain-Computer Interface Project](http://www.cs.colostate.edu/eeg/main/), you can find some of the EEG data we have recorded.  Download the data set for Subject 24 from there to get the data file named *s24-gammasys-gifford-unimpaired.json*.  Load the data in to python as shown here.  Some of the above *import* statements are repeated so you have them all in one place."
     ]
    },
    {
     "cell_type": "code",
     "collapsed": false,
     "input": [
      "import numpy as np\n",
      "import matplotlib.pyplot as plt\n",
      "%matplotlib inline\n",
      "\n",
      "import json\n",
      "import cwt\n",
      "import neuralnetworks3 as nn\n",
      "import mlutils as ml"
     ],
     "language": "python",
     "metadata": {},
     "outputs": [],
     "prompt_number": 46
    },
    {
     "cell_type": "code",
     "collapsed": false,
     "input": [
      "d = json.load(open('s24-gammasys-gifford-unimpaired.json')) #activetwo\n",
      "d[0].keys()"
     ],
     "language": "python",
     "metadata": {},
     "outputs": [
      {
       "metadata": {},
       "output_type": "pyout",
       "prompt_number": 47,
       "text": [
        "dict_keys(['notes', 'location', 'impairment', 'device', 'subject', 'channels', 'protocol', 'date', 'sample rate', 'eeg'])"
       ]
      }
     ],
     "prompt_number": 47
    },
    {
     "cell_type": "code",
     "collapsed": false,
     "input": [
      "[di['protocol'] for di in d]"
     ],
     "language": "python",
     "metadata": {},
     "outputs": [
      {
       "metadata": {},
       "output_type": "pyout",
       "prompt_number": 51,
       "text": [
        "['3minutes',\n",
        " 'grid-b',\n",
        " 'grid-d',\n",
        " 'grid-p',\n",
        " 'letter-p',\n",
        " 'letter-b',\n",
        " 'letter-d',\n",
        " 'mentaltasks']"
       ]
      }
     ],
     "prompt_number": 51
    },
    {
     "cell_type": "code",
     "collapsed": false,
     "input": [
      "mentalI = [di['protocol'] for di in d].index('mentaltasks')\n",
      "mentalI"
     ],
     "language": "python",
     "metadata": {},
     "outputs": [
      {
       "metadata": {},
       "output_type": "pyout",
       "prompt_number": 53,
       "text": [
        "7"
       ]
      }
     ],
     "prompt_number": 53
    },
    {
     "cell_type": "code",
     "collapsed": false,
     "input": [
      "mentals = d[mentalI]\n",
      "data = np.array(mentals['eeg']['trial 1'])\n",
      "channels = mentals['channels']"
     ],
     "language": "python",
     "metadata": {},
     "outputs": [],
     "prompt_number": 55
    },
    {
     "cell_type": "code",
     "collapsed": false,
     "input": [
      "channels"
     ],
     "language": "python",
     "metadata": {},
     "outputs": [
      {
       "metadata": {},
       "output_type": "pyout",
       "prompt_number": 56,
       "text": [
        "['F3', 'F4', 'C3', 'C4', 'P3', 'P4', 'O1', 'O2']"
       ]
      }
     ],
     "prompt_number": 56
    },
    {
     "cell_type": "code",
     "collapsed": false,
     "input": [
      "data.shape"
     ],
     "language": "python",
     "metadata": {},
     "outputs": [
      {
       "metadata": {},
       "output_type": "pyout",
       "prompt_number": 57,
       "text": [
        "(9, 15620)"
       ]
      }
     ],
     "prompt_number": 57
    },
    {
     "cell_type": "code",
     "collapsed": false,
     "input": [
      "plt.plot(data[0,:]);\n",
      "plt.ylabel('$\\mu$Volts at Channel F3');"
     ],
     "language": "python",
     "metadata": {},
     "outputs": [
      {
       "metadata": {},
       "output_type": "display_data",
       "png": "[encoded data removed]",
       "text": [
        "<matplotlib.figure.Figure at 0x7fad9e6630f0>"
       ]
      }
     ],
     "prompt_number": 60
    },
    {
     "cell_type": "code",
     "collapsed": false,
     "input": [
      "plt.plot(data[-1,:]);\n",
      "plt.ylabel('Stimulus Marker');"
     ],
     "language": "python",
     "metadata": {},
     "outputs": [
      {
       "metadata": {},
       "output_type": "display_data",
       "png": "[encoded data removed]",
       "text": [
        "<matplotlib.figure.Figure at 0x7fad9e5d6940>"
       ]
      }
     ],
     "prompt_number": 61
    },
    {
     "cell_type": "code",
     "collapsed": false,
     "input": [
      "labels = data[-1,:] - data[-1,:].min()\n",
      "np.unique(labels)"
     ],
     "language": "python",
     "metadata": {},
     "outputs": [
      {
       "metadata": {},
       "output_type": "pyout",
       "prompt_number": 67,
       "text": [
        "array([  0.,  32.,  67.,  70.,  82.,  83.])"
       ]
      }
     ],
     "prompt_number": 67
    },
    {
     "cell_type": "code",
     "collapsed": false,
     "input": [
      "chr(32),chr(67),chr(70),chr(82),chr(83)"
     ],
     "language": "python",
     "metadata": {},
     "outputs": [
      {
       "metadata": {},
       "output_type": "pyout",
       "prompt_number": 68,
       "text": [
        "(' ', 'C', 'F', 'R', 'S')"
       ]
      }
     ],
     "prompt_number": 68
    },
    {
     "cell_type": "markdown",
     "metadata": {},
     "source": [
      "These characters indicate which mental task the subject was performing:\n",
      "\n",
      "   * C - count backwards from 100 by 3's\n",
      "   * F - imagine opening and closing your right hand fist\n",
      "   * R - imaging the computer display rotating in three dimensions\n",
      "   * S - imagine a song\n",
      "   \n",
      "Convert these numbers into 1, 2, 3, or 4 for the class labels."
     ]
    },
    {
     "cell_type": "code",
     "collapsed": false,
     "input": [
      "convertLabels = np.vectorize(lambda x: 4 if x == 83 else 3 if x == 82 else 2 if x == 70 else 1 if x == 67 else 0)\n",
      "labels = convertLabels(labels)\n",
      "np.unique(labels)"
     ],
     "language": "python",
     "metadata": {},
     "outputs": [
      {
       "metadata": {},
       "output_type": "pyout",
       "prompt_number": 69,
       "text": [
        "array([0, 1, 2, 3, 4])"
       ]
      }
     ],
     "prompt_number": 69
    },
    {
     "cell_type": "code",
     "collapsed": false,
     "input": [
      "eeg = data[:-1,:]  # all but last stimulus marker channel\n",
      "plt.plot(eeg.T + 40*np.arange(8))\n",
      "plt.axis('tight');"
     ],
     "language": "python",
     "metadata": {},
     "outputs": [
      {
       "metadata": {},
       "output_type": "display_data",
       "png": "[encoded data removed]",
       "text": [
        "<matplotlib.figure.Figure at 0x7fad9e63cda0>"
       ]
      }
     ],
     "prompt_number": 74
    },
    {
     "cell_type": "markdown",
     "metadata": {},
     "source": [
      "Let's extract just the labeled samples, discarding samples with a 0 label."
     ]
    },
    {
     "cell_type": "code",
     "collapsed": false,
     "input": [
      "print(eeg.shape)\n",
      "keep = labels > 0\n",
      "eeg = eeg[:,keep]\n",
      "labels = labels[keep]\n",
      "print(eeg.shape)\n",
      "np.unique(labels)"
     ],
     "language": "python",
     "metadata": {},
     "outputs": [
      {
       "output_type": "stream",
       "stream": "stdout",
       "text": [
        "(8, 15620)\n",
        "(8, 10253)\n"
       ]
      },
      {
       "metadata": {},
       "output_type": "pyout",
       "prompt_number": 75,
       "text": [
        "array([1, 2, 3, 4])"
       ]
      }
     ],
     "prompt_number": 75
    },
    {
     "cell_type": "markdown",
     "metadata": {},
     "source": [
      "Now, let's represent the EEG time series as the energy at various frequencies, by calculating the continuous wavelet transform of each channel."
     ]
    },
    {
     "cell_type": "code",
     "collapsed": false,
     "input": [
      "freqs = np.linspace(0.5,20, 10)\n",
      "freqs"
     ],
     "language": "python",
     "metadata": {},
     "outputs": [
      {
       "metadata": {},
       "output_type": "pyout",
       "prompt_number": 77,
       "text": [
        "array([  0.5       ,   2.66666667,   4.83333333,   7.        ,\n",
        "         9.16666667,  11.33333333,  13.5       ,  15.66666667,\n",
        "        17.83333333,  20.        ])"
       ]
      }
     ],
     "prompt_number": 77
    },
    {
     "cell_type": "code",
     "collapsed": false,
     "input": [
      "tfrep,_ = cwt.cwt(eeg, 256, freqs, 5)"
     ],
     "language": "python",
     "metadata": {},
     "outputs": [],
     "prompt_number": 78
    },
    {
     "cell_type": "code",
     "collapsed": false,
     "input": [
      "plt.figure(figsize=(10,10))\n",
      "for ch in range(8):\n",
      "    plt.subplot(3,3,ch+1)\n",
      "    plt.imshow(np.log(tfrep[ch,:,:]), interpolation='nearest', origin='lower')\n",
      "    plt.axis('auto')\n",
      "    plt.axis('tight')\n",
      "    plt.ylabel('Frequency')\n",
      "    plt.title(channels[ch])\n",
      "plt.subplot(3,3,9)\n",
      "plt.plot(labels);\n",
      "plt.ylabel('Class Labels')\n",
      "plt.axis('tight')\n",
      "plt.ylim(0.5,4.5);"
     ],
     "language": "python",
     "metadata": {},
     "outputs": [
      {
       "metadata": {},
       "output_type": "display_data",
       "png": "[encoded data removed]",
       "text": [
        "<matplotlib.figure.Figure at 0x7fad98232668>"
       ]
      }
     ],
     "prompt_number": 129
    },
    {
     "cell_type": "markdown",
     "metadata": {},
     "source": [
      "Now, let's try classifying these samples using neural networks, using k-fold cross-validation."
     ]
    },
    {
     "cell_type": "code",
     "collapsed": false,
     "input": [
      "tfrep.shape"
     ],
     "language": "python",
     "metadata": {},
     "outputs": [
      {
       "metadata": {},
       "output_type": "pyout",
       "prompt_number": 83,
       "text": [
        "(8, 10, 10253)"
       ]
      }
     ],
     "prompt_number": 83
    },
    {
     "cell_type": "code",
     "collapsed": false,
     "input": [
      "tfrep.T.shape"
     ],
     "language": "python",
     "metadata": {},
     "outputs": [
      {
       "metadata": {},
       "output_type": "pyout",
       "prompt_number": 84,
       "text": [
        "(10253, 10, 8)"
       ]
      }
     ],
     "prompt_number": 84
    },
    {
     "cell_type": "code",
     "collapsed": false,
     "input": [
      "X = np.log(tfrep.T).reshape((-1,80))\n",
      "X.shape"
     ],
     "language": "python",
     "metadata": {},
     "outputs": [
      {
       "metadata": {},
       "output_type": "pyout",
       "prompt_number": 85,
       "text": [
        "(10253, 80)"
       ]
      }
     ],
     "prompt_number": 85
    },
    {
     "cell_type": "markdown",
     "metadata": {},
     "source": [
      "We have 8 channels, and 10 energy levels (at different frequencies) for each channel."
     ]
    },
    {
     "cell_type": "code",
     "collapsed": false,
     "input": [
      "T = labels.reshape((-1,1))\n",
      "T.shape"
     ],
     "language": "python",
     "metadata": {},
     "outputs": [
      {
       "metadata": {},
       "output_type": "pyout",
       "prompt_number": 86,
       "text": [
        "(10253, 1)"
       ]
      }
     ],
     "prompt_number": 86
    },
    {
     "cell_type": "code",
     "collapsed": false,
     "input": [
      "nIterations = 50\n",
      "nHiddens = (0, 1, 5, 10, 20)\n",
      "results = []\n",
      "parti = 0\n",
      "for Xtrain,Ttrain, Xval,Tval, Xtest,Ttest in ml.partitionsKFolds(X,T,5):\n",
      "    \n",
      "    parti += 1\n",
      "    print('Partition {} shapes are train {}, {}, val {}, {}, test {}, {}'.format(\n",
      "            parti,Xtrain.shape,Ttrain.shape, Xval.shape,Tval.shape, Xtest.shape,Ttest.shape))\n",
      "    \n",
      "    partitionResult = []\n",
      "    for nh in nHiddens:\n",
      "        \n",
      "        nnet = nn.NeuralNetworkClassifier(Xtrain.shape[1],nh,len(np.unique(Ttrain)))\n",
      "        nnet.train(Xtrain,Ttrain,nIterations = nIterations)\n",
      "        \n",
      "        predicted = nnet.use(Xval)\n",
      "        ACCtrain = np.sum(nnet.use(Xtrain) == Ttrain) / len(Ttrain)\n",
      "        ACCval = np.sum(nnet.use(Xval) == Tval) / len(Tval)\n",
      "        ACCtest = np.sum(nnet.use(Xtest) == Ttest) / len(Ttest)\n",
      "        partitionResult.append([nh, ACCtrain, ACCval, ACCtest])\n",
      "\n",
      "    partitionResult = np.array(partitionResult)\n",
      "    best = np.argmax(partitionResult[:,2]) # using validation accuracy\n",
      "    results.append( partitionResult[best,:] )\n",
      "results = np.array(results)"
     ],
     "language": "python",
     "metadata": {},
     "outputs": [
      {
       "output_type": "stream",
       "stream": "stdout",
       "text": [
        "Partition 1 shapes are train (6155, 80), (6155, 1), val (2049, 80), (2049, 1), test (2049, 80), (2049, 1)\n",
        "Partition 2 shapes are train (6155, 80), (6155, 1), val (2049, 80), (2049, 1), test (2049, 80), (2049, 1)"
       ]
      },
      {
       "output_type": "stream",
       "stream": "stdout",
       "text": [
        "\n",
        "Partition 3 shapes are train (6155, 80), (6155, 1), val (2049, 80), (2049, 1), test (2049, 80), (2049, 1)"
       ]
      },
      {
       "output_type": "stream",
       "stream": "stdout",
       "text": [
        "\n",
        "Partition 4 shapes are train (6147, 80), (6147, 1), val (2057, 80), (2057, 1), test (2049, 80), (2049, 1)"
       ]
      },
      {
       "output_type": "stream",
       "stream": "stdout",
       "text": [
        "\n",
        "Partition 5 shapes are train (6155, 80), (6155, 1), val (2049, 80), (2049, 1), test (2049, 80), (2049, 1)"
       ]
      },
      {
       "output_type": "stream",
       "stream": "stdout",
       "text": [
        "\n",
        "Partition 6 shapes are train (6155, 80), (6155, 1), val (2049, 80), (2049, 1), test (2049, 80), (2049, 1)"
       ]
      },
      {
       "output_type": "stream",
       "stream": "stdout",
       "text": [
        "\n",
        "Partition 7 shapes are train (6155, 80), (6155, 1), val (2049, 80), (2049, 1), test (2049, 80), (2049, 1)"
       ]
      },
      {
       "output_type": "stream",
       "stream": "stdout",
       "text": [
        "\n",
        "Partition 8 shapes are train (6147, 80), (6147, 1), val (2057, 80), (2057, 1), test (2049, 80), (2049, 1)"
       ]
      },
      {
       "output_type": "stream",
       "stream": "stdout",
       "text": [
        "\n",
        "Partition 9 shapes are train (6155, 80), (6155, 1), val (2049, 80), (2049, 1), test (2049, 80), (2049, 1)"
       ]
      },
      {
       "output_type": "stream",
       "stream": "stdout",
       "text": [
        "\n",
        "Partition 10 shapes are train (6155, 80), (6155, 1), val (2049, 80), (2049, 1), test (2049, 80), (2049, 1)"
       ]
      },
      {
       "output_type": "stream",
       "stream": "stdout",
       "text": [
        "\n",
        "Partition 11 shapes are train (6155, 80), (6155, 1), val (2049, 80), (2049, 1), test (2049, 80), (2049, 1)"
       ]
      },
      {
       "output_type": "stream",
       "stream": "stdout",
       "text": [
        "\n",
        "Partition 12 shapes are train (6147, 80), (6147, 1), val (2057, 80), (2057, 1), test (2049, 80), (2049, 1)"
       ]
      },
      {
       "output_type": "stream",
       "stream": "stdout",
       "text": [
        "\n",
        "Partition 13 shapes are train (6155, 80), (6155, 1), val (2049, 80), (2049, 1), test (2049, 80), (2049, 1)"
       ]
      },
      {
       "output_type": "stream",
       "stream": "stdout",
       "text": [
        "\n",
        "Partition 14 shapes are train (6155, 80), (6155, 1), val (2049, 80), (2049, 1), test (2049, 80), (2049, 1)"
       ]
      },
      {
       "output_type": "stream",
       "stream": "stdout",
       "text": [
        "\n",
        "Partition 15 shapes are train (6155, 80), (6155, 1), val (2049, 80), (2049, 1), test (2049, 80), (2049, 1)"
       ]
      },
      {
       "output_type": "stream",
       "stream": "stdout",
       "text": [
        "\n",
        "Partition 16 shapes are train (6147, 80), (6147, 1), val (2057, 80), (2057, 1), test (2049, 80), (2049, 1)"
       ]
      },
      {
       "output_type": "stream",
       "stream": "stdout",
       "text": [
        "\n",
        "Partition 17 shapes are train (6147, 80), (6147, 1), val (2049, 80), (2049, 1), test (2057, 80), (2057, 1)"
       ]
      },
      {
       "output_type": "stream",
       "stream": "stdout",
       "text": [
        "\n",
        "Partition 18 shapes are train (6147, 80), (6147, 1), val (2049, 80), (2049, 1), test (2057, 80), (2057, 1)"
       ]
      },
      {
       "output_type": "stream",
       "stream": "stdout",
       "text": [
        "\n",
        "Partition 19 shapes are train (6147, 80), (6147, 1), val (2049, 80), (2049, 1), test (2057, 80), (2057, 1)"
       ]
      },
      {
       "output_type": "stream",
       "stream": "stdout",
       "text": [
        "\n",
        "Partition 20 shapes are train (6147, 80), (6147, 1), val (2049, 80), (2049, 1), test (2057, 80), (2057, 1)"
       ]
      },
      {
       "output_type": "stream",
       "stream": "stdout",
       "text": [
        "\n"
       ]
      }
     ],
     "prompt_number": 110
    },
    {
     "cell_type": "code",
     "collapsed": false,
     "input": [
      "print('   nh            Train Acc    Val Acc      Test Acc')\n",
      "print(partitionResult)"
     ],
     "language": "python",
     "metadata": {},
     "outputs": [
      {
       "output_type": "stream",
       "stream": "stdout",
       "text": [
        "   nh            Train Acc    Val Acc      Test Acc\n",
        "[[  0.           1.           0.99804783   0.99951386]\n",
        " [  1.           0.72767204   0.72571986   0.73067574]\n",
        " [  5.           0.97283228   0.96730112   0.96110841]\n",
        " [ 10.           0.99967464   0.99853587   0.99902771]\n",
        " [ 20.           1.           0.99853587   1.        ]]\n"
       ]
      }
     ],
     "prompt_number": 111
    },
    {
     "cell_type": "code",
     "collapsed": false,
     "input": [
      "print('Best nh          Train Acc   Best Val Acc  Test Acc')\n",
      "print(np.array(results))"
     ],
     "language": "python",
     "metadata": {},
     "outputs": [
      {
       "output_type": "stream",
       "stream": "stdout",
       "text": [
        "Best nh          Train Acc   Best Val Acc  Test Acc\n",
        "[[  0.           1.           0.99951196   0.99755979]\n",
        " [  0.           1.           1.           0.99804783]\n",
        " [  5.           1.           0.99951196   0.99853587]\n",
        " [ 20.           1.           1.           0.99902391]\n",
        " [ 10.           1.           0.99951196   0.99853587]\n",
        " [  0.           0.99983753   1.           0.99853587]\n",
        " [ 20.           1.           0.99951196   0.99951196]\n",
        " [ 20.           1.           1.           0.99902391]\n",
        " [  0.           1.           0.99951196   0.99951196]\n",
        " [  0.           1.           0.99902391   1.        ]\n",
        " [ 20.           1.           0.99951196   1.        ]\n",
        " [  5.           0.99967464   1.           0.99951196]\n",
        " [ 20.           1.           0.99951196   0.99951196]\n",
        " [ 20.           1.           0.99951196   0.99951196]\n",
        " [  0.           1.           1.           0.99951196]\n",
        " [  5.           0.99983732   0.99902771   0.99804783]\n",
        " [ 10.           0.99983732   0.99902391   0.99854157]\n",
        " [ 10.           1.           0.99902391   0.99902771]\n",
        " [ 20.           1.           1.           1.        ]\n",
        " [ 10.           0.99967464   0.99853587   0.99902771]]\n"
       ]
      }
     ],
     "prompt_number": 112
    },
    {
     "cell_type": "code",
     "collapsed": false,
     "input": [
      "plt.hist(results[:,0]);\n",
      "plt.xlabel('Best Number of Hidden Units')\n",
      "plt.ylabel('Number of Partitions');"
     ],
     "language": "python",
     "metadata": {},
     "outputs": [
      {
       "metadata": {},
       "output_type": "display_data",
       "png": "[encoded data removed]",
       "text": [
        "<matplotlib.figure.Figure at 0x7fad9e3d9390>"
       ]
      }
     ],
     "prompt_number": 123
    },
    {
     "cell_type": "code",
     "collapsed": false,
     "input": [
      "print('Average Test Accuracy is {}'.format(np.mean(results[:,-1])))"
     ],
     "language": "python",
     "metadata": {},
     "outputs": [
      {
       "output_type": "stream",
       "stream": "stdout",
       "text": [
        "Average Test Accuracy is 0.999048980578643\n"
       ]
      }
     ],
     "prompt_number": 125
    },
    {
     "cell_type": "code",
     "collapsed": false,
     "input": [],
     "language": "python",
     "metadata": {},
     "outputs": []
    }
   ],
   "metadata": {}
  }
 ]
}